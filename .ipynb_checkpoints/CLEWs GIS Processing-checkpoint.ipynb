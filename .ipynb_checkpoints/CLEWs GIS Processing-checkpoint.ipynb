{
 "cells": [
  {
   "cell_type": "markdown",
   "metadata": {},
   "source": [
    "# CLEWs GIS processing notebook\n",
    "\n",
    "**Original code:** [Alexandros Korkovelos](https://github.com/akorkovelos) <br />\n",
    "**Supervision:** [Abhishek Shivakumar](https://github.com/abhishek0208) & [Thomas Alfstad]() <br />\n",
    "**Funding:** UN EAPD/DESA <br />\n",
    "\n",
    "---------------------------"
   ]
  },
  {
   "cell_type": "markdown",
   "metadata": {},
   "source": [
    "#### Brief overview\n",
    "\n",
    "This notebook performs three main analytical processes:\n",
    "\n",
    "- **Part 1**: Allocating spatial index to CLEWs clusters and/or creating new clusters based on administrative level(s)\n",
    "- **Part 2**: Extract GIS-based attributes to these clusters\n",
    "- **Part 3**: Calculates key summary statistics for the clusters & extract them into tabular format for further use in CLEWs modelling\n",
    "\n",
    "A slightly more detailed description of the processing bits is presented before each part below. <br />\n",
    "\n",
    "------------"
   ]
  },
  {
   "cell_type": "markdown",
   "metadata": {},
   "source": [
    "## Import necessary modules \n",
    "\n",
    "First things first, we need to import the necessary modules/libraries; please refer to the *clews_gis_work.yml* file for more info on the environment. You can use the yml file to directly set up the environment in conda (see [here](https://docs.conda.io/projects/conda/en/latest/user-guide/tasks/manage-environments.html#creating-an-environment-from-an-environment-yml-file) how). "
   ]
  },
  {
   "cell_type": "code",
   "execution_count": 1,
   "metadata": {
    "code_folding": [
     0
    ]
   },
   "outputs": [],
   "source": [
    "# Importing necessary python modules or libraries\n",
    "\n",
    "# Numerical\n",
    "import numpy as np\n",
    "import pandas as pd\n",
    "import math\n",
    "from math import *\n",
    "\n",
    "# Spatial\n",
    "import geopandas as gpd\n",
    "import rasterio\n",
    "import rasterio.fill\n",
    "from rasterstats import zonal_stats\n",
    "from geojson import Feature, Point, FeatureCollection\n",
    "import json\n",
    "from shapely.geometry import Polygon, Point\n",
    "from shapely.ops import nearest_points\n",
    "import ogr, gdal, osr\n",
    "from pyproj import CRS\n",
    "\n",
    "#Plotting\n",
    "import ipywidgets\n",
    "import plotly.graph_objects as go\n",
    "import plotly.express as px\n",
    "from IPython.display import display, Markdown, HTML\n",
    "import matplotlib.pyplot as plt\n",
    "%matplotlib inline\n",
    "\n",
    "# System & Other\n",
    "import time\n",
    "import os\n",
    "import datetime\n",
    "start_time = time.time()"
   ]
  },
  {
   "cell_type": "markdown",
   "metadata": {},
   "source": [
    "## Provide country code | type | crop name | clustering method | projection system"
   ]
  },
  {
   "cell_type": "code",
   "execution_count": 2,
   "metadata": {
    "code_folding": []
   },
   "outputs": [],
   "source": [
    "# Country name \n",
    "country_name = \"nam\"          # suggent using UN 3 letter ISO code\n",
    "\n",
    "# Topological classification \n",
    "landlocked = 0                # 1 for landlocked countries (e.g. Ethiopia); 0 for coastal or island countries (e.g. Sri Lanka)\n",
    "\n",
    "crop_name = [\"rcp\", \"sgc\", \"con\", \"mai\", \"ban\", \"jat\", \"cab\", \"oni\", \"cof\", \"oil\", \"bea\", \"pts\", \"tom\", \"ptw\", \"yam\", \"cas\"]    # suggent using 3 letter naming convention per crop\n",
    "\n",
    "clust_method = 0              # 0 for national or one region analysis\n",
    "                              # 1 for admin level 1 clustering \n",
    "                              # 2 for admin level 2 clustering\n",
    "                              # 3 for CLEWs clustering and \n",
    "                              # 4 for using custom clusters\n",
    "\n",
    "## Coordinate and projection systems\n",
    "crs_WGS84 = CRS(\"EPSG:4326\")    # Originan WGS84 coordinate system\n",
    "crs_proj = CRS(\"EPSG:32732\")    # Projection system for the selected country -- see http://epsg.io/ for more info"
   ]
  },
  {
   "cell_type": "markdown",
   "metadata": {},
   "source": [
    "## Provide paths and file names\n",
    "\n",
    "For easier replication of the code you may used the following directory structure:\n",
    "\n",
    "* **~root/country_name/input**    (a directory where your input data or files are stored)\n",
    "* **~root/global_raster_input**   (a directory where your attribute raster layers are stored)\n",
    "\n",
    "Results will be store in two automatically generated directories:\n",
    "* **~root/country_name/output**   (a directory where your output data or results are stored)\n",
    "* **~root/country_name/output/summary_stats**   (a directory where your tabular output data and graphs are stored)\n",
    "\n",
    "**Note!** In case you decide to use a different structure please revise the code below."
   ]
  },
  {
   "cell_type": "code",
   "execution_count": 3,
   "metadata": {
    "code_folding": []
   },
   "outputs": [],
   "source": [
    "# Directories\n",
    "ROOT_DIR = os.path.abspath(os.curdir)\n",
    "in_path = os.path.join(ROOT_DIR, country_name + \"\\\\\"+ 'input')\n",
    "in_path_raster = os.path.join(ROOT_DIR, 'global_raster_input')\n",
    "out_path = os.path.join(ROOT_DIR, country_name + \"\\\\\"+ 'output')\n",
    "if not os.path.exists(out_path):\n",
    "    try:\n",
    "        os.makedirs(out_path)\n",
    "    except OSError as exc: # Guard against race condition\n",
    "        if exc.errno != errno.EEXIST:\n",
    "            raise\n",
    "summary_stats_path = out_path + \"\\\\\" + \"summary_stats\"\n",
    "if not os.path.exists(summary_stats_path):\n",
    "    try:\n",
    "        os.makedirs(summary_stats_path)\n",
    "    except OSError as exc: # Guard against race condition\n",
    "        if exc.errno != errno.EEXIST:\n",
    "            raise\n",
    "\n",
    "# ascii file name\n",
    "asci_nm = '{}_data.asc'.format(country_name)\n",
    "\n",
    "# supporting raster name\n",
    "raster_nm = \"{}_data.tif\".format(country_name)\n",
    "\n",
    "# supporting vector point name\n",
    "shp_nm = \"{}_data.shp\".format(country_name)\n",
    "\n",
    "## Clustering method related variables\n",
    "admin0_nm = '{}_adm0.gpkg'.format(country_name)                   # administrative boundaries of the AoI - level0\n",
    "admin1_nm = '{}_adm1.gpkg'.format(country_name)                   # administrative boundaries of the AoI - level1\n",
    "admin2_nm = '{}_adm2.gpkg'.format(country_name)                   # administrative boundaries of the AoI - level2\n",
    "clust_nm = \"{}_clews_clusters.csv\".format(country_name)           # CLEWs cluster name\n",
    "cust_clus_nm = \"{}_custom_clusters.gpkg\".format(country_name)     # CLEWs cluster name\n",
    "\n",
    "# Name of final result file\n",
    "if clust_method == 0:\n",
    "    output_nm = \"{}_vector_{}_clusters\".format(country_name, \"admin0\")\n",
    "    result_nm = \"{}_vector_{}_clusters_with_attributes\".format(country_name, \"admin0\")\n",
    "elif clust_method == 1:\n",
    "    output_nm = \"{}_vector_{}_clusters\".format(country_name, \"admin1\")\n",
    "    result_nm = \"{}_vector_{}_clusters_with_attributes\".format(country_name, \"admin1\")\n",
    "elif clust_method == 2:\n",
    "    output_nm = \"{}_vector_{}_clusters\".format(country_name, \"admin2\")\n",
    "    result_nm = \"{}_vector_{}_clusters_with_attributes\".format(country_name, \"admin2\")\n",
    "elif clust_method == 3:\n",
    "    output_nm = \"{}_vector_{}_clusters\".format(country_name, \"clews\")\n",
    "    result_nm = \"{}_vector_{}_clusters_with_attributes\".format(country_name, \"clews\")\n",
    "else:\n",
    "    output_nm = \"{}_vector_{}_clusters\".format(country_name, \"custom\")\n",
    "    result_nm = \"{}_vector_{}_clusters_with_attributes\".format(country_name, \"custom\")"
   ]
  },
  {
   "cell_type": "markdown",
   "metadata": {},
   "source": [
    " "
   ]
  },
  {
   "cell_type": "markdown",
   "metadata": {},
   "source": [
    " "
   ]
  },
  {
   "cell_type": "markdown",
   "metadata": {},
   "source": [
    "# Part 1 - Creating clustered polygons from ascii grid"
   ]
  },
  {
   "cell_type": "markdown",
   "metadata": {},
   "source": [
    "The code in this part, creates vector polygons covering a clusterized area of interest\n",
    "\n",
    "We focus on three types of clusters:\n",
    "\n",
    "- Based on admin level 1\n",
    "- Based on admin level 2\n",
    "- Based on CLEWs clusters (read more about that [here](https://clews-gis.readthedocs.io/en/latest/))\n",
    "\n",
    "The latter is the reason we use GAEZ ascii grid as an input; that is, to be able to provide a spatial index to the CLEWs derived clusters, which are defined based on the row, col of that grid. \n",
    "\n",
    "The polygons provide higher flexibility in extracting numerical and (especially) categorical raster layer stats, which might come at various spatial resolutions.  \n",
    "\n",
    "In brief, the process has as follows:\n",
    "\n",
    "- First (**Step 1**), we import a sample ascii grid file using rasterio and convert it into a tif. We use a bundle of functions to parse the tif in the form of an array, and use gdal to convert the array to a point vector. Together with the coordinates for each vector point, we extract the equivalent row/col index from the initial file. This allows to create an \"id\" which can be used as a merger attribute with data that do not have spatial index (e.g. CLEWs clusters).\n",
    "- Having that in place, we are then (**Step 2**) able to assign cluster name for each vector point based on location and/or id (for the case of CLEWs clusters).\n",
    "- In **Step 3** we convert the vector points to polygons; there are two suggested approaches here a) based on median lat and b) based on each feature lat/lon. \n",
    "- In **Step 4**, we do a simple analysis including clipping to the AoI extent and making sure that polygons at the admin borders are assigned to the nearest cluster and are properly attributes (e.g. area).\n",
    "- Finally, in **Step 5** we calibrate the area of each polygon in order to match the total national area estimated by the admin source. \n",
    "\n",
    "After merging and cleaning and final checking the notebook yields a vector polygon layer with the spatial resolution of the input ascii layer. The output layer creates the base for further spatially explicit information extraction!"
   ]
  },
  {
   "cell_type": "markdown",
   "metadata": {},
   "source": [
    "## Step 1. Provide spatial index to the tabular cluster data"
   ]
  },
  {
   "cell_type": "markdown",
   "metadata": {},
   "source": [
    "### Open an ascii grid file | re-write as tif\n",
    "\n",
    "This is a pre-requisite step if one starts with an ascii base grid. The step can be omitted if the base grid is already a tiff"
   ]
  },
  {
   "cell_type": "code",
   "execution_count": 4,
   "metadata": {
    "code_folding": [
     0
    ]
   },
   "outputs": [],
   "source": [
    "# Import ascii and export as tif\n",
    "\n",
    "with rasterio.open(in_path + '\\\\' + asci_nm) as src:\n",
    "    data = src.read(1)                  # The number defined the band, not that changing data might require change of band\n",
    "\n",
    "    #Export ascii as tif for easier processing\n",
    "    with rasterio.open(out_path +\"\\\\\" + raster_nm, \n",
    "                       'w', \n",
    "                       driver='GTiff', \n",
    "                       height=data.shape[0], \n",
    "                       width=data.shape[1], \n",
    "                       count=data.shape[1],\n",
    "                       dtype=data.dtype,\n",
    "                       crs=src.crs,\n",
    "                       transform=src.transform) as dst:\n",
    "        dst.write(data, 3) \n",
    "        \n",
    "resolution = src.res[0]"
   ]
  },
  {
   "cell_type": "code",
   "execution_count": 5,
   "metadata": {},
   "outputs": [
    {
     "data": {
      "image/png": "[encoded data removed]",
      "text/plain": [
       "<Figure size 864x864 with 1 Axes>"
      ]
     },
     "metadata": {
      "needs_background": "light"
     },
     "output_type": "display_data"
    }
   ],
   "source": [
    "plt.figure(figsize = (12,12))\n",
    "plt.imshow(data, cmap='viridis')\n",
    "plt.show()"
   ]
  },
  {
   "cell_type": "markdown",
   "metadata": {},
   "source": [
    "**Note!**\n",
    "\n",
    "Rasterio imports raster files as 2-d arrays. The dimensions of the array are related to the spatial resolution of the imported layer. Individual values can be access in common practice as in numpy arrays. "
   ]
  },
  {
   "cell_type": "markdown",
   "metadata": {},
   "source": [
    "### Import tif and transform it to point vector"
   ]
  },
  {
   "cell_type": "code",
   "execution_count": 6,
   "metadata": {
    "code_folding": [
     0
    ]
   },
   "outputs": [],
   "source": [
    "# Define functions\n",
    "\n",
    "def pixelOffset2coord(raster, xOffset,yOffset):\n",
    "    geotransform = raster.GetGeoTransform()\n",
    "    originX = geotransform[0]+(geotransform[1]/2)     # this is to get the center of each pixel; remove all after + for getting the corners of the pixel\n",
    "    originY = geotransform[3]+(geotransform[5]/2)     # this is to get the center of each pixel; remove all after + for getting the corners of the pixel\n",
    "    pixelWidth = geotransform[1]\n",
    "    pixelHeight = geotransform[5]\n",
    "    coordX = originX+pixelWidth*xOffset\n",
    "    coordY = originY+pixelHeight*yOffset\n",
    "    return coordX, coordY\n",
    "\n",
    "def raster2array(rasterfn, band_no):\n",
    "    raster = gdal.Open(rasterfn)\n",
    "    band = raster.GetRasterBand(band_no)    # Be aware of the band you need here\n",
    "    array = band.ReadAsArray()\n",
    "    return array\n",
    "\n",
    "def array2shp(array,outSHPfn,rasterfn):\n",
    "\n",
    "    # max distance between points\n",
    "    raster = gdal.Open(rasterfn)\n",
    "    geotransform = raster.GetGeoTransform()\n",
    "    pixelWidth = geotransform[1]\n",
    "\n",
    "    srs = osr.SpatialReference()\n",
    "    srs.ImportFromWkt(raster.GetProjection())\n",
    "    \n",
    "    # wkbPoint\n",
    "    shpDriver = ogr.GetDriverByName(\"ESRI Shapefile\")\n",
    "    if os.path.exists(outSHPfn):\n",
    "        shpDriver.DeleteDataSource(outSHPfn)\n",
    "    outDataSource = shpDriver.CreateDataSource(outSHPfn)\n",
    "    outLayer = outDataSource.CreateLayer(outSHPfn, geom_type=ogr.wkbPoint, srs=srs )\n",
    "    featureDefn = outLayer.GetLayerDefn()\n",
    "    outLayer.CreateField(ogr.FieldDefn(\"VALUE\", ogr.OFTString))\n",
    "\n",
    "    # array2dict\n",
    "    point = ogr.Geometry(ogr.wkbPoint)\n",
    "    row_count = array.shape[0]\n",
    "    for ridx, row in enumerate(array):\n",
    "        if ridx % 10 == 0:\n",
    "            print (\"{0} of {1} rows processed\".format(ridx, row_count))\n",
    "        for cidx, value in enumerate(row):\n",
    "            index = str(ridx) + \"_\" + str(cidx)\n",
    "            Xcoord, Ycoord = pixelOffset2coord(raster,cidx,ridx)\n",
    "            point.AddPoint(Xcoord, Ycoord)\n",
    "            # Create the feature and set values\n",
    "            outFeature = ogr.Feature(featureDefn)\n",
    "            outFeature.SetGeometry(point)\n",
    "            outFeature.SetField(\"VALUE\", str(index))\n",
    "            outLayer.CreateFeature(outFeature)\n",
    "            outFeature.Destroy()\n",
    "            #outDS.Destroy()\n",
    "    print (\"\\nProcess completed!\")\n",
    "\n",
    "def main(rasterfn,outSHPfn, band_no):\n",
    "    array = raster2array(rasterfn, band_no)\n",
    "    array2shp(array,outSHPfn,rasterfn)"
   ]
  },
  {
   "cell_type": "code",
   "execution_count": 7,
   "metadata": {
    "code_folding": [
     0
    ]
   },
   "outputs": [
    {
     "name": "stdout",
     "output_type": "stream",
     "text": [
      "0 of 146 rows processed\n",
      "10 of 146 rows processed\n",
      "20 of 146 rows processed\n",
      "30 of 146 rows processed\n",
      "40 of 146 rows processed\n",
      "50 of 146 rows processed\n",
      "60 of 146 rows processed\n",
      "70 of 146 rows processed\n",
      "80 of 146 rows processed\n",
      "90 of 146 rows processed\n",
      "100 of 146 rows processed\n",
      "110 of 146 rows processed\n",
      "120 of 146 rows processed\n",
      "130 of 146 rows processed\n",
      "140 of 146 rows processed\n",
      "\n",
      "Process completed!\n"
     ]
    }
   ],
   "source": [
    "# Provide the input raster and give a name to the output transformed vector\n",
    "raster = out_path + \"\\\\\" + raster_nm\n",
    "outSHP = out_path + \"\\\\\" + shp_nm\n",
    "\n",
    "# Run the function\n",
    "main(raster,outSHP, band_no=1)"
   ]
  },
  {
   "cell_type": "markdown",
   "metadata": {},
   "source": [
    "### Import vector point layer into a geo-dataframe"
   ]
  },
  {
   "cell_type": "code",
   "execution_count": 8,
   "metadata": {
    "code_folding": [
     0
    ]
   },
   "outputs": [],
   "source": [
    "# Create a new geo-dataframe\n",
    "data_gdf = gpd.read_file(out_path + \"\\\\\" + shp_nm)\n",
    "\n",
    "# Assign crs\n",
    "data_gdf.crs = crs_WGS84"
   ]
  },
  {
   "cell_type": "code",
   "execution_count": 9,
   "metadata": {},
   "outputs": [
    {
     "data": {
      "text/html": [
       "<div>\n",
       "<style scoped>\n",
       "    .dataframe tbody tr th:only-of-type {\n",
       "        vertical-align: middle;\n",
       "    }\n",
       "\n",
       "    .dataframe tbody tr th {\n",
       "        vertical-align: top;\n",
       "    }\n",
       "\n",
       "    .dataframe thead th {\n",
       "        text-align: right;\n",
       "    }\n",
       "</style>\n",
       "<table border=\"1\" class=\"dataframe\">\n",
       "  <thead>\n",
       "    <tr style=\"text-align: right;\">\n",
       "      <th></th>\n",
       "      <th>VALUE</th>\n",
       "      <th>geometry</th>\n",
       "    </tr>\n",
       "  </thead>\n",
       "  <tbody>\n",
       "    <tr>\n",
       "      <th>0</th>\n",
       "      <td>0_0</td>\n",
       "      <td>POINT (11.62500 -16.95833)</td>\n",
       "    </tr>\n",
       "    <tr>\n",
       "      <th>1</th>\n",
       "      <td>0_1</td>\n",
       "      <td>POINT (11.70833 -16.95833)</td>\n",
       "    </tr>\n",
       "    <tr>\n",
       "      <th>2</th>\n",
       "      <td>0_2</td>\n",
       "      <td>POINT (11.79167 -16.95833)</td>\n",
       "    </tr>\n",
       "  </tbody>\n",
       "</table>\n",
       "</div>"
      ],
      "text/plain": [
       "  VALUE                    geometry\n",
       "0   0_0  POINT (11.62500 -16.95833)\n",
       "1   0_1  POINT (11.70833 -16.95833)\n",
       "2   0_2  POINT (11.79167 -16.95833)"
      ]
     },
     "execution_count": 9,
     "metadata": {},
     "output_type": "execute_result"
    }
   ],
   "source": [
    "data_gdf.head(3)"
   ]
  },
  {
   "cell_type": "markdown",
   "metadata": {},
   "source": [
    "**Note!**\n",
    "\n",
    "VALUE has been retrieved from the ascii file; it denotes the number of row and column in the initial layer, split by the underscore delimiter. We may use the following function to a) split them into two different columns and b) create a tuple from their combination (this is needed in case we follow the CLEWs clustering approach). "
   ]
  },
  {
   "cell_type": "code",
   "execution_count": 10,
   "metadata": {
    "code_folding": [
     0
    ]
   },
   "outputs": [],
   "source": [
    "def create_rowcol_columns(df):\n",
    "    \n",
    "    # Split the Value to rows and columns\n",
    "    split = df[\"VALUE\"].str.split(\"_\", n = 1, expand = True)\n",
    "    \n",
    "    # Drop the VALUE as it has served its purpose\n",
    "    df = df.drop([\"VALUE\"], axis=1)\n",
    "    \n",
    "    # Add the separate columns back to the dataframe\n",
    "    df[\"row\"] = split[0]\n",
    "    df[\"col\"] = split[1]\n",
    "    \n",
    "    # Change dtype of columns from str to int\n",
    "    df[\"row\"] = df[\"row\"].astype(np.int)\n",
    "    df[\"col\"] = df[\"col\"].astype(np.int)\n",
    "    \n",
    "    # Create a tuple id to use for merging later on\n",
    "    df[\"id\"] = list(zip(df.row, df.col)) \n",
    "    \n",
    "    return df"
   ]
  },
  {
   "cell_type": "code",
   "execution_count": 11,
   "metadata": {},
   "outputs": [],
   "source": [
    "data_gdf = create_rowcol_columns(data_gdf)"
   ]
  },
  {
   "cell_type": "code",
   "execution_count": 12,
   "metadata": {},
   "outputs": [
    {
     "data": {
      "text/html": [
       "<div>\n",
       "<style scoped>\n",
       "    .dataframe tbody tr th:only-of-type {\n",
       "        vertical-align: middle;\n",
       "    }\n",
       "\n",
       "    .dataframe tbody tr th {\n",
       "        vertical-align: top;\n",
       "    }\n",
       "\n",
       "    .dataframe thead th {\n",
       "        text-align: right;\n",
       "    }\n",
       "</style>\n",
       "<table border=\"1\" class=\"dataframe\">\n",
       "  <thead>\n",
       "    <tr style=\"text-align: right;\">\n",
       "      <th></th>\n",
       "      <th>geometry</th>\n",
       "      <th>row</th>\n",
       "      <th>col</th>\n",
       "      <th>id</th>\n",
       "    </tr>\n",
       "  </thead>\n",
       "  <tbody>\n",
       "    <tr>\n",
       "      <th>0</th>\n",
       "      <td>POINT (11.62500 -16.95833)</td>\n",
       "      <td>0</td>\n",
       "      <td>0</td>\n",
       "      <td>(0, 0)</td>\n",
       "    </tr>\n",
       "    <tr>\n",
       "      <th>1</th>\n",
       "      <td>POINT (11.70833 -16.95833)</td>\n",
       "      <td>0</td>\n",
       "      <td>1</td>\n",
       "      <td>(0, 1)</td>\n",
       "    </tr>\n",
       "    <tr>\n",
       "      <th>2</th>\n",
       "      <td>POINT (11.79167 -16.95833)</td>\n",
       "      <td>0</td>\n",
       "      <td>2</td>\n",
       "      <td>(0, 2)</td>\n",
       "    </tr>\n",
       "  </tbody>\n",
       "</table>\n",
       "</div>"
      ],
      "text/plain": [
       "                     geometry  row  col      id\n",
       "0  POINT (11.62500 -16.95833)    0    0  (0, 0)\n",
       "1  POINT (11.70833 -16.95833)    0    1  (0, 1)\n",
       "2  POINT (11.79167 -16.95833)    0    2  (0, 2)"
      ]
     },
     "execution_count": 12,
     "metadata": {},
     "output_type": "execute_result"
    }
   ],
   "source": [
    "data_gdf.head(3)"
   ]
  },
  {
   "cell_type": "markdown",
   "metadata": {},
   "source": [
    "## Step 2. Assign cluster name to points"
   ]
  },
  {
   "cell_type": "code",
   "execution_count": 13,
   "metadata": {
    "code_folding": [
     0
    ]
   },
   "outputs": [],
   "source": [
    "def cleaning_string_attributes(df, column_name):\n",
    "    df[column_name].replace(\"-\", '_', regex=True, inplace=True)\n",
    "    df[column_name].replace(\" \", '_', regex=True, inplace=True)\n",
    "    df[column_name].replace(\"/\", '_', regex=True, inplace=True)\n",
    "    df[column_name].replace(\"'\", '_', regex=True, inplace=True)\n",
    "    df[column_name].replace(\"é\", 'e', regex=True, inplace=True)\n",
    "    df[column_name].replace(\"î\", 'i', regex=True, inplace=True)\n",
    "    df[column_name].replace(\"ï\", 'i', regex=True, inplace=True)\n",
    "    df[column_name].replace(\"ô\", 'o', regex=True, inplace=True)\n",
    "    df[column_name].replace(\"Ö\", 'o', regex=True, inplace=True)\n",
    "    df[column_name].replace(\"è\", 'e', regex=True, inplace=True)\n",
    "    df[column_name].replace(\"à\", 'a', regex=True, inplace=True)\n",
    "    df[column_name].replace(\"\", 'NaN', regex=True, inplace=True)\n",
    "    df[column_name].fillna(value=np.nan, inplace=True)\n",
    "    return df"
   ]
  },
  {
   "cell_type": "markdown",
   "metadata": {},
   "source": [
    "**Note!**\n",
    "\n",
    "The admin column names used in the code (e.g. \"ADM1_NAME, or \"NAME_0) might require changing depending on the source of those layers."
   ]
  },
  {
   "cell_type": "code",
   "execution_count": 14,
   "metadata": {
    "code_folding": []
   },
   "outputs": [],
   "source": [
    "## Import admin layer accordingly\n",
    "\n",
    "if clust_method == 0:\n",
    "    \n",
    "    ##  Read admin layer as geodataframe\n",
    "    admin = gpd.read_file(in_path + \"\\\\\" + admin0_nm)\n",
    "    admin = admin.to_crs(crs_WGS84)\n",
    "    admin = cleaning_string_attributes(admin, \"NAME_0\")\n",
    "    \n",
    "    #Spatial join\n",
    "    data_gdf_admin = gpd.sjoin(data_gdf, admin[[\"geometry\", \"NAME_0\"]], op='within').drop(['index_right'], axis=1)\n",
    "    data_gdf_admin.rename(columns={'NAME_0': 'cluster'}, inplace=True)\n",
    "    # merge datasets on id\n",
    "    clustered_GAEZ_gdf = data_gdf.merge(data_gdf_admin, on=[\"id\"], how=\"left\").drop(['id','row_y', 'col_y', \"geometry_y\"], axis=1)\n",
    "    clustered_GAEZ_gdf.rename(columns={'row_x': 'row', 'col_x': 'col', 'geometry_x': 'geometry'}, inplace=True)\n",
    "    clustered_GAEZ_gdf = gpd.GeoDataFrame(clustered_GAEZ_gdf, geometry=\"geometry\")\n",
    "\n",
    "elif clust_method == 1:\n",
    "    \n",
    "    ##  Read admin layer as geodataframe\n",
    "    admin = gpd.read_file(in_path + \"\\\\\" + admin1_nm)\n",
    "    admin = admin.to_crs(crs_WGS84)\n",
    "    admin = cleaning_string_attributes(admin, \"NAME_1\")\n",
    "    \n",
    "    #Spatial join\n",
    "    data_gdf_admin = gpd.sjoin(data_gdf, admin[[\"geometry\", \"NAME_1\"]], op='within').drop(['index_right'], axis=1)\n",
    "    data_gdf_admin.rename(columns={'NAME_1': 'cluster'}, inplace=True)\n",
    "    # merge datasets on id\n",
    "    clustered_GAEZ_gdf = data_gdf.merge(data_gdf_admin, on=[\"id\"], how=\"left\").drop(['id','row_y', 'col_y', \"geometry_y\"], axis=1)\n",
    "    clustered_GAEZ_gdf.rename(columns={'row_x': 'row', 'col_x': 'col', 'geometry_x': 'geometry'}, inplace=True)\n",
    "    clustered_GAEZ_gdf = gpd.GeoDataFrame(clustered_GAEZ_gdf, geometry=\"geometry\")\n",
    "    \n",
    "    \n",
    "elif clust_method == 2:\n",
    "\n",
    "    ##  Read admin layer as geodataframe\n",
    "    admin = gpd.read_file(in_path + \"\\\\\" + admin2_nm)\n",
    "    admin = admin.to_crs(crs_WGS84)\n",
    "    admin = cleaning_string_attributes(admin, \"NAME_2\")\n",
    "    \n",
    "    #Spatial join\n",
    "    data_gdf_admin = gpd.sjoin(data_gdf, admin[[\"geometry\", \"NAME_2\"]], op='within').drop(['index_right'], axis=1)\n",
    "    data_gdf_admin.rename(columns={'NAME_2': 'cluster'}, inplace=True)\n",
    "    # merge datasets on id\n",
    "    clustered_GAEZ_gdf = data_gdf.merge(data_gdf_admin, on=[\"id\"], how=\"left\").drop(['id','row_y', 'col_y', \"geometry_y\"], axis=1)\n",
    "    clustered_GAEZ_gdf.rename(columns={'row_x': 'row', 'col_x': 'col', 'geometry_x': 'geometry'}, inplace=True)\n",
    "    clustered_GAEZ_gdf = gpd.GeoDataFrame(clustered_GAEZ_gdf, geometry=\"geometry\")\n",
    "    \n",
    "    \n",
    "elif clust_method == 3:\n",
    "    ##  Read admin layer as geodataframe\n",
    "    admin = gpd.read_file(in_path + \"\\\\\" + admin0_nm)\n",
    "    admin = admin.to_crs(crs_WGS84)\n",
    "    admin = cleaning_string_attributes(admin, \"NAME_0\")\n",
    "    \n",
    "    # Import csv as pandas dataframe\n",
    "    cluster_data = pd.read_csv(in_path + \"\\\\\" + clust_nm)\n",
    "    # Create a tuple id to be used for merging\n",
    "    cluster_data['id'] = list(zip(cluster_data.row, cluster_data.col))\n",
    "    # merge datasets on id\n",
    "    clustered_GAEZ_gdf = data_gdf.merge(cluster_data, on=[\"id\"], how=\"left\").drop(['id','row_y', 'col_y'], axis=1)\n",
    "    clustered_GAEZ_gdf.rename(columns={'row_x': 'row', 'col_x': 'col'}, inplace=True)\n",
    "    \n",
    "elif clust_method == 4:\n",
    "    ##  Read admin layer as geodataframe\n",
    "    admin = gpd.read_file(in_path + \"\\\\\" + cust_clus_nm)\n",
    "    admin = admin.to_crs(crs_WGS84)\n",
    "    admin = cleaning_string_attributes(admin, \"PFAF_ID\")\n",
    "    \n",
    "    #Spatial join\n",
    "    data_gdf_admin = gpd.sjoin(data_gdf, admin[[\"geometry\", \"PFAF_ID\"]], op='within').drop(['index_right'], axis=1)\n",
    "    data_gdf_admin.rename(columns={'PFAF_ID': 'cluster'}, inplace=True)\n",
    "    # merge datasets on id\n",
    "    clustered_GAEZ_gdf = data_gdf.merge(data_gdf_admin, on=[\"id\"], how=\"left\").drop(['id','row_y', 'col_y', \"geometry_y\"], axis=1)\n",
    "    clustered_GAEZ_gdf.rename(columns={'row_x': 'row', 'col_x': 'col', 'geometry_x': 'geometry'}, inplace=True)\n",
    "    clustered_GAEZ_gdf = gpd.GeoDataFrame(clustered_GAEZ_gdf, geometry=\"geometry\")\n",
    "    \n",
    "else:\n",
    "    print (\"Please specify clustering method to proceed\")"
   ]
  },
  {
   "cell_type": "code",
   "execution_count": 15,
   "metadata": {},
   "outputs": [
    {
     "data": {
      "text/html": [
       "<div>\n",
       "<style scoped>\n",
       "    .dataframe tbody tr th:only-of-type {\n",
       "        vertical-align: middle;\n",
       "    }\n",
       "\n",
       "    .dataframe tbody tr th {\n",
       "        vertical-align: top;\n",
       "    }\n",
       "\n",
       "    .dataframe thead th {\n",
       "        text-align: right;\n",
       "    }\n",
       "</style>\n",
       "<table border=\"1\" class=\"dataframe\">\n",
       "  <thead>\n",
       "    <tr style=\"text-align: right;\">\n",
       "      <th></th>\n",
       "      <th>geometry</th>\n",
       "      <th>row</th>\n",
       "      <th>col</th>\n",
       "      <th>cluster</th>\n",
       "    </tr>\n",
       "  </thead>\n",
       "  <tbody>\n",
       "    <tr>\n",
       "      <th>2889</th>\n",
       "      <td>POINT (20.04167 -18.37500)</td>\n",
       "      <td>17</td>\n",
       "      <td>101</td>\n",
       "      <td>NAMIBIA</td>\n",
       "    </tr>\n",
       "    <tr>\n",
       "      <th>6647</th>\n",
       "      <td>POINT (18.87500 -20.29167)</td>\n",
       "      <td>40</td>\n",
       "      <td>87</td>\n",
       "      <td>NAMIBIA</td>\n",
       "    </tr>\n",
       "    <tr>\n",
       "      <th>18389</th>\n",
       "      <td>POINT (13.37500 -26.29167)</td>\n",
       "      <td>112</td>\n",
       "      <td>21</td>\n",
       "      <td>NaN</td>\n",
       "    </tr>\n",
       "  </tbody>\n",
       "</table>\n",
       "</div>"
      ],
      "text/plain": [
       "                         geometry  row  col  cluster\n",
       "2889   POINT (20.04167 -18.37500)   17  101  NAMIBIA\n",
       "6647   POINT (18.87500 -20.29167)   40   87  NAMIBIA\n",
       "18389  POINT (13.37500 -26.29167)  112   21      NaN"
      ]
     },
     "execution_count": 15,
     "metadata": {},
     "output_type": "execute_result"
    }
   ],
   "source": [
    "clustered_GAEZ_gdf.sample(3)"
   ]
  },
  {
   "cell_type": "markdown",
   "metadata": {},
   "source": [
    "At this point each vector point represents a particular location on the map -it has certain coordinates- and is categorized into a cluster based on the users selection."
   ]
  },
  {
   "cell_type": "markdown",
   "metadata": {},
   "source": [
    "## Step 3. Converting points to polygons\n",
    "This allows further flexibility in the extraction of raster values using stats. In any case we have the lat,lon coordinates of each point so it is easy to revert to the point geometry. Here, we create a rectangular, buffer-based polygon around each point. \n",
    "\n",
    "The buffered polygon shall split \"equally\" the area between neighbor points; therefore, the buffer used shall be the half of the distance between two neighbor points. This, in turn depends on the location of the AoI on earth and the projection system used. \n",
    "\n",
    "We suggest two approaches described below."
   ]
  },
  {
   "cell_type": "markdown",
   "metadata": {},
   "source": [
    "### Assigning CRS | projecting | adding lat, lon coordinates in degrees"
   ]
  },
  {
   "cell_type": "code",
   "execution_count": 16,
   "metadata": {},
   "outputs": [],
   "source": [
    "clustered_GAEZ_gdf.crs = crs_WGS84"
   ]
  },
  {
   "cell_type": "code",
   "execution_count": 17,
   "metadata": {},
   "outputs": [
    {
     "name": "stderr",
     "output_type": "stream",
     "text": [
      "<ipython-input-17-c1a650f5b317>:1: UserWarning: Geometry is in a geographic CRS. Results from 'centroid' are likely incorrect. Use 'GeoSeries.to_crs()' to re-project geometries to a projected CRS before this operation.\n",
      "\n",
      "  clustered_GAEZ_gdf[\"lon\"] = clustered_GAEZ_gdf.geometry.centroid.x\n",
      "<ipython-input-17-c1a650f5b317>:2: UserWarning: Geometry is in a geographic CRS. Results from 'centroid' are likely incorrect. Use 'GeoSeries.to_crs()' to re-project geometries to a projected CRS before this operation.\n",
      "\n",
      "  clustered_GAEZ_gdf[\"lat\"] = clustered_GAEZ_gdf.geometry.centroid.y\n"
     ]
    }
   ],
   "source": [
    "clustered_GAEZ_gdf[\"lon\"] = clustered_GAEZ_gdf.geometry.centroid.x\n",
    "clustered_GAEZ_gdf[\"lat\"] = clustered_GAEZ_gdf.geometry.centroid.y"
   ]
  },
  {
   "cell_type": "code",
   "execution_count": 18,
   "metadata": {},
   "outputs": [
    {
     "data": {
      "text/html": [
       "<div>\n",
       "<style scoped>\n",
       "    .dataframe tbody tr th:only-of-type {\n",
       "        vertical-align: middle;\n",
       "    }\n",
       "\n",
       "    .dataframe tbody tr th {\n",
       "        vertical-align: top;\n",
       "    }\n",
       "\n",
       "    .dataframe thead th {\n",
       "        text-align: right;\n",
       "    }\n",
       "</style>\n",
       "<table border=\"1\" class=\"dataframe\">\n",
       "  <thead>\n",
       "    <tr style=\"text-align: right;\">\n",
       "      <th></th>\n",
       "      <th>geometry</th>\n",
       "      <th>row</th>\n",
       "      <th>col</th>\n",
       "      <th>cluster</th>\n",
       "      <th>lon</th>\n",
       "      <th>lat</th>\n",
       "    </tr>\n",
       "  </thead>\n",
       "  <tbody>\n",
       "    <tr>\n",
       "      <th>0</th>\n",
       "      <td>POINT (11.62500 -16.95833)</td>\n",
       "      <td>0</td>\n",
       "      <td>0</td>\n",
       "      <td>NaN</td>\n",
       "      <td>11.625000</td>\n",
       "      <td>-16.958333</td>\n",
       "    </tr>\n",
       "    <tr>\n",
       "      <th>1</th>\n",
       "      <td>POINT (11.70833 -16.95833)</td>\n",
       "      <td>0</td>\n",
       "      <td>1</td>\n",
       "      <td>NaN</td>\n",
       "      <td>11.708333</td>\n",
       "      <td>-16.958333</td>\n",
       "    </tr>\n",
       "  </tbody>\n",
       "</table>\n",
       "</div>"
      ],
      "text/plain": [
       "                     geometry  row  col cluster        lon        lat\n",
       "0  POINT (11.62500 -16.95833)    0    0     NaN  11.625000 -16.958333\n",
       "1  POINT (11.70833 -16.95833)    0    1     NaN  11.708333 -16.958333"
      ]
     },
     "execution_count": 18,
     "metadata": {},
     "output_type": "execute_result"
    }
   ],
   "source": [
    "clustered_GAEZ_gdf.head(2)"
   ]
  },
  {
   "cell_type": "code",
   "execution_count": 19,
   "metadata": {},
   "outputs": [],
   "source": [
    "buffer_value = resolution/2"
   ]
  },
  {
   "cell_type": "code",
   "execution_count": 20,
   "metadata": {},
   "outputs": [],
   "source": [
    "## cap_style refers to the type of geometry generated; 3=rectangular (see shapely documectation for more info -- https://shapely.readthedocs.io/en/stable/manual.html)\n",
    "clustered_GAEZ_gdf['geometry'] = clustered_GAEZ_gdf.apply(lambda x:\n",
    "                                                          x.geometry.buffer(buffer_value, cap_style=3), axis=1)"
   ]
  },
  {
   "cell_type": "markdown",
   "metadata": {},
   "source": [
    "**Note!** Several features are not classified into a cluster. While points away of the administrative borders will be cut out of the analysis, some points right next to the outer administrative borders might create inconsistency when calculating area. In the following section we are dealing with this problem."
   ]
  },
  {
   "cell_type": "markdown",
   "metadata": {},
   "source": [
    "   "
   ]
  },
  {
   "cell_type": "markdown",
   "metadata": {},
   "source": [
    "<font color='red'>**Note!** In case you run using clust_method == 0 you **SHOULD SKIP** Step 4. Go directly to Step 5</font>"
   ]
  },
  {
   "cell_type": "markdown",
   "metadata": {},
   "source": [
    "## Step 4. Fixing missing values"
   ]
  },
  {
   "cell_type": "markdown",
   "metadata": {},
   "source": [
    "### Adding an index column\n",
    "(for easier identification/selection later on)"
   ]
  },
  {
   "cell_type": "code",
   "execution_count": 21,
   "metadata": {},
   "outputs": [],
   "source": [
    "clustered_GAEZ_gdf['index'] = range(1, len(data_gdf)+1)"
   ]
  },
  {
   "cell_type": "markdown",
   "metadata": {},
   "source": [
    "### Reduce running types | reassure expected output"
   ]
  },
  {
   "cell_type": "markdown",
   "metadata": {},
   "source": [
    "**Note** \n",
    "\n",
    "The following part may lead to varying running times. In favor of reducing running times, we may clip of the vector polygons to the country extent using **national administrative boundaries** \n",
    "\n",
    "Clipping will not create any problems to landlocked countries (e.g. Ethiopia) as their borders are mostly covered by land. Therefore recommended in such cases.\n",
    "\n",
    "However, for coastal or island countries (e.g. Sri Lanka) the algorithm may miss border clusters with very little land cover (e.g. few disperse, small islands). In order to prevent this from happening, we run the nearest neighbor algorithm over the whole extent of the gridded country and clip to the country extent at the end.\n",
    "\n",
    "You may run either of the versions as you see necessary; here we use the **\"landlocked\"** variable to make a simple distinction between the two. "
   ]
  },
  {
   "cell_type": "code",
   "execution_count": 22,
   "metadata": {
    "code_folding": []
   },
   "outputs": [],
   "source": [
    "# Clip based on topology of the selected country\n",
    "if landlocked == 1:\n",
    "    clustered_GAEZ_gdf = gpd.clip(clustered_GAEZ_gdf, admin)\n",
    "else:\n",
    "    clustered_GAEZ_gdf = clustered_GAEZ_gdf"
   ]
  },
  {
   "cell_type": "markdown",
   "metadata": {},
   "source": [
    "### Split vector points based on cluster assignment "
   ]
  },
  {
   "cell_type": "code",
   "execution_count": 23,
   "metadata": {},
   "outputs": [],
   "source": [
    "# Change type of cluster column to string for next step's selection\n",
    "clustered_GAEZ_gdf.cluster = clustered_GAEZ_gdf.cluster.astype(str)"
   ]
  },
  {
   "cell_type": "markdown",
   "metadata": {},
   "source": [
    "Points within admin boundaries that are assigned to a cluster"
   ]
  },
  {
   "cell_type": "code",
   "execution_count": 24,
   "metadata": {},
   "outputs": [
    {
     "name": "stderr",
     "output_type": "stream",
     "text": [
      "<ipython-input-24-ddada813bf57>:2: UserWarning: Geometry is in a geographic CRS. Results from 'centroid' are likely incorrect. Use 'GeoSeries.to_crs()' to re-project geometries to a projected CRS before this operation.\n",
      "\n",
      "  clustered_GAEZ_gdf_non_nan.geometry = clustered_GAEZ_gdf_non_nan.geometry.centroid\n",
      "C:\\Users\\alexl\\anaconda3\\envs\\clews_gis_work\\lib\\site-packages\\geopandas\\geodataframe.py:853: SettingWithCopyWarning: \n",
      "A value is trying to be set on a copy of a slice from a DataFrame.\n",
      "Try using .loc[row_indexer,col_indexer] = value instead\n",
      "\n",
      "See the caveats in the documentation: https://pandas.pydata.org/pandas-docs/stable/user_guide/indexing.html#returning-a-view-versus-a-copy\n",
      "  super(GeoDataFrame, self).__setitem__(key, value)\n"
     ]
    },
    {
     "data": {
      "text/html": [
       "<div>\n",
       "<style scoped>\n",
       "    .dataframe tbody tr th:only-of-type {\n",
       "        vertical-align: middle;\n",
       "    }\n",
       "\n",
       "    .dataframe tbody tr th {\n",
       "        vertical-align: top;\n",
       "    }\n",
       "\n",
       "    .dataframe thead th {\n",
       "        text-align: right;\n",
       "    }\n",
       "</style>\n",
       "<table border=\"1\" class=\"dataframe\">\n",
       "  <thead>\n",
       "    <tr style=\"text-align: right;\">\n",
       "      <th></th>\n",
       "      <th>geometry</th>\n",
       "      <th>row</th>\n",
       "      <th>col</th>\n",
       "      <th>cluster</th>\n",
       "      <th>lon</th>\n",
       "      <th>lat</th>\n",
       "      <th>index</th>\n",
       "    </tr>\n",
       "  </thead>\n",
       "  <tbody>\n",
       "    <tr>\n",
       "      <th>272</th>\n",
       "      <td>POINT (121.37500 12.04167)</td>\n",
       "      <td>7</td>\n",
       "      <td>6</td>\n",
       "      <td>Western_Visayas</td>\n",
       "      <td>121.375000</td>\n",
       "      <td>12.041667</td>\n",
       "      <td>273</td>\n",
       "    </tr>\n",
       "    <tr>\n",
       "      <th>355</th>\n",
       "      <td>POINT (121.95833 11.87500)</td>\n",
       "      <td>9</td>\n",
       "      <td>13</td>\n",
       "      <td>Western_Visayas</td>\n",
       "      <td>121.958333</td>\n",
       "      <td>11.875000</td>\n",
       "      <td>356</td>\n",
       "    </tr>\n",
       "    <tr>\n",
       "      <th>392</th>\n",
       "      <td>POINT (121.87500 11.79167)</td>\n",
       "      <td>10</td>\n",
       "      <td>12</td>\n",
       "      <td>Western_Visayas</td>\n",
       "      <td>121.875000</td>\n",
       "      <td>11.791667</td>\n",
       "      <td>393</td>\n",
       "    </tr>\n",
       "  </tbody>\n",
       "</table>\n",
       "</div>"
      ],
      "text/plain": [
       "                       geometry  row  col          cluster         lon  \\\n",
       "272  POINT (121.37500 12.04167)    7    6  Western_Visayas  121.375000   \n",
       "355  POINT (121.95833 11.87500)    9   13  Western_Visayas  121.958333   \n",
       "392  POINT (121.87500 11.79167)   10   12  Western_Visayas  121.875000   \n",
       "\n",
       "           lat  index  \n",
       "272  12.041667    273  \n",
       "355  11.875000    356  \n",
       "392  11.791667    393  "
      ]
     },
     "execution_count": 24,
     "metadata": {},
     "output_type": "execute_result"
    }
   ],
   "source": [
    "clustered_GAEZ_gdf_non_nan = clustered_GAEZ_gdf[clustered_GAEZ_gdf[\"cluster\"] != \"nan\"]\n",
    "clustered_GAEZ_gdf_non_nan.geometry = clustered_GAEZ_gdf_non_nan.geometry.centroid\n",
    "clustered_GAEZ_gdf_non_nan.head(3)"
   ]
  },
  {
   "cell_type": "markdown",
   "metadata": {},
   "source": [
    "Points within admin boundaries but not assigned to a cluster"
   ]
  },
  {
   "cell_type": "code",
   "execution_count": 25,
   "metadata": {},
   "outputs": [
    {
     "name": "stderr",
     "output_type": "stream",
     "text": [
      "<ipython-input-25-465c0ec06b28>:2: UserWarning: Geometry is in a geographic CRS. Results from 'centroid' are likely incorrect. Use 'GeoSeries.to_crs()' to re-project geometries to a projected CRS before this operation.\n",
      "\n",
      "  clustered_GAEZ_gdf_nan.geometry = clustered_GAEZ_gdf_nan.geometry.centroid\n",
      "C:\\Users\\alexl\\anaconda3\\envs\\clews_gis_work\\lib\\site-packages\\geopandas\\geodataframe.py:853: SettingWithCopyWarning: \n",
      "A value is trying to be set on a copy of a slice from a DataFrame.\n",
      "Try using .loc[row_indexer,col_indexer] = value instead\n",
      "\n",
      "See the caveats in the documentation: https://pandas.pydata.org/pandas-docs/stable/user_guide/indexing.html#returning-a-view-versus-a-copy\n",
      "  super(GeoDataFrame, self).__setitem__(key, value)\n"
     ]
    },
    {
     "data": {
      "text/html": [
       "<div>\n",
       "<style scoped>\n",
       "    .dataframe tbody tr th:only-of-type {\n",
       "        vertical-align: middle;\n",
       "    }\n",
       "\n",
       "    .dataframe tbody tr th {\n",
       "        vertical-align: top;\n",
       "    }\n",
       "\n",
       "    .dataframe thead th {\n",
       "        text-align: right;\n",
       "    }\n",
       "</style>\n",
       "<table border=\"1\" class=\"dataframe\">\n",
       "  <thead>\n",
       "    <tr style=\"text-align: right;\">\n",
       "      <th></th>\n",
       "      <th>geometry</th>\n",
       "      <th>row</th>\n",
       "      <th>col</th>\n",
       "      <th>cluster</th>\n",
       "      <th>lon</th>\n",
       "      <th>lat</th>\n",
       "      <th>index</th>\n",
       "    </tr>\n",
       "  </thead>\n",
       "  <tbody>\n",
       "    <tr>\n",
       "      <th>0</th>\n",
       "      <td>POINT (120.87500 12.62500)</td>\n",
       "      <td>0</td>\n",
       "      <td>0</td>\n",
       "      <td>nan</td>\n",
       "      <td>120.875000</td>\n",
       "      <td>12.625</td>\n",
       "      <td>1</td>\n",
       "    </tr>\n",
       "    <tr>\n",
       "      <th>1</th>\n",
       "      <td>POINT (120.95833 12.62500)</td>\n",
       "      <td>0</td>\n",
       "      <td>1</td>\n",
       "      <td>nan</td>\n",
       "      <td>120.958333</td>\n",
       "      <td>12.625</td>\n",
       "      <td>2</td>\n",
       "    </tr>\n",
       "    <tr>\n",
       "      <th>2</th>\n",
       "      <td>POINT (121.04167 12.62500)</td>\n",
       "      <td>0</td>\n",
       "      <td>2</td>\n",
       "      <td>nan</td>\n",
       "      <td>121.041667</td>\n",
       "      <td>12.625</td>\n",
       "      <td>3</td>\n",
       "    </tr>\n",
       "  </tbody>\n",
       "</table>\n",
       "</div>"
      ],
      "text/plain": [
       "                     geometry  row  col cluster         lon     lat  index\n",
       "0  POINT (120.87500 12.62500)    0    0     nan  120.875000  12.625      1\n",
       "1  POINT (120.95833 12.62500)    0    1     nan  120.958333  12.625      2\n",
       "2  POINT (121.04167 12.62500)    0    2     nan  121.041667  12.625      3"
      ]
     },
     "execution_count": 25,
     "metadata": {},
     "output_type": "execute_result"
    }
   ],
   "source": [
    "clustered_GAEZ_gdf_nan = clustered_GAEZ_gdf[clustered_GAEZ_gdf[\"cluster\"] == \"nan\"]\n",
    "clustered_GAEZ_gdf_nan.geometry = clustered_GAEZ_gdf_nan.geometry.centroid\n",
    "clustered_GAEZ_gdf_nan.head(3)"
   ]
  },
  {
   "cell_type": "markdown",
   "metadata": {},
   "source": [
    "### Get nearest neighbor for points not assigned"
   ]
  },
  {
   "cell_type": "code",
   "execution_count": 26,
   "metadata": {
    "code_folding": []
   },
   "outputs": [],
   "source": [
    "# Simple function getting the nearest hub for a given set of points\n",
    "def calculate_nearest(row, destination, val, col=\"geometry\"):\n",
    "    dest_unary = destination[\"geometry\"].unary_union\n",
    "    nearest_geom = nearest_points(row[col], dest_unary)\n",
    "    match_geom = destination.loc[destination.geometry == nearest_geom[1]]\n",
    "    match_value = match_geom[val].to_numpy()[0]\n",
    "    return match_value"
   ]
  },
  {
   "cell_type": "code",
   "execution_count": 1,
   "metadata": {
    "scrolled": true
   },
   "outputs": [],
   "source": [
    "# Apply fuction to the non cluster points dataframe\n",
    "clustered_GAEZ_gdf_nan[\"index_nn\"] = clustered_GAEZ_gdf_nan.apply(calculate_nearest,\n",
    "                                                                               destination=clustered_GAEZ_gdf_non_nan,\n",
    "                                                                               val=\"index\",\n",
    "                                                                               axis=1)"
   ]
  },
  {
   "cell_type": "markdown",
   "metadata": {},
   "source": [
    "The dataframe has now been attributed with the index of the nearest neighbor "
   ]
  },
  {
   "cell_type": "code",
   "execution_count": null,
   "metadata": {
    "scrolled": true
   },
   "outputs": [],
   "source": [
    "clustered_GAEZ_gdf_nan.head(3)"
   ]
  },
  {
   "cell_type": "markdown",
   "metadata": {},
   "source": [
    "### Merge the two split dataframe \n",
    "\n",
    "This action works similar to the VLOOKUP fuction in excel. For each index_nn in the first dataframe looks at the index of the second dataframe and assigns attributes to the primer as per need. In this case, we assign the cluster name of the nearest neighbor."
   ]
  },
  {
   "cell_type": "code",
   "execution_count": null,
   "metadata": {},
   "outputs": [],
   "source": [
    "clustered_GAEZ_gdf_nan_n = clustered_GAEZ_gdf_nan.merge(clustered_GAEZ_gdf_non_nan[['index','cluster']],\n",
    "                                                                      how = \"left\",\n",
    "                                                                      left_on = \"index_nn\",\n",
    "                                                                      right_on='index').drop([\"index_nn\", \"cluster_x\",\"index_x\"], axis=1)"
   ]
  },
  {
   "cell_type": "code",
   "execution_count": null,
   "metadata": {},
   "outputs": [],
   "source": [
    "clustered_GAEZ_gdf_nan_n.rename(columns={'index_y': 'index', 'cluster_y': 'cluster'}, inplace=True)"
   ]
  },
  {
   "cell_type": "markdown",
   "metadata": {},
   "source": [
    "### Concatenate the two split dataframes into a single one\n",
    "(updating the original clipped dataframe)"
   ]
  },
  {
   "cell_type": "code",
   "execution_count": null,
   "metadata": {},
   "outputs": [],
   "source": [
    "clustered_GAEZ_gdf_new = clustered_GAEZ_gdf_non_nan.append(clustered_GAEZ_gdf_nan_n)"
   ]
  },
  {
   "cell_type": "code",
   "execution_count": null,
   "metadata": {},
   "outputs": [],
   "source": [
    "clustered_GAEZ_gdf_new.head(2)"
   ]
  },
  {
   "cell_type": "markdown",
   "metadata": {},
   "source": [
    "### And finally, merge back to the clipped polygon layer using spatial join\n",
    "(this is to re-gain the polygon geometry)"
   ]
  },
  {
   "cell_type": "code",
   "execution_count": null,
   "metadata": {},
   "outputs": [],
   "source": [
    "#Spatial join\n",
    "final_clustered_GAEZ_gdf = gpd.sjoin(clustered_GAEZ_gdf_new, clustered_GAEZ_gdf[[\"geometry\"]], op='within', how='right')"
   ]
  },
  {
   "cell_type": "markdown",
   "metadata": {},
   "source": [
    "### Clip results in case of coastal or island countries"
   ]
  },
  {
   "cell_type": "code",
   "execution_count": null,
   "metadata": {},
   "outputs": [],
   "source": [
    "if landlocked == 1:\n",
    "    final_clustered_GAEZ_gdf = final_clustered_GAEZ_gdf\n",
    "else:\n",
    "    final_clustered_GAEZ_gdf = gpd.clip(final_clustered_GAEZ_gdf, admin)"
   ]
  },
  {
   "cell_type": "markdown",
   "metadata": {},
   "source": [
    "## Step 5. Total area re-estimation & calibration\n",
    "\n",
    "This step estimates and calibrates the area (in square km) based on the area provided by the admin layer used in the analysis (e.g. clipping). "
   ]
  },
  {
   "cell_type": "code",
   "execution_count": 21,
   "metadata": {},
   "outputs": [],
   "source": [
    "if clust_method == 0:\n",
    "    final_clustered_GAEZ_gdf = gpd.clip(clustered_GAEZ_gdf, admin)\n",
    "    final_clustered_GAEZ_gdf.cluster = admin.NAME_0[0]\n",
    "else:\n",
    "    final_clustered_GAEZ_gdf = final_clustered_GAEZ_gdf"
   ]
  },
  {
   "cell_type": "code",
   "execution_count": 22,
   "metadata": {},
   "outputs": [],
   "source": [
    "# project datasets to proper crs\n",
    "final_clustered_GAEZ_gdf_prj = final_clustered_GAEZ_gdf.to_crs(crs_proj)\n",
    "admin_proj = admin.to_crs(crs_proj)"
   ]
  },
  {
   "cell_type": "code",
   "execution_count": 23,
   "metadata": {},
   "outputs": [],
   "source": [
    "final_clustered_GAEZ_gdf_prj[\"sqkm\"] = final_clustered_GAEZ_gdf_prj['geometry'].area/10**6"
   ]
  },
  {
   "cell_type": "code",
   "execution_count": 24,
   "metadata": {
    "code_folding": []
   },
   "outputs": [],
   "source": [
    "def get_multiplier(estimated, official):\n",
    "    if official == estimated:\n",
    "        return 1\n",
    "    try:\n",
    "        return  official / estimated\n",
    "    except ZeroDivisionError:\n",
    "        return 0"
   ]
  },
  {
   "cell_type": "code",
   "execution_count": 25,
   "metadata": {},
   "outputs": [],
   "source": [
    "estimated_area = final_clustered_GAEZ_gdf_prj.sqkm.sum()\n",
    "official_area = admin_proj.geometry.area.sum()/10**6\n",
    "\n",
    "# Estimate column multipler\n",
    "multiplier = get_multiplier(estimated_area, official_area)"
   ]
  },
  {
   "cell_type": "code",
   "execution_count": 26,
   "metadata": {},
   "outputs": [],
   "source": [
    "final_clustered_GAEZ_gdf_prj.sqkm = final_clustered_GAEZ_gdf_prj.sqkm * multiplier"
   ]
  },
  {
   "cell_type": "code",
   "execution_count": 27,
   "metadata": {},
   "outputs": [
    {
     "name": "stdout",
     "output_type": "stream",
     "text": [
      "Our modelling exercise yields a total area of 840003.8 sqkm for the country\n",
      "The admin layer indicates 840001.2 sqkm\n",
      "After calibration the total area is set at 840001.2 sqkm\n"
     ]
    }
   ],
   "source": [
    "print (\"Our modelling exercise yields a total area of {0:.1f} sqkm for the country\".format(estimated_area))\n",
    "print (\"The admin layer indicates {0:.1f} sqkm\".format(official_area))\n",
    "print (\"After calibration the total area is set at {0:.1f} sqkm\".format(final_clustered_GAEZ_gdf_prj.sqkm.sum()))"
   ]
  },
  {
   "cell_type": "markdown",
   "metadata": {},
   "source": [
    "## Final check and export result of Part 1"
   ]
  },
  {
   "cell_type": "markdown",
   "metadata": {},
   "source": [
    "### Revert to original CRS"
   ]
  },
  {
   "cell_type": "code",
   "execution_count": 28,
   "metadata": {},
   "outputs": [],
   "source": [
    "final_clustered_GAEZ_gdf = final_clustered_GAEZ_gdf_prj.to_crs(crs_WGS84)"
   ]
  },
  {
   "cell_type": "markdown",
   "metadata": {},
   "source": [
    "### Make a final check"
   ]
  },
  {
   "cell_type": "code",
   "execution_count": 29,
   "metadata": {},
   "outputs": [
    {
     "data": {
      "text/html": [
       "<div>\n",
       "<style scoped>\n",
       "    .dataframe tbody tr th:only-of-type {\n",
       "        vertical-align: middle;\n",
       "    }\n",
       "\n",
       "    .dataframe tbody tr th {\n",
       "        vertical-align: top;\n",
       "    }\n",
       "\n",
       "    .dataframe thead th {\n",
       "        text-align: right;\n",
       "    }\n",
       "</style>\n",
       "<table border=\"1\" class=\"dataframe\">\n",
       "  <thead>\n",
       "    <tr style=\"text-align: right;\">\n",
       "      <th></th>\n",
       "      <th>geometry</th>\n",
       "      <th>row</th>\n",
       "      <th>col</th>\n",
       "      <th>cluster</th>\n",
       "      <th>lon</th>\n",
       "      <th>lat</th>\n",
       "      <th>sqkm</th>\n",
       "    </tr>\n",
       "  </thead>\n",
       "  <tbody>\n",
       "    <tr>\n",
       "      <th>16</th>\n",
       "      <td>POLYGON ((13.00000 -16.98537, 13.00000 -17.000...</td>\n",
       "      <td>0</td>\n",
       "      <td>16</td>\n",
       "      <td>NAMIBIA</td>\n",
       "      <td>12.958333</td>\n",
       "      <td>-16.958333</td>\n",
       "      <td>3.123822</td>\n",
       "    </tr>\n",
       "    <tr>\n",
       "      <th>17</th>\n",
       "      <td>POLYGON ((13.08333 -16.96561, 13.08333 -17.000...</td>\n",
       "      <td>0</td>\n",
       "      <td>17</td>\n",
       "      <td>NAMIBIA</td>\n",
       "      <td>13.041667</td>\n",
       "      <td>-16.958333</td>\n",
       "      <td>26.028465</td>\n",
       "    </tr>\n",
       "  </tbody>\n",
       "</table>\n",
       "</div>"
      ],
      "text/plain": [
       "                                             geometry  row  col  cluster  \\\n",
       "16  POLYGON ((13.00000 -16.98537, 13.00000 -17.000...    0   16  NAMIBIA   \n",
       "17  POLYGON ((13.08333 -16.96561, 13.08333 -17.000...    0   17  NAMIBIA   \n",
       "\n",
       "          lon        lat       sqkm  \n",
       "16  12.958333 -16.958333   3.123822  \n",
       "17  13.041667 -16.958333  26.028465  "
      ]
     },
     "execution_count": 29,
     "metadata": {},
     "output_type": "execute_result"
    }
   ],
   "source": [
    "final_clustered_GAEZ_gdf.head(2)"
   ]
  },
  {
   "cell_type": "markdown",
   "metadata": {},
   "source": [
    "### Export "
   ]
  },
  {
   "cell_type": "code",
   "execution_count": 30,
   "metadata": {},
   "outputs": [
    {
     "name": "stdout",
     "output_type": "stream",
     "text": [
      "Part 1 complete! 🤓\n"
     ]
    }
   ],
   "source": [
    "# Export as geopackage\n",
    "final_clustered_GAEZ_gdf.to_file(os.path.join(out_path,\"{c}.gpkg\".format(c=output_nm)),driver=\"GPKG\")\n",
    "print (\"Part 1 complete!\", \"\\U0001F913\")"
   ]
  },
  {
   "cell_type": "markdown",
   "metadata": {},
   "source": [
    " "
   ]
  },
  {
   "cell_type": "markdown",
   "metadata": {},
   "source": [
    " "
   ]
  },
  {
   "cell_type": "markdown",
   "metadata": {},
   "source": [
    "# Part 2 - Adding raster attributes to vector polygons"
   ]
  },
  {
   "cell_type": "markdown",
   "metadata": {},
   "source": [
    "This part employs a number of functions that extract values from raster layers and attribute them to the vector layer generated in Part 1.\n",
    "\n",
    "You will need any continuous of categorical raster layer in *.tif* format (placed inside the *global_raster_input* directory)\n",
    "\n",
    "**Note!** Raster layers can be added based on the mandates of the analysis. However, there is the following naming conventions that need to be followed for the code to properly work.\n",
    " - Any crop related raster layer should contain the 3-letter code in the name (e.g. cwd_mai_irr_hig_bas.tif where mai=maize)\n",
    " - Any non-crop related raster layer shall contain the suffix _ncr in their name (e.g. LCType_ncr.tif)"
   ]
  },
  {
   "cell_type": "markdown",
   "metadata": {},
   "source": [
    "## Define functions"
   ]
  },
  {
   "cell_type": "code",
   "execution_count": 35,
   "metadata": {
    "code_folding": [
     0
    ]
   },
   "outputs": [],
   "source": [
    "# Processing Continuous/Numerical Rasters\n",
    "def processing_raster_con(path, raster, prefix, method, clusters):\n",
    "    \"\"\"\n",
    "    This function calculates stats for numerical rasters and attributes them to the given vector features. \n",
    "    \n",
    "    INPUT: \n",
    "    name: string used as prefix when assigning features to the vectors\n",
    "    method: statistical method to be used (check documentation)\n",
    "    clusters: the vector layer containing the clusters\n",
    "    \n",
    "    OUTPUT:\n",
    "    geojson file of the vector features including the new attributes\n",
    "    \"\"\"\n",
    "\n",
    "    raster=rasterio.open(path + '\\\\' + raster)\n",
    "    \n",
    "    clusters = zonal_stats(\n",
    "        clusters,\n",
    "        raster.name,\n",
    "        stats=[method],\n",
    "        prefix=prefix, geojson_out=True, all_touched=True)\n",
    "    \n",
    "    print(\"{} processing completed at\".format(prefix), datetime.datetime.now())\n",
    "    return clusters"
   ]
  },
  {
   "cell_type": "code",
   "execution_count": 36,
   "metadata": {
    "code_folding": [
     0
    ]
   },
   "outputs": [],
   "source": [
    "## Processing Categorical/Discrete Rasters\n",
    "def processing_raster_cat(path, raster, prefix, clusters):\n",
    "    \"\"\"\n",
    "    This function calculates stats for categorical rasters and attributes them to the given vector features. \n",
    "    \n",
    "    INPUT: \n",
    "    path: the directory where the raster layer is stored \n",
    "    raster: the name and extention of the raster layer \n",
    "    prefix: string used as prefix when assigning features to the vectors\n",
    "    clusters: the vector layer containing the clusters\n",
    "    \n",
    "    OUTPUT:\n",
    "    geojson file of the vector features including the new attributes\n",
    "    \"\"\"    \n",
    "    raster=rasterio.open(path + '\\\\' + raster)\n",
    "    \n",
    "    clusters = zonal_stats(\n",
    "        clusters,\n",
    "        raster.name,\n",
    "        categorical=True,\n",
    "        prefix=prefix, geojson_out=True, all_touched=True)\n",
    "    \n",
    "    print(\"{} processing completed at\".format(prefix), datetime.datetime.now())\n",
    "    return clusters"
   ]
  },
  {
   "cell_type": "code",
   "execution_count": 37,
   "metadata": {
    "code_folding": [
     0
    ]
   },
   "outputs": [],
   "source": [
    "## Converting geojson to geodataframe\n",
    "def geojson_to_gdf(workspace, geojson_file):\n",
    "    \"\"\"\n",
    "    This function returns a geodataframe for a given geojson file\n",
    "    \n",
    "    INPUT: \n",
    "    workplace: working directory\n",
    "    geojson_file: geojson layer to be convertes\n",
    "    crs: projection system in epsg format (e.g. 'EPSG:32637')\n",
    "    \n",
    "    OUTPUT:\n",
    "    geodataframe\n",
    "    \"\"\"\n",
    "    output = workspace + r'\\placeholder.geojson'\n",
    "    with open(output, \"w\") as dst:\n",
    "        collection = {\n",
    "            \"type\": \"FeatureCollection\",\n",
    "            \"features\": list(geojson_file)}\n",
    "        dst.write(json.dumps(collection))\n",
    "  \n",
    "    clusters = gpd.read_file(output)\n",
    "    os.remove(output)\n",
    "    \n",
    "    print(\"cluster created anew at\", datetime.datetime.now())\n",
    "    return clusters"
   ]
  },
  {
   "cell_type": "markdown",
   "metadata": {},
   "source": [
    "## Collect raster names and type from directory"
   ]
  },
  {
   "cell_type": "code",
   "execution_count": 38,
   "metadata": {
    "code_folding": []
   },
   "outputs": [
    {
     "name": "stdout",
     "output_type": "stream",
     "text": [
      "We have identified 241 continuous raster(s): \n",
      "\n",
      "* tha_yld_yam_rai_hig_bas_wor.tif\n",
      "* mm_evt_cof_irr_int_bas_wor.tif\n",
      "* tha_yld_oil_irr_hig_bas_wor.tif\n",
      "* mm_evt_tom_rai_int_bas_wor.tif\n",
      "* mm_cwd_sgc_rai_low_bas_wor.tif\n",
      "* mm_evt_oni_rai_int_bas_wor.tif\n",
      "* mm_evt_cab_irr_int_bas_wor.tif\n",
      "* tha_yld_jat_rai_int_bas_wor.tif\n",
      "* tha_yld_pts_rai_int_bas_wor.tif\n",
      "* mm_cwd_bea_rai_int_bas_wor.tif\n",
      "* mm_cwd_tom_irr_int_bas_wor.tif\n",
      "* mm_evt_oil_rai_int_bas_wor.tif\n",
      "* tha_yld_ban_rai_int_bas_wor.tif\n",
      "* tha_yld_cab_rai_int_bas_wor.tif\n",
      "* mm_cwd_yam_rai_hig_bas_wor.tif\n",
      "* mm_evt_con_irr_int_bas_wor.tif\n",
      "* tha_yld_cof_rai_int_bas_wor.tif\n",
      "* mm_evt_sgc_rai_int_bas_wor.tif\n",
      "* mm_evt_cas_rai_low_bas_wor.tif\n",
      "* tha_yld_ban_irr_hig_bas_wor.tif\n",
      "* mm_cwd_jat_rai_hig_bas_wor.tif\n",
      "* mm_cwd_ptw_irr_int_bas_wor.tif\n",
      "* mm_evt_oni_irr_hig_bas_wor.tif\n",
      "* tha_yld_pts_rai_low_bas_wor.tif\n",
      "* mm_evt_con_irr_hig_bas_wor.tif\n",
      "* mm_evt_rcp_irr_int_bas_wor.tif\n",
      "* mm_cwd_cab_irr_int_bas_wor.tif\n",
      "* mm_evt_cab_rai_low_bas_wor.tif\n",
      "* mm_cwd_cab_rai_hig_bas_wor.tif\n",
      "* mm_evt_yam_irr_int_bas_wor.tif\n",
      "* tha_yld_cas_irr_hig_bas_wor.tif\n",
      "* mm_cwd_cof_irr_int_bas_wor.tif\n",
      "* mm_cwd_con_irr_hig_bas_wor.tif\n",
      "* mm_evt_jat_irr_int_bas_wor.tif\n",
      "* mm_evt_pts_rai_int_bas_wor.tif\n",
      "* tha_yld_tom_irr_hig_bas_wor.tif\n",
      "* tha_yld_pts_rai_hig_bas_wor.tif\n",
      "* tha_yld_oni_irr_hig_bas_wor.tif\n",
      "* tha_yld_cas_rai_low_bas_wor.tif\n",
      "* tha_yld_rcp_rai_hig_bas_wor.tif\n",
      "* tha_yld_cof_irr_int_bas_wor.tif\n",
      "* tha_yld_jat_rai_low_bas_wor.tif\n",
      "* mm_cwd_mai_rai_low_bas_wor.tif\n",
      "* tha_yld_bea_rai_hig_bas_wor.tif\n",
      "* tha_yld_tom_rai_hig_bas_wor.tif\n",
      "* tha_yld_cas_rai_hig_bas_wor.tif\n",
      "* tha_yld_oni_irr_int_bas_wor.tif\n",
      "* mm_cwd_pts_rai_low_bas_wor.tif\n",
      "* mm_cwd_tom_rai_int_bas_wor.tif\n",
      "* mm_evt_yam_rai_low_bas_wor.tif\n",
      "* tha_yld_yam_irr_int_bas_wor.tif\n",
      "* mm_cwd_cof_rai_int_bas_wor.tif\n",
      "* mm_cwd_mai_rai_int_bas_wor.tif\n",
      "* mm_evt_con_rai_low_bas_wor.tif\n",
      "* mm_evt_con_rai_int_bas_wor.tif\n",
      "* mm_evt_oni_irr_int_bas_wor.tif\n",
      "* tha_yld_pts_irr_int_bas_wor.tif\n",
      "* mm_cwd_cas_rai_hig_bas_wor.tif\n",
      "* mm_evt_tom_rai_low_bas_wor.tif\n",
      "* tha_yld_cas_irr_int_bas_wor.tif\n",
      "* tha_yld_jat_irr_int_bas_wor.tif\n",
      "* mm_cwd_tom_irr_hig_bas_wor.tif\n",
      "* mm_evt_cas_rai_int_bas_wor.tif\n",
      "* mm_cwd_jat_irr_int_bas_wor.tif\n",
      "* tha_yld_tom_rai_int_bas_wor.tif\n",
      "* mm_cwd_cab_rai_low_bas_wor.tif\n",
      "* mm_cwd_cof_rai_hig_bas_wor.tif\n",
      "* mm_evt_ptw_rai_int_bas_wor.tif\n",
      "* tha_yld_con_irr_int_bas_wor.tif\n",
      "* mm_evt_mai_irr_hig_bas_wor.tif\n",
      "* mm_evt_ptw_rai_low_bas_wor.tif\n",
      "* mm_evt_cas_irr_int_bas_wor.tif\n",
      "* tha_yld_pts_irr_hig_bas_wor.tif\n",
      "* mm_evt_cab_rai_int_bas_wor.tif\n",
      "* tha_yld_con_rai_low_bas_wor.tif\n",
      "* tha_yld_rcp_rai_low_bas_wor.tif\n",
      "* mm_cwd_mai_irr_hig_bas_wor.tif\n",
      "* tha_yld_bea_rai_low_bas_wor.tif\n",
      "* mm_evt_oni_rai_low_bas_wor.tif\n",
      "* mm_evt_ban_rai_low_bas_wor.tif\n",
      "* mm_cwd_ban_rai_hig_bas_wor.tif\n",
      "* tha_yld_sgc_irr_hig_bas_wor.tif\n",
      "* tha_yld_ptw_irr_hig_bas_wor.tif\n",
      "* tha_yld_yam_irr_hig_bas_wor.tif\n",
      "* tha_yld_mai_rai_int_bas_wor.tif\n",
      "* mm_evt_ban_irr_int_bas_wor.tif\n",
      "* mm_cwd_rcp_irr_int_bas_wor.tif\n",
      "* mm_evt_yam_rai_hig_bas_wor.tif\n",
      "* mm_cwd_pts_rai_hig_bas_wor.tif\n",
      "* mm_cwd_oni_rai_low_bas_wor.tif\n",
      "* mm_cwd_ptw_rai_hig_bas_wor.tif\n",
      "* mm_cwd_cas_rai_low_bas_wor.tif\n",
      "* mm_evt_rcp_irr_hig_bas_wor.tif\n",
      "* tha_yld_oni_rai_hig_bas_wor.tif\n",
      "* mm_evt_oil_rai_low_bas_wor.tif\n",
      "* tha_yld_rcp_irr_int_bas_wor.tif\n",
      "* tha_yld_rcp_rai_int_bas_wor.tif\n",
      "* mm_evt_oni_rai_hig_bas_wor.tif\n",
      "* tha_yld_rcp_irr_hig_bas_wor.tif\n",
      "* mm_evt_bea_rai_hig_bas_wor.tif\n",
      "* mm_cwd_rcp_irr_hig_bas_wor.tif\n",
      "* tha_yld_ptw_irr_int_bas_wor.tif\n",
      "* mm_evt_cof_rai_int_bas_wor.tif\n",
      "* tha_yld_ptw_rai_hig_bas_wor.tif\n",
      "* mm_evt_ptw_irr_int_bas_wor.tif\n",
      "* tha_yld_ban_irr_int_bas_wor.tif\n",
      "* tha_yld_cof_rai_low_bas_wor.tif\n",
      "* mm_evt_oil_rai_hig_bas_wor.tif\n",
      "* mm_cwd_ban_irr_hig_bas_wor.tif\n",
      "* tha_yld_ban_rai_hig_bas_wor.tif\n",
      "* tha_yld_cab_irr_hig_bas_wor.tif\n",
      "* mm_evt_rcp_rai_hig_bas_wor.tif\n",
      "* mm_cwd_cof_rai_low_bas_wor.tif\n",
      "* mm_evt_mai_irr_int_bas_wor.tif\n",
      "* mm_cwd_cas_irr_hig_bas_wor.tif\n",
      "* mm_cwd_mai_irr_int_bas_wor.tif\n",
      "* tha_yld_cof_rai_hig_bas_wor.tif\n",
      "* mm_cwd_oil_rai_hig_bas_wor.tif\n",
      "* mm_evt_cab_irr_hig_bas_wor.tif\n",
      "* mm_evt_tom_irr_int_bas_wor.tif\n",
      "* mm_cwd_oni_irr_hig_bas_wor.tif\n",
      "* tha_yld_jat_rai_hig_bas_wor.tif\n",
      "* mm_evt_sgc_irr_int_bas_wor.tif\n",
      "* mm_cwd_ptw_rai_int_bas_wor.tif\n",
      "* mm_evt_cof_irr_hig_bas_wor.tif\n",
      "* tha_yld_sgc_rai_int_bas_wor.tif\n",
      "* mm_cwd_mai_rai_hig_bas_wor.tif\n",
      "* mm_evt_ban_irr_hig_bas_wor.tif\n",
      "* mm_cwd_pts_irr_int_bas_wor.tif\n",
      "* mm_cwd_ptw_irr_hig_bas_wor.tif\n",
      "* mm_cwd_tom_rai_hig_bas_wor.tif\n",
      "* mm_evt_cas_rai_hig_bas_wor.tif\n",
      "* mm_evt_yam_irr_hig_bas_wor.tif\n",
      "* tha_yld_con_rai_int_bas_wor.tif\n",
      "* mm_evt_mai_rai_int_bas_wor.tif\n",
      "* mm_evt_rcp_rai_low_bas_wor.tif\n",
      "* mm_cwd_yam_irr_hig_bas_wor.tif\n",
      "* mm_evt_cab_rai_hig_bas_wor.tif\n",
      "* mm_evt_oil_irr_hig_bas_wor.tif\n",
      "* mm_cwd_con_rai_low_bas_wor.tif\n",
      "* mm_cwd_pts_rai_int_bas_wor.tif\n",
      "* mm_cwd_oil_rai_int_bas_wor.tif\n",
      "* mm_cwd_oni_rai_hig_bas_wor.tif\n",
      "* mm_cwd_sgc_rai_int_bas_wor.tif\n",
      "* mm_evt_cas_irr_hig_bas_wor.tif\n",
      "* mm_evt_tom_irr_hig_bas_wor.tif\n",
      "* mm_evt_ptw_rai_hig_bas_wor.tif\n",
      "* mm_cwd_con_rai_int_bas_wor.tif\n",
      "* mm_cwd_ptw_rai_low_bas_wor.tif\n",
      "* mm_evt_bea_irr_int_bas_wor.tif\n",
      "* tha_yld_con_rai_hig_bas_wor.tif\n",
      "* tha_yld_yam_rai_low_bas_wor.tif\n",
      "* tha_yld_cof_irr_hig_bas_wor.tif\n",
      "* tha_yld_cab_irr_int_bas_wor.tif\n",
      "* mm_cwd_sgc_rai_hig_bas_wor.tif\n",
      "* mm_cwd_con_rai_hig_bas_wor.tif\n",
      "* mm_cwd_cas_rai_int_bas_wor.tif\n",
      "* mm_evt_pts_irr_int_bas_wor.tif\n",
      "* tha_yld_jat_irr_hig_bas_wor.tif\n",
      "* tha_yld_yam_rai_int_bas_wor.tif\n",
      "* mm_cwd_cab_irr_hig_bas_wor.tif\n",
      "* mm_evt_pts_rai_hig_bas_wor.tif\n",
      "* mm_cwd_oni_rai_int_bas_wor.tif\n",
      "* mm_cwd_jat_irr_hig_bas_wor.tif\n",
      "* mm_evt_ban_rai_int_bas_wor.tif\n",
      "* tha_yld_ptw_rai_int_bas_wor.tif\n",
      "* mm_evt_bea_rai_low_bas_wor.tif\n",
      "* tha_yld_sgc_irr_int_bas_wor.tif\n",
      "* tha_yld_oni_rai_low_bas_wor.tif\n",
      "* mm_evt_con_rai_hig_bas_wor.tif\n",
      "* mm_evt_yam_rai_int_bas_wor.tif\n",
      "* tha_yld_oil_irr_int_bas_wor.tif\n",
      "* tha_yld_oil_rai_low_bas_wor.tif\n",
      "* mm_cwd_bea_irr_hig_bas_wor.tif\n",
      "* tha_yld_bea_rai_int_bas_wor.tif\n",
      "* mm_evt_rcp_rai_int_bas_wor.tif\n",
      "* mm_cwd_sgc_irr_int_bas_wor.tif\n",
      "* mm_cwd_jat_rai_int_bas_wor.tif\n",
      "* mm_cwd_jat_rai_low_bas_wor.tif\n",
      "* mm_evt_cof_rai_low_bas_wor.tif\n",
      "* tha_yld_con_irr_hig_bas_wor.tif\n",
      "* mm_evt_oil_irr_int_bas_wor.tif\n",
      "* tha_yld_oil_rai_hig_bas_wor.tif\n",
      "* mm_evt_ptw_irr_hig_bas_wor.tif\n",
      "* mm_cwd_ban_rai_int_bas_wor.tif\n",
      "* mm_cwd_oil_irr_int_bas_wor.tif\n",
      "* tha_yld_mai_irr_hig_bas_wor.tif\n",
      "* tha_yld_mai_irr_int_bas_wor.tif\n",
      "* mm_cwd_bea_irr_int_bas_wor.tif\n",
      "* mm_cwd_pts_irr_hig_bas_wor.tif\n",
      "* mm_evt_jat_rai_int_bas_wor.tif\n",
      "* mm_cwd_cab_rai_int_bas_wor.tif\n",
      "* mm_cwd_cof_irr_hig_bas_wor.tif\n",
      "* mm_cwd_rcp_rai_low_bas_wor.tif\n",
      "* mm_evt_cof_rai_hig_bas_wor.tif\n",
      "* mm_evt_mai_rai_low_bas_wor.tif\n",
      "* tha_yld_ban_rai_low_bas_wor.tif\n",
      "* tha_yld_tom_irr_int_bas_wor.tif\n",
      "* mm_evt_pts_rai_low_bas_wor.tif\n",
      "* tha_yld_cab_rai_hig_bas_wor.tif\n",
      "* tha_yld_oni_rai_int_bas_wor.tif\n",
      "* mm_cwd_yam_rai_low_bas_wor.tif\n",
      "* mm_evt_sgc_irr_hig_bas_wor.tif\n",
      "* mm_cwd_bea_rai_low_bas_wor.tif\n",
      "* mm_cwd_cas_irr_int_bas_wor.tif\n",
      "* mm_cwd_yam_rai_int_bas_wor.tif\n",
      "* mm_cwd_rcp_rai_hig_bas_wor.tif\n",
      "* mm_evt_pts_irr_hig_bas_wor.tif\n",
      "* mm_cwd_oil_rai_low_bas_wor.tif\n",
      "* mm_evt_bea_rai_int_bas_wor.tif\n",
      "* mm_cwd_yam_irr_int_bas_wor.tif\n",
      "* tha_yld_ptw_rai_low_bas_wor.tif\n",
      "* mm_cwd_oni_irr_int_bas_wor.tif\n",
      "* tha_yld_mai_rai_low_bas_wor.tif\n",
      "* tha_yld_cas_rai_int_bas_wor.tif\n",
      "* tha_yld_bea_irr_hig_bas_wor.tif\n",
      "* mm_cwd_con_irr_int_bas_wor.tif\n",
      "* mm_evt_sgc_rai_low_bas_wor.tif\n",
      "* mm_cwd_sgc_irr_hig_bas_wor.tif\n",
      "* tha_yld_cab_rai_low_bas_wor.tif\n",
      "* mm_evt_mai_rai_hig_bas_wor.tif\n",
      "* tha_yld_mai_rai_hig_bas_wor.tif\n",
      "* mm_evt_sgc_rai_hig_bas_wor.tif\n",
      "* tha_yld_sgc_rai_hig_bas_wor.tif\n",
      "* mm_cwd_oil_irr_hig_bas_wor.tif\n",
      "* mm_cwd_tom_rai_low_bas_wor.tif\n",
      "* mm_cwd_ban_rai_low_bas_wor.tif\n",
      "* tha_yld_tom_rai_low_bas_wor.tif\n",
      "* mm_evt_jat_rai_low_bas_wor.tif\n",
      "* mm_evt_jat_rai_hig_bas_wor.tif\n",
      "* mm_evt_tom_rai_hig_bas_wor.tif\n",
      "* tha_yld_bea_irr_int_bas_wor.tif\n",
      "* tha_yld_sgc_rai_low_bas_wor.tif\n",
      "* mm_evt_bea_irr_hig_bas_wor.tif\n",
      "* tha_yld_oil_rai_int_bas_wor.tif\n",
      "* mm_evt_jat_irr_hig_bas_wor.tif\n",
      "* mm_prc_bas__wor_ncb.tif\n",
      "* mm_cwd_bea_rai_hig_bas_wor.tif\n",
      "* mm_cwd_rcp_rai_int_bas_wor.tif\n",
      "* mm_cwd_ban_irr_int_bas_wor.tif\n",
      "* mm_evt_ban_rai_hig_bas_wor.tif\n",
      "\n",
      " We have identified 1 discrete raster(s): \n",
      "\n",
      "* LCType_ncb.tif\n"
     ]
    }
   ],
   "source": [
    "# Read files with tif extension and assign their name into two list for discrete and continuous datasets\n",
    "raster_files_dis = []\n",
    "raster_files_con =[]\n",
    "\n",
    "for i in os.listdir(in_path_raster):\n",
    "    for crop in crop_name:\n",
    "        if (crop in i) and i.endswith('.tif'):\n",
    "            with rasterio.open(in_path_raster + '\\\\' + i) as src:\n",
    "                data = src.read() \n",
    "                unique_val = len(np.unique(data))\n",
    "                if unique_val < 20:                                   # This value is arbitrary\n",
    "                    raster_files_dis.append(i)\n",
    "                else:\n",
    "                    raster_files_con.append(i)\n",
    "                \n",
    "for j in os.listdir(in_path_raster):\n",
    "    if (\"ncb\" in j) and j.endswith('.tif'):\n",
    "        with rasterio.open(in_path_raster + '\\\\' + j) as src:\n",
    "            data = src.read() \n",
    "            unique_val = len(np.unique(data))\n",
    "            if unique_val < 20:                                   # This value is arbitrary\n",
    "                raster_files_dis.append(j)\n",
    "            else:\n",
    "                raster_files_con.append(j)\n",
    "                \n",
    "# keep only unique values -- Not needed but just in case there are dublicates\n",
    "raster_files_con = list(set(raster_files_con))\n",
    "raster_files_dis = list(set(raster_files_dis))\n",
    "                \n",
    "print (\"We have identified {} continuous raster(s):\".format(len(raster_files_con)),\"\\n\",)\n",
    "for raster in raster_files_con:\n",
    "    print ( \"*\", raster)\n",
    "    \n",
    "print (\"\\n\", \"We have identified {} discrete raster(s):\".format(len(raster_files_dis)),\"\\n\",)\n",
    "for raster in raster_files_dis:\n",
    "    print ( \"*\", raster)"
   ]
  },
  {
   "cell_type": "markdown",
   "metadata": {},
   "source": [
    "## Extract raster values "
   ]
  },
  {
   "cell_type": "code",
   "execution_count": 39,
   "metadata": {},
   "outputs": [],
   "source": [
    "clusters = final_clustered_GAEZ_gdf"
   ]
  },
  {
   "cell_type": "markdown",
   "metadata": {},
   "source": [
    "### Continuous datasets (e.g. rainfall, yield, evapotranspiration, GHI etc.)"
   ]
  },
  {
   "cell_type": "code",
   "execution_count": 40,
   "metadata": {
    "code_folding": []
   },
   "outputs": [
    {
     "name": "stdout",
     "output_type": "stream",
     "text": [
      "tha_yld_yam_rai_hig_bas_wor_ processing completed at 2022-05-26 13:26:54.741434\n",
      "mm_evt_cof_irr_int_bas_wor_ processing completed at 2022-05-26 13:27:33.424304\n",
      "tha_yld_oil_irr_hig_bas_wor_ processing completed at 2022-05-26 13:28:11.158458\n",
      "mm_evt_tom_rai_int_bas_wor_ processing completed at 2022-05-26 13:28:52.079770\n",
      "mm_cwd_sgc_rai_low_bas_wor_ processing completed at 2022-05-26 13:29:30.041113\n",
      "mm_evt_oni_rai_int_bas_wor_ processing completed at 2022-05-26 13:30:05.102086\n",
      "mm_evt_cab_irr_int_bas_wor_ processing completed at 2022-05-26 13:30:39.842100\n",
      "tha_yld_jat_rai_int_bas_wor_ processing completed at 2022-05-26 13:31:14.761976\n",
      "tha_yld_pts_rai_int_bas_wor_ processing completed at 2022-05-26 13:31:49.600004\n",
      "mm_cwd_bea_rai_int_bas_wor_ processing completed at 2022-05-26 13:32:24.425331\n",
      "mm_cwd_tom_irr_int_bas_wor_ processing completed at 2022-05-26 13:32:58.090657\n",
      "mm_evt_oil_rai_int_bas_wor_ processing completed at 2022-05-26 13:33:31.744550\n",
      "tha_yld_ban_rai_int_bas_wor_ processing completed at 2022-05-26 13:34:05.771657\n",
      "tha_yld_cab_rai_int_bas_wor_ processing completed at 2022-05-26 13:34:39.340998\n",
      "mm_cwd_yam_rai_hig_bas_wor_ processing completed at 2022-05-26 13:35:12.728999\n",
      "mm_evt_con_irr_int_bas_wor_ processing completed at 2022-05-26 13:35:46.843783\n",
      "tha_yld_cof_rai_int_bas_wor_ processing completed at 2022-05-26 13:36:20.680554\n",
      "mm_evt_sgc_rai_int_bas_wor_ processing completed at 2022-05-26 13:36:54.508256\n",
      "mm_evt_cas_rai_low_bas_wor_ processing completed at 2022-05-26 13:37:28.278025\n",
      "tha_yld_ban_irr_hig_bas_wor_ processing completed at 2022-05-26 13:38:01.634670\n",
      "mm_cwd_jat_rai_hig_bas_wor_ processing completed at 2022-05-26 13:38:35.185340\n",
      "mm_cwd_ptw_irr_int_bas_wor_ processing completed at 2022-05-26 13:39:08.791470\n",
      "mm_evt_oni_irr_hig_bas_wor_ processing completed at 2022-05-26 13:39:43.403578\n",
      "tha_yld_pts_rai_low_bas_wor_ processing completed at 2022-05-26 13:40:17.498706\n",
      "mm_evt_con_irr_hig_bas_wor_ processing completed at 2022-05-26 13:40:52.690114\n",
      "mm_evt_rcp_irr_int_bas_wor_ processing completed at 2022-05-26 13:41:26.090161\n",
      "mm_cwd_cab_irr_int_bas_wor_ processing completed at 2022-05-26 13:41:59.623957\n",
      "mm_evt_cab_rai_low_bas_wor_ processing completed at 2022-05-26 13:42:33.448654\n",
      "mm_cwd_cab_rai_hig_bas_wor_ processing completed at 2022-05-26 13:43:07.760426\n",
      "mm_evt_yam_irr_int_bas_wor_ processing completed at 2022-05-26 13:43:42.208168\n",
      "tha_yld_cas_irr_hig_bas_wor_ processing completed at 2022-05-26 13:44:16.510651\n",
      "mm_cwd_cof_irr_int_bas_wor_ processing completed at 2022-05-26 13:44:52.059342\n",
      "mm_cwd_con_irr_hig_bas_wor_ processing completed at 2022-05-26 13:45:27.448120\n",
      "mm_evt_jat_irr_int_bas_wor_ processing completed at 2022-05-26 13:46:01.701020\n",
      "mm_evt_pts_rai_int_bas_wor_ processing completed at 2022-05-26 13:46:36.081774\n",
      "tha_yld_tom_irr_hig_bas_wor_ processing completed at 2022-05-26 13:47:09.687613\n",
      "tha_yld_pts_rai_hig_bas_wor_ processing completed at 2022-05-26 13:47:42.773155\n",
      "tha_yld_oni_irr_hig_bas_wor_ processing completed at 2022-05-26 13:48:17.190606\n",
      "tha_yld_cas_rai_low_bas_wor_ processing completed at 2022-05-26 13:48:50.667131\n",
      "tha_yld_rcp_rai_hig_bas_wor_ processing completed at 2022-05-26 13:49:24.606084\n",
      "tha_yld_cof_irr_int_bas_wor_ processing completed at 2022-05-26 13:49:59.063080\n",
      "tha_yld_jat_rai_low_bas_wor_ processing completed at 2022-05-26 13:50:33.816881\n",
      "mm_cwd_mai_rai_low_bas_wor_ processing completed at 2022-05-26 13:51:08.298274\n",
      "tha_yld_bea_rai_hig_bas_wor_ processing completed at 2022-05-26 13:51:42.560301\n",
      "tha_yld_tom_rai_hig_bas_wor_ processing completed at 2022-05-26 13:52:16.617787\n",
      "tha_yld_cas_rai_hig_bas_wor_ processing completed at 2022-05-26 13:52:51.219650\n",
      "tha_yld_oni_irr_int_bas_wor_ processing completed at 2022-05-26 13:53:25.893011\n",
      "mm_cwd_pts_rai_low_bas_wor_ processing completed at 2022-05-26 13:54:00.522826\n",
      "mm_cwd_tom_rai_int_bas_wor_ processing completed at 2022-05-26 13:54:34.076761\n",
      "mm_evt_yam_rai_low_bas_wor_ processing completed at 2022-05-26 13:55:08.157460\n",
      "tha_yld_yam_irr_int_bas_wor_ processing completed at 2022-05-26 13:55:42.564033\n",
      "mm_cwd_cof_rai_int_bas_wor_ processing completed at 2022-05-26 13:56:18.564219\n",
      "mm_cwd_mai_rai_int_bas_wor_ processing completed at 2022-05-26 13:56:52.847240\n",
      "mm_evt_con_rai_low_bas_wor_ processing completed at 2022-05-26 13:57:27.970803\n",
      "mm_evt_con_rai_int_bas_wor_ processing completed at 2022-05-26 13:58:05.762444\n",
      "mm_evt_oni_irr_int_bas_wor_ processing completed at 2022-05-26 13:58:44.968845\n",
      "tha_yld_pts_irr_int_bas_wor_ processing completed at 2022-05-26 13:59:19.753503\n",
      "mm_cwd_cas_rai_hig_bas_wor_ processing completed at 2022-05-26 13:59:54.604832\n",
      "mm_evt_tom_rai_low_bas_wor_ processing completed at 2022-05-26 14:00:29.138499\n",
      "tha_yld_cas_irr_int_bas_wor_ processing completed at 2022-05-26 14:01:03.742744\n",
      "tha_yld_jat_irr_int_bas_wor_ processing completed at 2022-05-26 14:01:38.297719\n",
      "mm_cwd_tom_irr_hig_bas_wor_ processing completed at 2022-05-26 14:02:12.585791\n",
      "mm_evt_cas_rai_int_bas_wor_ processing completed at 2022-05-26 14:02:47.583344\n",
      "mm_cwd_jat_irr_int_bas_wor_ processing completed at 2022-05-26 14:03:22.337898\n",
      "tha_yld_tom_rai_int_bas_wor_ processing completed at 2022-05-26 14:03:57.831589\n",
      "mm_cwd_cab_rai_low_bas_wor_ processing completed at 2022-05-26 14:04:33.658483\n",
      "mm_cwd_cof_rai_hig_bas_wor_ processing completed at 2022-05-26 14:05:10.334444\n",
      "mm_evt_ptw_rai_int_bas_wor_ processing completed at 2022-05-26 14:05:45.213642\n",
      "tha_yld_con_irr_int_bas_wor_ processing completed at 2022-05-26 14:06:20.354163\n",
      "mm_evt_mai_irr_hig_bas_wor_ processing completed at 2022-05-26 14:06:54.761452\n",
      "mm_evt_ptw_rai_low_bas_wor_ processing completed at 2022-05-26 14:07:29.850236\n",
      "mm_evt_cas_irr_int_bas_wor_ processing completed at 2022-05-26 14:08:04.247473\n",
      "tha_yld_pts_irr_hig_bas_wor_ processing completed at 2022-05-26 14:08:40.330849\n",
      "mm_evt_cab_rai_int_bas_wor_ processing completed at 2022-05-26 14:09:17.204657\n",
      "tha_yld_con_rai_low_bas_wor_ processing completed at 2022-05-26 14:09:54.503660\n",
      "tha_yld_rcp_rai_low_bas_wor_ processing completed at 2022-05-26 14:10:31.600597\n",
      "mm_cwd_mai_irr_hig_bas_wor_ processing completed at 2022-05-26 14:11:08.465326\n",
      "tha_yld_bea_rai_low_bas_wor_ processing completed at 2022-05-26 14:11:44.971330\n",
      "mm_evt_oni_rai_low_bas_wor_ processing completed at 2022-05-26 14:12:24.902158\n",
      "mm_evt_ban_rai_low_bas_wor_ processing completed at 2022-05-26 14:13:00.632102\n",
      "mm_cwd_ban_rai_hig_bas_wor_ processing completed at 2022-05-26 14:13:38.095057\n",
      "tha_yld_sgc_irr_hig_bas_wor_ processing completed at 2022-05-26 14:14:14.065731\n",
      "tha_yld_ptw_irr_hig_bas_wor_ processing completed at 2022-05-26 14:14:50.195653\n",
      "tha_yld_yam_irr_hig_bas_wor_ processing completed at 2022-05-26 14:15:26.394431\n",
      "tha_yld_mai_rai_int_bas_wor_ processing completed at 2022-05-26 14:16:03.217205\n",
      "mm_evt_ban_irr_int_bas_wor_ processing completed at 2022-05-26 14:16:40.163651\n",
      "mm_cwd_rcp_irr_int_bas_wor_ processing completed at 2022-05-26 14:17:16.229098\n",
      "mm_evt_yam_rai_hig_bas_wor_ processing completed at 2022-05-26 14:17:52.133973\n",
      "mm_cwd_pts_rai_hig_bas_wor_ processing completed at 2022-05-26 14:18:28.215101\n",
      "mm_cwd_oni_rai_low_bas_wor_ processing completed at 2022-05-26 14:19:04.185307\n",
      "mm_cwd_ptw_rai_hig_bas_wor_ processing completed at 2022-05-26 14:19:40.056442\n",
      "mm_cwd_cas_rai_low_bas_wor_ processing completed at 2022-05-26 14:20:17.425767\n",
      "mm_evt_rcp_irr_hig_bas_wor_ processing completed at 2022-05-26 14:20:54.041978\n",
      "tha_yld_oni_rai_hig_bas_wor_ processing completed at 2022-05-26 14:21:30.669769\n",
      "mm_evt_oil_rai_low_bas_wor_ processing completed at 2022-05-26 14:22:07.303817\n",
      "tha_yld_rcp_irr_int_bas_wor_ processing completed at 2022-05-26 14:22:44.517051\n",
      "tha_yld_rcp_rai_int_bas_wor_ processing completed at 2022-05-26 14:23:21.786433\n",
      "mm_evt_oni_rai_hig_bas_wor_ processing completed at 2022-05-26 14:23:58.681787\n",
      "tha_yld_rcp_irr_hig_bas_wor_ processing completed at 2022-05-26 14:24:35.543850\n",
      "mm_evt_bea_rai_hig_bas_wor_ processing completed at 2022-05-26 14:25:12.874235\n",
      "mm_cwd_rcp_irr_hig_bas_wor_ processing completed at 2022-05-26 14:25:50.553691\n",
      "tha_yld_ptw_irr_int_bas_wor_ processing completed at 2022-05-26 14:26:28.105514\n",
      "mm_evt_cof_rai_int_bas_wor_ processing completed at 2022-05-26 14:27:05.606241\n",
      "tha_yld_ptw_rai_hig_bas_wor_ processing completed at 2022-05-26 14:27:43.006115\n"
     ]
    },
    {
     "name": "stdout",
     "output_type": "stream",
     "text": [
      "mm_evt_ptw_irr_int_bas_wor_ processing completed at 2022-05-26 14:28:19.767996\n",
      "tha_yld_ban_irr_int_bas_wor_ processing completed at 2022-05-26 14:28:55.465365\n",
      "tha_yld_cof_rai_low_bas_wor_ processing completed at 2022-05-26 14:29:33.534239\n",
      "mm_evt_oil_rai_hig_bas_wor_ processing completed at 2022-05-26 14:30:10.914094\n",
      "mm_cwd_ban_irr_hig_bas_wor_ processing completed at 2022-05-26 14:30:49.838388\n",
      "tha_yld_ban_rai_hig_bas_wor_ processing completed at 2022-05-26 14:31:27.186674\n",
      "tha_yld_cab_irr_hig_bas_wor_ processing completed at 2022-05-26 14:32:04.059817\n",
      "mm_evt_rcp_rai_hig_bas_wor_ processing completed at 2022-05-26 14:32:41.629208\n",
      "mm_cwd_cof_rai_low_bas_wor_ processing completed at 2022-05-26 14:33:20.312214\n",
      "mm_evt_mai_irr_int_bas_wor_ processing completed at 2022-05-26 14:33:57.397035\n",
      "mm_cwd_cas_irr_hig_bas_wor_ processing completed at 2022-05-26 14:34:33.126072\n",
      "mm_cwd_mai_irr_int_bas_wor_ processing completed at 2022-05-26 14:35:08.812500\n",
      "tha_yld_cof_rai_hig_bas_wor_ processing completed at 2022-05-26 14:35:45.044210\n",
      "mm_cwd_oil_rai_hig_bas_wor_ processing completed at 2022-05-26 14:36:22.610934\n",
      "mm_evt_cab_irr_hig_bas_wor_ processing completed at 2022-05-26 14:36:59.269729\n",
      "mm_evt_tom_irr_int_bas_wor_ processing completed at 2022-05-26 14:37:36.059688\n",
      "mm_cwd_oni_irr_hig_bas_wor_ processing completed at 2022-05-26 14:38:13.674087\n",
      "tha_yld_jat_rai_hig_bas_wor_ processing completed at 2022-05-26 14:38:50.147442\n",
      "mm_evt_sgc_irr_int_bas_wor_ processing completed at 2022-05-26 14:39:26.775147\n",
      "mm_cwd_ptw_rai_int_bas_wor_ processing completed at 2022-05-26 14:40:03.179015\n",
      "mm_evt_cof_irr_hig_bas_wor_ processing completed at 2022-05-26 14:40:40.046058\n",
      "tha_yld_sgc_rai_int_bas_wor_ processing completed at 2022-05-26 14:41:16.761644\n",
      "mm_cwd_mai_rai_hig_bas_wor_ processing completed at 2022-05-26 14:41:55.565872\n",
      "mm_evt_ban_irr_hig_bas_wor_ processing completed at 2022-05-26 14:42:32.715369\n",
      "mm_cwd_pts_irr_int_bas_wor_ processing completed at 2022-05-26 14:43:08.743559\n",
      "mm_cwd_ptw_irr_hig_bas_wor_ processing completed at 2022-05-26 14:43:45.007328\n",
      "mm_cwd_tom_rai_hig_bas_wor_ processing completed at 2022-05-26 14:44:20.643985\n",
      "mm_evt_cas_rai_hig_bas_wor_ processing completed at 2022-05-26 14:44:56.704515\n",
      "mm_evt_yam_irr_hig_bas_wor_ processing completed at 2022-05-26 14:45:32.678996\n",
      "tha_yld_con_rai_int_bas_wor_ processing completed at 2022-05-26 14:46:08.438279\n",
      "mm_evt_mai_rai_int_bas_wor_ processing completed at 2022-05-26 14:46:44.121324\n",
      "mm_evt_rcp_rai_low_bas_wor_ processing completed at 2022-05-26 14:47:20.354036\n",
      "mm_cwd_yam_irr_hig_bas_wor_ processing completed at 2022-05-26 14:47:56.351393\n",
      "mm_evt_cab_rai_hig_bas_wor_ processing completed at 2022-05-26 14:48:33.074529\n",
      "mm_evt_oil_irr_hig_bas_wor_ processing completed at 2022-05-26 14:49:09.101169\n",
      "mm_cwd_con_rai_low_bas_wor_ processing completed at 2022-05-26 14:49:47.120223\n",
      "mm_cwd_pts_rai_int_bas_wor_ processing completed at 2022-05-26 14:50:23.105958\n",
      "mm_cwd_oil_rai_int_bas_wor_ processing completed at 2022-05-26 14:50:58.773014\n",
      "mm_cwd_oni_rai_hig_bas_wor_ processing completed at 2022-05-26 14:51:34.237734\n",
      "mm_cwd_sgc_rai_int_bas_wor_ processing completed at 2022-05-26 14:52:10.221767\n",
      "mm_evt_cas_irr_hig_bas_wor_ processing completed at 2022-05-26 14:52:45.840785\n",
      "mm_evt_tom_irr_hig_bas_wor_ processing completed at 2022-05-26 14:53:21.672851\n",
      "mm_evt_ptw_rai_hig_bas_wor_ processing completed at 2022-05-26 14:53:57.391253\n",
      "mm_cwd_con_rai_int_bas_wor_ processing completed at 2022-05-26 14:54:34.413297\n",
      "mm_cwd_ptw_rai_low_bas_wor_ processing completed at 2022-05-26 14:55:10.434205\n",
      "mm_evt_bea_irr_int_bas_wor_ processing completed at 2022-05-26 14:55:46.519912\n",
      "tha_yld_con_rai_hig_bas_wor_ processing completed at 2022-05-26 14:56:22.201788\n",
      "tha_yld_yam_rai_low_bas_wor_ processing completed at 2022-05-26 14:56:57.890194\n",
      "tha_yld_cof_irr_hig_bas_wor_ processing completed at 2022-05-26 14:57:33.343439\n",
      "tha_yld_cab_irr_int_bas_wor_ processing completed at 2022-05-26 14:58:09.297787\n",
      "mm_cwd_sgc_rai_hig_bas_wor_ processing completed at 2022-05-26 14:58:44.838004\n",
      "mm_cwd_con_rai_hig_bas_wor_ processing completed at 2022-05-26 14:59:21.815378\n",
      "mm_cwd_cas_rai_int_bas_wor_ processing completed at 2022-05-26 14:59:57.554083\n",
      "mm_evt_pts_irr_int_bas_wor_ processing completed at 2022-05-26 15:00:33.283346\n",
      "tha_yld_jat_irr_hig_bas_wor_ processing completed at 2022-05-26 15:01:08.890222\n",
      "tha_yld_yam_rai_int_bas_wor_ processing completed at 2022-05-26 15:01:49.571104\n",
      "mm_cwd_cab_irr_hig_bas_wor_ processing completed at 2022-05-26 15:02:29.511147\n",
      "mm_evt_pts_rai_hig_bas_wor_ processing completed at 2022-05-26 15:03:08.127406\n",
      "mm_cwd_oni_rai_int_bas_wor_ processing completed at 2022-05-26 15:03:47.164865\n",
      "mm_cwd_jat_irr_hig_bas_wor_ processing completed at 2022-05-26 15:04:25.558239\n",
      "mm_evt_ban_rai_int_bas_wor_ processing completed at 2022-05-26 15:05:03.915610\n",
      "tha_yld_ptw_rai_int_bas_wor_ processing completed at 2022-05-26 15:05:42.379542\n",
      "mm_evt_bea_rai_low_bas_wor_ processing completed at 2022-05-26 15:06:20.479342\n",
      "tha_yld_sgc_irr_int_bas_wor_ processing completed at 2022-05-26 15:06:58.614744\n",
      "tha_yld_oni_rai_low_bas_wor_ processing completed at 2022-05-26 15:07:37.017627\n",
      "mm_evt_con_rai_hig_bas_wor_ processing completed at 2022-05-26 15:08:15.615739\n",
      "mm_evt_yam_rai_int_bas_wor_ processing completed at 2022-05-26 15:08:54.674353\n",
      "tha_yld_oil_irr_int_bas_wor_ processing completed at 2022-05-26 15:09:34.693561\n",
      "tha_yld_oil_rai_low_bas_wor_ processing completed at 2022-05-26 15:10:15.733033\n",
      "mm_cwd_bea_irr_hig_bas_wor_ processing completed at 2022-05-26 15:10:56.103579\n",
      "tha_yld_bea_rai_int_bas_wor_ processing completed at 2022-05-26 15:11:35.131589\n",
      "mm_evt_rcp_rai_int_bas_wor_ processing completed at 2022-05-26 15:12:14.189419\n",
      "mm_cwd_sgc_irr_int_bas_wor_ processing completed at 2022-05-26 15:12:52.851148\n",
      "mm_cwd_jat_rai_int_bas_wor_ processing completed at 2022-05-26 15:13:31.547731\n",
      "mm_cwd_jat_rai_low_bas_wor_ processing completed at 2022-05-26 15:14:10.308194\n",
      "mm_evt_cof_rai_low_bas_wor_ processing completed at 2022-05-26 15:14:49.238508\n",
      "tha_yld_con_irr_hig_bas_wor_ processing completed at 2022-05-26 15:15:27.882427\n",
      "mm_evt_oil_irr_int_bas_wor_ processing completed at 2022-05-26 15:16:07.645258\n",
      "tha_yld_oil_rai_hig_bas_wor_ processing completed at 2022-05-26 15:16:46.744154\n",
      "mm_evt_ptw_irr_hig_bas_wor_ processing completed at 2022-05-26 15:17:25.742967\n",
      "mm_cwd_ban_rai_int_bas_wor_ processing completed at 2022-05-26 15:18:06.558165\n",
      "mm_cwd_oil_irr_int_bas_wor_ processing completed at 2022-05-26 15:18:45.498924\n",
      "tha_yld_mai_irr_hig_bas_wor_ processing completed at 2022-05-26 15:19:24.901334\n",
      "tha_yld_mai_irr_int_bas_wor_ processing completed at 2022-05-26 15:20:04.664699\n",
      "mm_cwd_bea_irr_int_bas_wor_ processing completed at 2022-05-26 15:20:45.171258\n",
      "mm_cwd_pts_irr_hig_bas_wor_ processing completed at 2022-05-26 15:21:24.486451\n",
      "mm_evt_jat_rai_int_bas_wor_ processing completed at 2022-05-26 15:22:03.475721\n",
      "mm_cwd_cab_rai_int_bas_wor_ processing completed at 2022-05-26 15:22:42.597338\n",
      "mm_cwd_cof_irr_hig_bas_wor_ processing completed at 2022-05-26 15:23:23.287351\n",
      "mm_cwd_rcp_rai_low_bas_wor_ processing completed at 2022-05-26 15:24:02.802929\n",
      "mm_evt_cof_rai_hig_bas_wor_ processing completed at 2022-05-26 15:24:43.226781\n",
      "mm_evt_mai_rai_low_bas_wor_ processing completed at 2022-05-26 15:25:23.951799\n",
      "tha_yld_ban_rai_low_bas_wor_ processing completed at 2022-05-26 15:26:02.701759\n",
      "tha_yld_tom_irr_int_bas_wor_ processing completed at 2022-05-26 15:26:41.802309\n",
      "mm_evt_pts_rai_low_bas_wor_ processing completed at 2022-05-26 15:27:22.340079\n",
      "tha_yld_cab_rai_hig_bas_wor_ processing completed at 2022-05-26 15:28:05.184958\n",
      "tha_yld_oni_rai_int_bas_wor_ processing completed at 2022-05-26 15:28:45.090854\n",
      "mm_cwd_yam_rai_low_bas_wor_ processing completed at 2022-05-26 15:29:25.605185\n",
      "mm_evt_sgc_irr_hig_bas_wor_ processing completed at 2022-05-26 15:30:05.130958\n",
      "mm_cwd_bea_rai_low_bas_wor_ processing completed at 2022-05-26 15:30:44.889677\n",
      "mm_cwd_cas_irr_int_bas_wor_ processing completed at 2022-05-26 15:31:24.969079\n",
      "mm_cwd_yam_rai_int_bas_wor_ processing completed at 2022-05-26 15:32:04.828450\n",
      "mm_cwd_rcp_rai_hig_bas_wor_ processing completed at 2022-05-26 15:32:44.468203\n",
      "mm_evt_pts_irr_hig_bas_wor_ processing completed at 2022-05-26 15:33:23.898967\n"
     ]
    },
    {
     "name": "stdout",
     "output_type": "stream",
     "text": [
      "mm_cwd_oil_rai_low_bas_wor_ processing completed at 2022-05-26 15:34:04.777794\n",
      "mm_evt_bea_rai_int_bas_wor_ processing completed at 2022-05-26 15:34:45.245721\n",
      "mm_cwd_yam_irr_int_bas_wor_ processing completed at 2022-05-26 15:35:23.922925\n",
      "tha_yld_ptw_rai_low_bas_wor_ processing completed at 2022-05-26 15:36:02.934617\n",
      "mm_cwd_oni_irr_int_bas_wor_ processing completed at 2022-05-26 15:36:42.019469\n",
      "tha_yld_mai_rai_low_bas_wor_ processing completed at 2022-05-26 15:37:20.755614\n",
      "tha_yld_cas_rai_int_bas_wor_ processing completed at 2022-05-26 15:37:59.296936\n",
      "tha_yld_bea_irr_hig_bas_wor_ processing completed at 2022-05-26 15:38:37.986548\n",
      "mm_cwd_con_irr_int_bas_wor_ processing completed at 2022-05-26 15:39:18.384635\n",
      "mm_evt_sgc_rai_low_bas_wor_ processing completed at 2022-05-26 15:39:57.344064\n",
      "mm_cwd_sgc_irr_hig_bas_wor_ processing completed at 2022-05-26 15:40:36.187337\n",
      "tha_yld_cab_rai_low_bas_wor_ processing completed at 2022-05-26 15:41:16.529766\n",
      "mm_evt_mai_rai_hig_bas_wor_ processing completed at 2022-05-26 15:41:55.330730\n",
      "tha_yld_mai_rai_hig_bas_wor_ processing completed at 2022-05-26 15:42:34.518309\n",
      "mm_evt_sgc_rai_hig_bas_wor_ processing completed at 2022-05-26 15:43:13.539887\n",
      "tha_yld_sgc_rai_hig_bas_wor_ processing completed at 2022-05-26 15:43:52.477979\n",
      "mm_cwd_oil_irr_hig_bas_wor_ processing completed at 2022-05-26 15:44:31.387879\n",
      "mm_cwd_tom_rai_low_bas_wor_ processing completed at 2022-05-26 15:45:10.803198\n",
      "mm_cwd_ban_rai_low_bas_wor_ processing completed at 2022-05-26 15:45:52.675124\n",
      "tha_yld_tom_rai_low_bas_wor_ processing completed at 2022-05-26 15:46:31.987017\n",
      "mm_evt_jat_rai_low_bas_wor_ processing completed at 2022-05-26 15:47:11.499948\n",
      "mm_evt_jat_rai_hig_bas_wor_ processing completed at 2022-05-26 15:47:50.916420\n",
      "mm_evt_tom_rai_hig_bas_wor_ processing completed at 2022-05-26 15:48:29.862815\n",
      "tha_yld_bea_irr_int_bas_wor_ processing completed at 2022-05-26 15:49:08.716269\n",
      "tha_yld_sgc_rai_low_bas_wor_ processing completed at 2022-05-26 15:49:47.956769\n",
      "mm_evt_bea_irr_hig_bas_wor_ processing completed at 2022-05-26 15:50:27.376855\n",
      "tha_yld_oil_rai_int_bas_wor_ processing completed at 2022-05-26 15:51:07.405142\n",
      "mm_evt_jat_irr_hig_bas_wor_ processing completed at 2022-05-26 15:51:46.788134\n",
      "mm_prc_bas__wor_ processing completed at 2022-05-26 15:52:25.953669\n",
      "mm_cwd_bea_rai_hig_bas_wor_ processing completed at 2022-05-26 15:53:05.713853\n",
      "mm_cwd_rcp_rai_int_bas_wor_ processing completed at 2022-05-26 15:53:44.036099\n",
      "mm_cwd_ban_irr_int_bas_wor_ processing completed at 2022-05-26 15:54:23.621409\n",
      "mm_evt_ban_rai_hig_bas_wor_ processing completed at 2022-05-26 15:55:02.083399\n"
     ]
    }
   ],
   "source": [
    "for raster in raster_files_con:\n",
    "    prefix = raster.rstrip(\".tif\")\n",
    "    prefix = prefix.rstrip('_ncb')\n",
    "    prefix = prefix + \"_\"\n",
    "    \n",
    "    # Calling the extraction function for discrete layers\n",
    "    clusters = processing_raster_con(in_path_raster, raster, prefix, \"mean\", clusters)"
   ]
  },
  {
   "cell_type": "markdown",
   "metadata": {},
   "source": [
    "### Discrete datasets (e.g. Land cover type)"
   ]
  },
  {
   "cell_type": "markdown",
   "metadata": {},
   "source": [
    "Note that the Land Cover layer used follows `International Geosphere-Biosphere Programme (IGBP) classification` (see [here](https://smap.jpl.nasa.gov/system/internal_resources/details/original/284_042_landcover.pdf) for more info)."
   ]
  },
  {
   "cell_type": "code",
   "execution_count": 41,
   "metadata": {
    "code_folding": []
   },
   "outputs": [
    {
     "name": "stderr",
     "output_type": "stream",
     "text": [
      "C:\\Users\\alexl\\anaconda3\\envs\\clews_gis_work\\lib\\site-packages\\rasterstats\\io.py:301: UserWarning: Setting nodata to -999; specify nodata explicitly\n",
      "  warnings.warn(\"Setting nodata to -999; specify nodata explicitly\")\n"
     ]
    },
    {
     "name": "stdout",
     "output_type": "stream",
     "text": [
      "LCType processing completed at 2022-05-26 16:03:26.102749\n"
     ]
    }
   ],
   "source": [
    "for raster in raster_files_dis:\n",
    "    prefix = raster.rstrip(\".tif\")\n",
    "    prefix = prefix.rstrip('_ncb')\n",
    "    \n",
    "    # Calling the extraction function for discrete layers\n",
    "    clusters = processing_raster_cat(in_path_raster, raster, prefix, clusters)"
   ]
  },
  {
   "cell_type": "markdown",
   "metadata": {},
   "source": [
    "## Converting the geojson file to geodataframe\n",
    "\n",
    "**NOTE** In case you get an Driver Error for reading the geojson file into a geodataframe, this might be cause due to attribution of \"inf\" or \"-inf\" value in one of the attributes. This is related to the way python handles json (see fix [here](https://stackoverflow.com/questions/17503981/is-there-a-way-to-override-pythons-json-handler)). An \"easy\" fix is that you import the geojson into Qgis and replace the erroneous value(s) manually. This is not ideal but it will do the job. In that case, save the updated geojson file and use the second (commented) line below to import into a geodataframe."
   ]
  },
  {
   "cell_type": "code",
   "execution_count": 42,
   "metadata": {},
   "outputs": [
    {
     "name": "stdout",
     "output_type": "stream",
     "text": [
      "cluster created anew at 2022-05-26 16:03:49.987134\n"
     ]
    }
   ],
   "source": [
    "clusters = geojson_to_gdf(out_path, clusters)"
   ]
  },
  {
   "cell_type": "markdown",
   "metadata": {},
   "source": [
    "## Exporting the geodataframe as vector layer"
   ]
  },
  {
   "cell_type": "code",
   "execution_count": 43,
   "metadata": {},
   "outputs": [],
   "source": [
    "# Export as csv\n",
    "clusters.to_csv(os.path.join(out_path,\"{c}.csv\".format(c=result_nm)))"
   ]
  },
  {
   "cell_type": "code",
   "execution_count": 44,
   "metadata": {},
   "outputs": [
    {
     "name": "stdout",
     "output_type": "stream",
     "text": [
      "Part 2 complete! 😎\n"
     ]
    }
   ],
   "source": [
    "# Export as shapefile \n",
    "clusters.to_file(os.path.join(out_path,\"{c}.gpkg\".format(c=result_nm)),driver=\"GPKG\")\n",
    "print (\"Part 2 complete!\", \"\\U0001F60E\")"
   ]
  },
  {
   "cell_type": "markdown",
   "metadata": {},
   "source": [
    " \n"
   ]
  },
  {
   "cell_type": "markdown",
   "metadata": {},
   "source": [
    " "
   ]
  },
  {
   "cell_type": "markdown",
   "metadata": {},
   "source": [
    "# Part 3 - Calculating summary stats for clusters\n",
    "\n",
    "This part calculates summary statistics for the generated clusters. There outputs include:\n",
    "\n",
    "* Tabular summaries (.csv format) at national level\n",
    "* Tabular summaries (.csv format) grouped by cluster\n",
    "* Interactive graphs (.html) for key attributes per cluster"
   ]
  },
  {
   "cell_type": "markdown",
   "metadata": {},
   "source": [
    "#### Collect name of attributes assigned to the clusters"
   ]
  },
  {
   "cell_type": "code",
   "execution_count": 45,
   "metadata": {},
   "outputs": [],
   "source": [
    "origin_list_of_cols = list(final_clustered_GAEZ_gdf.columns)\n",
    "final_list_of_cols = list(clusters.columns)"
   ]
  },
  {
   "cell_type": "markdown",
   "metadata": {},
   "source": [
    "## National summary stats"
   ]
  },
  {
   "cell_type": "markdown",
   "metadata": {},
   "source": [
    "### Land cover and area stats"
   ]
  },
  {
   "cell_type": "code",
   "execution_count": 46,
   "metadata": {
    "code_folding": [
     0
    ]
   },
   "outputs": [],
   "source": [
    "# Land cover area estimator\n",
    "def calc_LC_sqkm(df, col_list):\n",
    "    \"\"\" \n",
    "    This function takes the df where the LC type for different classes is provided per location (row).\n",
    "    It adds all pixels per location; then is calculates the ratio of LC class in each location (% of total).\n",
    "    Finally is estimates the area per LC type in each location by multiplying with the total area each row represents.\n",
    "    \n",
    "    INPUT: \n",
    "    df -> Pandas dataframe with LC type classification \n",
    "    col_list -> list of columns to include in the summary (e.g. LC0-LC16)\n",
    "    \n",
    "    OUTPUT: Updated dataframe with estimated area (sqkm) of LC types per row\n",
    "    \"\"\"\n",
    "    df[\"LC_sum\"] = df[col_list].sum(axis=1)\n",
    "    for col in col_list:\n",
    "        df[col] = df[col]/df[\"LC_sum\"]*df[\"sqkm\"]\n",
    "    \n",
    "    return df"
   ]
  },
  {
   "cell_type": "code",
   "execution_count": 47,
   "metadata": {
    "code_folding": [
     0
    ]
   },
   "outputs": [],
   "source": [
    "# Identify land cover related columns\n",
    "landCover_cols = []\n",
    "for col in final_list_of_cols:\n",
    "    if \"LCType\" in col:\n",
    "        landCover_cols.append(col)\n",
    "if not landCover_cols:\n",
    "    print (\"There is not any Land Cover associated column in the dataframe; please revise\")\n",
    "else:\n",
    "    pass"
   ]
  },
  {
   "cell_type": "code",
   "execution_count": 48,
   "metadata": {},
   "outputs": [],
   "source": [
    "data_gdf_LCsqkm = calc_LC_sqkm(clusters, landCover_cols)"
   ]
  },
  {
   "cell_type": "code",
   "execution_count": 49,
   "metadata": {
    "code_folding": [
     0
    ]
   },
   "outputs": [],
   "source": [
    "# list of stast to be calculated\n",
    "lc_sum_rows = ['sum', 'min', 'max']\n",
    "\n",
    "# initiate the summary table \n",
    "LC_summary_table = pd.DataFrame(index=lc_sum_rows, columns=landCover_cols)\n",
    "\n",
    "# filling in the table\n",
    "for col in landCover_cols:\n",
    "    LC_summary_table[col][0] = round(data_gdf_LCsqkm[col].sum(),2)\n",
    "    LC_summary_table[col][1] = round(data_gdf_LCsqkm[col].min(),2)\n",
    "    LC_summary_table[col][2] = round(data_gdf_LCsqkm[col].max(),2)"
   ]
  },
  {
   "cell_type": "code",
   "execution_count": 50,
   "metadata": {},
   "outputs": [
    {
     "data": {
      "text/markdown": [
       "###  These are the summarized results for land cover (sq.km) in **nam**"
      ],
      "text/plain": [
       "<IPython.core.display.Markdown object>"
      ]
     },
     "metadata": {},
     "output_type": "display_data"
    },
    {
     "data": {
      "text/markdown": [
       " **Total area:** 840001.2 sq.km"
      ],
      "text/plain": [
       "<IPython.core.display.Markdown object>"
      ]
     },
     "metadata": {},
     "output_type": "display_data"
    },
    {
     "data": {
      "text/html": [
       "<div>\n",
       "<style scoped>\n",
       "    .dataframe tbody tr th:only-of-type {\n",
       "        vertical-align: middle;\n",
       "    }\n",
       "\n",
       "    .dataframe tbody tr th {\n",
       "        vertical-align: top;\n",
       "    }\n",
       "\n",
       "    .dataframe thead th {\n",
       "        text-align: right;\n",
       "    }\n",
       "</style>\n",
       "<table border=\"1\" class=\"dataframe\">\n",
       "  <thead>\n",
       "    <tr style=\"text-align: right;\">\n",
       "      <th></th>\n",
       "      <th>LCType7</th>\n",
       "      <th>LCType10</th>\n",
       "      <th>LCType16</th>\n",
       "      <th>LCType8</th>\n",
       "      <th>LCType9</th>\n",
       "      <th>LCType14</th>\n",
       "      <th>LCType12</th>\n",
       "      <th>LCType6</th>\n",
       "      <th>LCType0</th>\n",
       "      <th>LCType4</th>\n",
       "      <th>LCType13</th>\n",
       "      <th>LCType11</th>\n",
       "      <th>LCType3</th>\n",
       "      <th>LCType5</th>\n",
       "      <th>LCType2</th>\n",
       "    </tr>\n",
       "  </thead>\n",
       "  <tbody>\n",
       "    <tr>\n",
       "      <th>sum</th>\n",
       "      <td>470812</td>\n",
       "      <td>20963.6</td>\n",
       "      <td>193376</td>\n",
       "      <td>455.54</td>\n",
       "      <td>146240</td>\n",
       "      <td>55.72</td>\n",
       "      <td>125.37</td>\n",
       "      <td>5525.83</td>\n",
       "      <td>1601.05</td>\n",
       "      <td>7.64</td>\n",
       "      <td>247.5</td>\n",
       "      <td>566.41</td>\n",
       "      <td>4.48</td>\n",
       "      <td>18.97</td>\n",
       "      <td>1.33</td>\n",
       "    </tr>\n",
       "    <tr>\n",
       "      <th>min</th>\n",
       "      <td>0.01</td>\n",
       "      <td>0.14</td>\n",
       "      <td>0</td>\n",
       "      <td>0.11</td>\n",
       "      <td>0.02</td>\n",
       "      <td>0.13</td>\n",
       "      <td>0.16</td>\n",
       "      <td>0.17</td>\n",
       "      <td>0</td>\n",
       "      <td>0.16</td>\n",
       "      <td>0.18</td>\n",
       "      <td>0.14</td>\n",
       "      <td>0.17</td>\n",
       "      <td>0.14</td>\n",
       "      <td>0.02</td>\n",
       "    </tr>\n",
       "    <tr>\n",
       "      <th>max</th>\n",
       "      <td>82.65</td>\n",
       "      <td>77.03</td>\n",
       "      <td>82.4</td>\n",
       "      <td>17.39</td>\n",
       "      <td>87.26</td>\n",
       "      <td>4.09</td>\n",
       "      <td>5.06</td>\n",
       "      <td>73.6</td>\n",
       "      <td>48.77</td>\n",
       "      <td>0.93</td>\n",
       "      <td>16.41</td>\n",
       "      <td>58.7</td>\n",
       "      <td>0.97</td>\n",
       "      <td>3.86</td>\n",
       "      <td>0.37</td>\n",
       "    </tr>\n",
       "  </tbody>\n",
       "</table>\n",
       "</div>"
      ],
      "text/plain": [
       "    LCType7 LCType10 LCType16 LCType8 LCType9 LCType14 LCType12  LCType6  \\\n",
       "sum  470812  20963.6   193376  455.54  146240    55.72   125.37  5525.83   \n",
       "min    0.01     0.14        0    0.11    0.02     0.13     0.16     0.17   \n",
       "max   82.65    77.03     82.4   17.39   87.26     4.09     5.06     73.6   \n",
       "\n",
       "     LCType0 LCType4 LCType13 LCType11 LCType3 LCType5 LCType2  \n",
       "sum  1601.05    7.64    247.5   566.41    4.48   18.97    1.33  \n",
       "min        0    0.16     0.18     0.14    0.17    0.14    0.02  \n",
       "max    48.77    0.93    16.41     58.7    0.97    3.86    0.37  "
      ]
     },
     "metadata": {},
     "output_type": "display_data"
    },
    {
     "data": {
      "text/markdown": [
       "#### Class Description \n",
       "\n",
       " LCType0 - Water \n",
       "\n",
       " LCType1 - Evergreen Needleleaf Forest \n",
       "\n",
       " LCType2 - Evergreen Broadleaf Forest \n",
       "\n",
       "  LCType3 - Deciduous Needleleaf Forest \n",
       "\n",
       " LCType4 - Deciduous Broadleaf Forest \n",
       "\n",
       " LCType5 - Mixed Forests \n",
       "\n",
       " LCType6 - Closed Shrublands \n",
       "\n",
       " LCType7 - Open Shrublands \n",
       "\n",
       " LCType8 - Woody Savannas \n",
       "\n",
       " LCType9 - Savannas \n",
       "\n",
       " LCType10 - Grasslands \n",
       "\n",
       " LCType11 - Permanent Wetlands \n",
       "\n",
       " LCType12 - Croplands \n",
       "\n",
       " LCType13 - Urban and Built-Up \n",
       "\n",
       " LCType14 - Cropland/Natural Vegetation Mosaic \n",
       "\n",
       " LCType15 - Snow and Ice \n",
       "\n",
       " LCType16 - Barren or Sparsely Vegetated"
      ],
      "text/plain": [
       "<IPython.core.display.Markdown object>"
      ]
     },
     "metadata": {},
     "output_type": "display_data"
    }
   ],
   "source": [
    "display(Markdown('###  These are the summarized results for land cover (sq.km) in **{}**'.format(country_name)))\n",
    "display(Markdown(' **Total area:** {:0.1f} sq.km'.format(data_gdf_LCsqkm.sqkm.sum())))\n",
    "display(LC_summary_table)\n",
    "display(Markdown('#### Class Description \\n\\n LCType0 - Water \\n\\n LCType1 - Evergreen Needleleaf Forest \\n\\n LCType2 - Evergreen Broadleaf Forest \\n\\n  LCType3 - Deciduous Needleleaf Forest \\n\\n LCType4 - Deciduous Broadleaf Forest \\n\\n LCType5 - Mixed Forests \\n\\n LCType6 - Closed Shrublands \\n\\n LCType7 - Open Shrublands \\n\\n LCType8 - Woody Savannas \\n\\n LCType9 - Savannas \\n\\n LCType10 - Grasslands \\n\\n LCType11 - Permanent Wetlands \\n\\n LCType12 - Croplands \\n\\n LCType13 - Urban and Built-Up \\n\\n LCType14 - Cropland/Natural Vegetation Mosaic \\n\\n LCType15 - Snow and Ice \\n\\n LCType16 - Barren or Sparsely Vegetated'))"
   ]
  },
  {
   "cell_type": "markdown",
   "metadata": {},
   "source": [
    "### Other variables"
   ]
  },
  {
   "cell_type": "code",
   "execution_count": 51,
   "metadata": {
    "code_folding": []
   },
   "outputs": [],
   "source": [
    "# Calculate summary statistics for other than land cover attribute columns\n",
    "final_list_of_cols = list(data_gdf_LCsqkm.columns)\n",
    "sum_cols = [x for x in final_list_of_cols if x not in origin_list_of_cols]\n",
    "sum_cols = [x for x in sum_cols if x not in landCover_cols]\n",
    "sum_cols.remove(\"id\")\n",
    "sum_cols.remove(\"LC_sum\")\n",
    "\n",
    "# \n",
    "sum_rows = ['mean', 'min', 'max']\n",
    "\n",
    "other_summary_table = pd.DataFrame(index=sum_rows, columns=sum_cols)\n",
    "\n",
    "for col in sum_cols:\n",
    "    other_summary_table[col][0] = round(data_gdf_LCsqkm[col].mean(),2)\n",
    "    other_summary_table[col][1] = round(data_gdf_LCsqkm[col].min(),2)\n",
    "    other_summary_table[col][2] = round(data_gdf_LCsqkm[col].max(),2)"
   ]
  },
  {
   "cell_type": "code",
   "execution_count": 52,
   "metadata": {},
   "outputs": [
    {
     "data": {
      "text/markdown": [
       "###  \n",
       " These are the summarized results for the rest of the variables collected for **nam**"
      ],
      "text/plain": [
       "<IPython.core.display.Markdown object>"
      ]
     },
     "metadata": {},
     "output_type": "display_data"
    },
    {
     "data": {
      "text/html": [
       "<div>\n",
       "<style scoped>\n",
       "    .dataframe tbody tr th:only-of-type {\n",
       "        vertical-align: middle;\n",
       "    }\n",
       "\n",
       "    .dataframe tbody tr th {\n",
       "        vertical-align: top;\n",
       "    }\n",
       "\n",
       "    .dataframe thead th {\n",
       "        text-align: right;\n",
       "    }\n",
       "</style>\n",
       "<table border=\"1\" class=\"dataframe\">\n",
       "  <thead>\n",
       "    <tr style=\"text-align: right;\">\n",
       "      <th></th>\n",
       "      <th>tha_yld_yam_rai_hig_bas_wor_mean</th>\n",
       "      <th>mm_evt_cof_irr_int_bas_wor_mean</th>\n",
       "      <th>tha_yld_oil_irr_hig_bas_wor_mean</th>\n",
       "      <th>mm_evt_tom_rai_int_bas_wor_mean</th>\n",
       "      <th>mm_cwd_sgc_rai_low_bas_wor_mean</th>\n",
       "      <th>mm_evt_oni_rai_int_bas_wor_mean</th>\n",
       "      <th>mm_evt_cab_irr_int_bas_wor_mean</th>\n",
       "      <th>tha_yld_jat_rai_int_bas_wor_mean</th>\n",
       "      <th>tha_yld_pts_rai_int_bas_wor_mean</th>\n",
       "      <th>mm_cwd_bea_rai_int_bas_wor_mean</th>\n",
       "      <th>...</th>\n",
       "      <th>tha_yld_bea_irr_int_bas_wor_mean</th>\n",
       "      <th>tha_yld_sgc_rai_low_bas_wor_mean</th>\n",
       "      <th>mm_evt_bea_irr_hig_bas_wor_mean</th>\n",
       "      <th>tha_yld_oil_rai_int_bas_wor_mean</th>\n",
       "      <th>mm_evt_jat_irr_hig_bas_wor_mean</th>\n",
       "      <th>mm_prc_bas__wor_mean</th>\n",
       "      <th>mm_cwd_bea_rai_hig_bas_wor_mean</th>\n",
       "      <th>mm_cwd_rcp_rai_int_bas_wor_mean</th>\n",
       "      <th>mm_cwd_ban_irr_int_bas_wor_mean</th>\n",
       "      <th>mm_evt_ban_rai_hig_bas_wor_mean</th>\n",
       "    </tr>\n",
       "  </thead>\n",
       "  <tbody>\n",
       "    <tr>\n",
       "      <th>mean</th>\n",
       "      <td>1.8</td>\n",
       "      <td>411.43</td>\n",
       "      <td>0</td>\n",
       "      <td>158.22</td>\n",
       "      <td>0</td>\n",
       "      <td>163.06</td>\n",
       "      <td>551.66</td>\n",
       "      <td>0</td>\n",
       "      <td>1.54</td>\n",
       "      <td>36.41</td>\n",
       "      <td>...</td>\n",
       "      <td>2.86</td>\n",
       "      <td>0</td>\n",
       "      <td>640.03</td>\n",
       "      <td>0</td>\n",
       "      <td>720.09</td>\n",
       "      <td>303.05</td>\n",
       "      <td>37.15</td>\n",
       "      <td>0</td>\n",
       "      <td>939.22</td>\n",
       "      <td>0</td>\n",
       "    </tr>\n",
       "    <tr>\n",
       "      <th>min</th>\n",
       "      <td>0</td>\n",
       "      <td>0</td>\n",
       "      <td>0</td>\n",
       "      <td>0</td>\n",
       "      <td>0</td>\n",
       "      <td>0</td>\n",
       "      <td>383.25</td>\n",
       "      <td>0</td>\n",
       "      <td>0</td>\n",
       "      <td>0</td>\n",
       "      <td>...</td>\n",
       "      <td>0</td>\n",
       "      <td>0</td>\n",
       "      <td>0</td>\n",
       "      <td>0</td>\n",
       "      <td>0</td>\n",
       "      <td>31</td>\n",
       "      <td>0</td>\n",
       "      <td>0</td>\n",
       "      <td>0</td>\n",
       "      <td>0</td>\n",
       "    </tr>\n",
       "    <tr>\n",
       "      <th>max</th>\n",
       "      <td>6.83</td>\n",
       "      <td>1433</td>\n",
       "      <td>0</td>\n",
       "      <td>538</td>\n",
       "      <td>0</td>\n",
       "      <td>534.5</td>\n",
       "      <td>741.5</td>\n",
       "      <td>0.39</td>\n",
       "      <td>7.36</td>\n",
       "      <td>219.25</td>\n",
       "      <td>...</td>\n",
       "      <td>3.77</td>\n",
       "      <td>0</td>\n",
       "      <td>940</td>\n",
       "      <td>0</td>\n",
       "      <td>1129.25</td>\n",
       "      <td>666</td>\n",
       "      <td>233</td>\n",
       "      <td>0</td>\n",
       "      <td>1378.5</td>\n",
       "      <td>0</td>\n",
       "    </tr>\n",
       "  </tbody>\n",
       "</table>\n",
       "<p>3 rows × 241 columns</p>\n",
       "</div>"
      ],
      "text/plain": [
       "     tha_yld_yam_rai_hig_bas_wor_mean mm_evt_cof_irr_int_bas_wor_mean  \\\n",
       "mean                              1.8                          411.43   \n",
       "min                                 0                               0   \n",
       "max                              6.83                            1433   \n",
       "\n",
       "     tha_yld_oil_irr_hig_bas_wor_mean mm_evt_tom_rai_int_bas_wor_mean  \\\n",
       "mean                                0                          158.22   \n",
       "min                                 0                               0   \n",
       "max                                 0                             538   \n",
       "\n",
       "     mm_cwd_sgc_rai_low_bas_wor_mean mm_evt_oni_rai_int_bas_wor_mean  \\\n",
       "mean                               0                          163.06   \n",
       "min                                0                               0   \n",
       "max                                0                           534.5   \n",
       "\n",
       "     mm_evt_cab_irr_int_bas_wor_mean tha_yld_jat_rai_int_bas_wor_mean  \\\n",
       "mean                          551.66                                0   \n",
       "min                           383.25                                0   \n",
       "max                            741.5                             0.39   \n",
       "\n",
       "     tha_yld_pts_rai_int_bas_wor_mean mm_cwd_bea_rai_int_bas_wor_mean  ...  \\\n",
       "mean                             1.54                           36.41  ...   \n",
       "min                                 0                               0  ...   \n",
       "max                              7.36                          219.25  ...   \n",
       "\n",
       "     tha_yld_bea_irr_int_bas_wor_mean tha_yld_sgc_rai_low_bas_wor_mean  \\\n",
       "mean                             2.86                                0   \n",
       "min                                 0                                0   \n",
       "max                              3.77                                0   \n",
       "\n",
       "     mm_evt_bea_irr_hig_bas_wor_mean tha_yld_oil_rai_int_bas_wor_mean  \\\n",
       "mean                          640.03                                0   \n",
       "min                                0                                0   \n",
       "max                              940                                0   \n",
       "\n",
       "     mm_evt_jat_irr_hig_bas_wor_mean mm_prc_bas__wor_mean  \\\n",
       "mean                          720.09               303.05   \n",
       "min                                0                   31   \n",
       "max                          1129.25                  666   \n",
       "\n",
       "     mm_cwd_bea_rai_hig_bas_wor_mean mm_cwd_rcp_rai_int_bas_wor_mean  \\\n",
       "mean                           37.15                               0   \n",
       "min                                0                               0   \n",
       "max                              233                               0   \n",
       "\n",
       "     mm_cwd_ban_irr_int_bas_wor_mean mm_evt_ban_rai_hig_bas_wor_mean  \n",
       "mean                          939.22                               0  \n",
       "min                                0                               0  \n",
       "max                           1378.5                               0  \n",
       "\n",
       "[3 rows x 241 columns]"
      ]
     },
     "metadata": {},
     "output_type": "display_data"
    },
    {
     "data": {
      "text/markdown": [
       "### Note! \n",
       " Units are similar to the original source; you may refer to the [documantation]() for more info."
      ],
      "text/plain": [
       "<IPython.core.display.Markdown object>"
      ]
     },
     "metadata": {},
     "output_type": "display_data"
    }
   ],
   "source": [
    "display(Markdown('###  \\n These are the summarized results for the rest of the variables collected for **{}**'.format(country_name)))\n",
    "display(other_summary_table)\n",
    "display(Markdown('### Note! \\n Units are similar to the original source; you may refer to the [documantation]() for more info.'))"
   ]
  },
  {
   "cell_type": "markdown",
   "metadata": {},
   "source": [
    "### Export national stats to csv"
   ]
  },
  {
   "cell_type": "code",
   "execution_count": 53,
   "metadata": {},
   "outputs": [],
   "source": [
    "#Export national stats to csv\n",
    "LC_summary_table.to_csv(os.path.join(summary_stats_path,\"{}_LandCover_National_summary.csv\".format(country_name)))\n",
    "other_summary_table.to_csv(os.path.join(summary_stats_path,\"{}_Parameter_National_summary.csv\".format(country_name)))"
   ]
  },
  {
   "cell_type": "markdown",
   "metadata": {},
   "source": [
    " "
   ]
  },
  {
   "cell_type": "markdown",
   "metadata": {},
   "source": [
    "## Calculating Cluster Summaries"
   ]
  },
  {
   "cell_type": "code",
   "execution_count": 54,
   "metadata": {},
   "outputs": [
    {
     "data": {
      "text/markdown": [
       "**Note** that there are 0 polygons that are not assigned to a cluster  -- classified as \"None\""
      ],
      "text/plain": [
       "<IPython.core.display.Markdown object>"
      ]
     },
     "metadata": {},
     "output_type": "display_data"
    }
   ],
   "source": [
    "data_gdf_LCsqkm[\"cluster\"] = data_gdf_LCsqkm[\"cluster\"].astype(str)\n",
    "non_clustered_data = data_gdf_LCsqkm[data_gdf_LCsqkm[\"cluster\"] == \"None\"]\n",
    "\n",
    "display(Markdown('**Note** that there are {} polygons that are not assigned to a cluster  -- classified as \"None\"'\n",
    "                 .format(len(non_clustered_data))))"
   ]
  },
  {
   "cell_type": "markdown",
   "metadata": {},
   "source": [
    "### Groupby on clusters"
   ]
  },
  {
   "cell_type": "code",
   "execution_count": 55,
   "metadata": {},
   "outputs": [],
   "source": [
    "clusters = data_gdf_LCsqkm.groupby(['cluster'])"
   ]
  },
  {
   "cell_type": "markdown",
   "metadata": {},
   "source": [
    "### Land cover and area"
   ]
  },
  {
   "cell_type": "code",
   "execution_count": 56,
   "metadata": {},
   "outputs": [],
   "source": [
    "clusters_lc = clusters[landCover_cols].sum().merge(clusters[\"sqkm\"].sum(), on=\"cluster\").round(decimals = 1)"
   ]
  },
  {
   "cell_type": "code",
   "execution_count": 57,
   "metadata": {},
   "outputs": [
    {
     "data": {
      "text/markdown": [
       "#### Cluster summary statistics for area and land cover in nam"
      ],
      "text/plain": [
       "<IPython.core.display.Markdown object>"
      ]
     },
     "metadata": {},
     "output_type": "display_data"
    },
    {
     "data": {
      "text/html": [
       "<div>\n",
       "<style scoped>\n",
       "    .dataframe tbody tr th:only-of-type {\n",
       "        vertical-align: middle;\n",
       "    }\n",
       "\n",
       "    .dataframe tbody tr th {\n",
       "        vertical-align: top;\n",
       "    }\n",
       "\n",
       "    .dataframe thead th {\n",
       "        text-align: right;\n",
       "    }\n",
       "</style>\n",
       "<table border=\"1\" class=\"dataframe\">\n",
       "  <thead>\n",
       "    <tr style=\"text-align: right;\">\n",
       "      <th></th>\n",
       "      <th>LCType7</th>\n",
       "      <th>LCType10</th>\n",
       "      <th>LCType16</th>\n",
       "      <th>LCType8</th>\n",
       "      <th>LCType9</th>\n",
       "      <th>LCType14</th>\n",
       "      <th>LCType12</th>\n",
       "      <th>LCType6</th>\n",
       "      <th>LCType0</th>\n",
       "      <th>LCType4</th>\n",
       "      <th>LCType13</th>\n",
       "      <th>LCType11</th>\n",
       "      <th>LCType3</th>\n",
       "      <th>LCType5</th>\n",
       "      <th>LCType2</th>\n",
       "      <th>sqkm</th>\n",
       "    </tr>\n",
       "    <tr>\n",
       "      <th>cluster</th>\n",
       "      <th></th>\n",
       "      <th></th>\n",
       "      <th></th>\n",
       "      <th></th>\n",
       "      <th></th>\n",
       "      <th></th>\n",
       "      <th></th>\n",
       "      <th></th>\n",
       "      <th></th>\n",
       "      <th></th>\n",
       "      <th></th>\n",
       "      <th></th>\n",
       "      <th></th>\n",
       "      <th></th>\n",
       "      <th></th>\n",
       "      <th></th>\n",
       "    </tr>\n",
       "  </thead>\n",
       "  <tbody>\n",
       "    <tr>\n",
       "      <th>NAMIBIA</th>\n",
       "      <td>470811.7</td>\n",
       "      <td>20963.6</td>\n",
       "      <td>193376.4</td>\n",
       "      <td>455.5</td>\n",
       "      <td>146239.7</td>\n",
       "      <td>55.7</td>\n",
       "      <td>125.4</td>\n",
       "      <td>5525.8</td>\n",
       "      <td>1601.0</td>\n",
       "      <td>7.6</td>\n",
       "      <td>247.5</td>\n",
       "      <td>566.4</td>\n",
       "      <td>4.5</td>\n",
       "      <td>19.0</td>\n",
       "      <td>1.3</td>\n",
       "      <td>840001.2</td>\n",
       "    </tr>\n",
       "  </tbody>\n",
       "</table>\n",
       "</div>"
      ],
      "text/plain": [
       "          LCType7  LCType10  LCType16  LCType8   LCType9  LCType14  LCType12  \\\n",
       "cluster                                                                        \n",
       "NAMIBIA  470811.7   20963.6  193376.4    455.5  146239.7      55.7     125.4   \n",
       "\n",
       "         LCType6  LCType0  LCType4  LCType13  LCType11  LCType3  LCType5  \\\n",
       "cluster                                                                    \n",
       "NAMIBIA   5525.8   1601.0      7.6     247.5     566.4      4.5     19.0   \n",
       "\n",
       "         LCType2      sqkm  \n",
       "cluster                     \n",
       "NAMIBIA      1.3  840001.2  "
      ]
     },
     "execution_count": 57,
     "metadata": {},
     "output_type": "execute_result"
    }
   ],
   "source": [
    "clusters_lc.sort_values(ascending=False, by='sqkm').reset_index()\n",
    "display(Markdown('#### Cluster summary statistics for area and land cover in {}'.format(country_name)))\n",
    "clusters_lc"
   ]
  },
  {
   "cell_type": "code",
   "execution_count": 58,
   "metadata": {},
   "outputs": [],
   "source": [
    "#Export national stats to csv\n",
    "clusters_lc.to_csv(os.path.join(summary_stats_path,\"{}_LandCover_byCluster_summary.csv\".format(country_name)))"
   ]
  },
  {
   "cell_type": "markdown",
   "metadata": {},
   "source": [
    "### Other variable summaries"
   ]
  },
  {
   "cell_type": "code",
   "execution_count": 59,
   "metadata": {},
   "outputs": [],
   "source": [
    "clusters_other = clusters[sum_cols].mean().round(decimals = 2)"
   ]
  },
  {
   "cell_type": "code",
   "execution_count": 60,
   "metadata": {},
   "outputs": [
    {
     "data": {
      "text/markdown": [
       "#### Cluster summary statistics for other variables in nam"
      ],
      "text/plain": [
       "<IPython.core.display.Markdown object>"
      ]
     },
     "metadata": {},
     "output_type": "display_data"
    },
    {
     "data": {
      "text/html": [
       "<div>\n",
       "<style scoped>\n",
       "    .dataframe tbody tr th:only-of-type {\n",
       "        vertical-align: middle;\n",
       "    }\n",
       "\n",
       "    .dataframe tbody tr th {\n",
       "        vertical-align: top;\n",
       "    }\n",
       "\n",
       "    .dataframe thead th {\n",
       "        text-align: right;\n",
       "    }\n",
       "</style>\n",
       "<table border=\"1\" class=\"dataframe\">\n",
       "  <thead>\n",
       "    <tr style=\"text-align: right;\">\n",
       "      <th></th>\n",
       "      <th>tha_yld_yam_rai_hig_bas_wor_mean</th>\n",
       "      <th>mm_evt_cof_irr_int_bas_wor_mean</th>\n",
       "      <th>tha_yld_oil_irr_hig_bas_wor_mean</th>\n",
       "      <th>mm_evt_tom_rai_int_bas_wor_mean</th>\n",
       "      <th>mm_cwd_sgc_rai_low_bas_wor_mean</th>\n",
       "      <th>mm_evt_oni_rai_int_bas_wor_mean</th>\n",
       "      <th>mm_evt_cab_irr_int_bas_wor_mean</th>\n",
       "      <th>tha_yld_jat_rai_int_bas_wor_mean</th>\n",
       "      <th>tha_yld_pts_rai_int_bas_wor_mean</th>\n",
       "      <th>mm_cwd_bea_rai_int_bas_wor_mean</th>\n",
       "      <th>...</th>\n",
       "      <th>tha_yld_bea_irr_int_bas_wor_mean</th>\n",
       "      <th>tha_yld_sgc_rai_low_bas_wor_mean</th>\n",
       "      <th>mm_evt_bea_irr_hig_bas_wor_mean</th>\n",
       "      <th>tha_yld_oil_rai_int_bas_wor_mean</th>\n",
       "      <th>mm_evt_jat_irr_hig_bas_wor_mean</th>\n",
       "      <th>mm_prc_bas__wor_mean</th>\n",
       "      <th>mm_cwd_bea_rai_hig_bas_wor_mean</th>\n",
       "      <th>mm_cwd_rcp_rai_int_bas_wor_mean</th>\n",
       "      <th>mm_cwd_ban_irr_int_bas_wor_mean</th>\n",
       "      <th>mm_evt_ban_rai_hig_bas_wor_mean</th>\n",
       "    </tr>\n",
       "    <tr>\n",
       "      <th>cluster</th>\n",
       "      <th></th>\n",
       "      <th></th>\n",
       "      <th></th>\n",
       "      <th></th>\n",
       "      <th></th>\n",
       "      <th></th>\n",
       "      <th></th>\n",
       "      <th></th>\n",
       "      <th></th>\n",
       "      <th></th>\n",
       "      <th></th>\n",
       "      <th></th>\n",
       "      <th></th>\n",
       "      <th></th>\n",
       "      <th></th>\n",
       "      <th></th>\n",
       "      <th></th>\n",
       "      <th></th>\n",
       "      <th></th>\n",
       "      <th></th>\n",
       "      <th></th>\n",
       "    </tr>\n",
       "  </thead>\n",
       "  <tbody>\n",
       "    <tr>\n",
       "      <th>NAMIBIA</th>\n",
       "      <td>1.8</td>\n",
       "      <td>411.43</td>\n",
       "      <td>0.0</td>\n",
       "      <td>158.22</td>\n",
       "      <td>0.0</td>\n",
       "      <td>163.06</td>\n",
       "      <td>551.66</td>\n",
       "      <td>0.0</td>\n",
       "      <td>1.54</td>\n",
       "      <td>36.41</td>\n",
       "      <td>...</td>\n",
       "      <td>2.86</td>\n",
       "      <td>0.0</td>\n",
       "      <td>640.03</td>\n",
       "      <td>0.0</td>\n",
       "      <td>720.09</td>\n",
       "      <td>303.05</td>\n",
       "      <td>37.15</td>\n",
       "      <td>0.0</td>\n",
       "      <td>939.22</td>\n",
       "      <td>0.0</td>\n",
       "    </tr>\n",
       "  </tbody>\n",
       "</table>\n",
       "<p>1 rows × 241 columns</p>\n",
       "</div>"
      ],
      "text/plain": [
       "         tha_yld_yam_rai_hig_bas_wor_mean  mm_evt_cof_irr_int_bas_wor_mean  \\\n",
       "cluster                                                                      \n",
       "NAMIBIA                               1.8                           411.43   \n",
       "\n",
       "         tha_yld_oil_irr_hig_bas_wor_mean  mm_evt_tom_rai_int_bas_wor_mean  \\\n",
       "cluster                                                                      \n",
       "NAMIBIA                               0.0                           158.22   \n",
       "\n",
       "         mm_cwd_sgc_rai_low_bas_wor_mean  mm_evt_oni_rai_int_bas_wor_mean  \\\n",
       "cluster                                                                     \n",
       "NAMIBIA                              0.0                           163.06   \n",
       "\n",
       "         mm_evt_cab_irr_int_bas_wor_mean  tha_yld_jat_rai_int_bas_wor_mean  \\\n",
       "cluster                                                                      \n",
       "NAMIBIA                           551.66                               0.0   \n",
       "\n",
       "         tha_yld_pts_rai_int_bas_wor_mean  mm_cwd_bea_rai_int_bas_wor_mean  \\\n",
       "cluster                                                                      \n",
       "NAMIBIA                              1.54                            36.41   \n",
       "\n",
       "         ...  tha_yld_bea_irr_int_bas_wor_mean  \\\n",
       "cluster  ...                                     \n",
       "NAMIBIA  ...                              2.86   \n",
       "\n",
       "         tha_yld_sgc_rai_low_bas_wor_mean  mm_evt_bea_irr_hig_bas_wor_mean  \\\n",
       "cluster                                                                      \n",
       "NAMIBIA                               0.0                           640.03   \n",
       "\n",
       "         tha_yld_oil_rai_int_bas_wor_mean  mm_evt_jat_irr_hig_bas_wor_mean  \\\n",
       "cluster                                                                      \n",
       "NAMIBIA                               0.0                           720.09   \n",
       "\n",
       "         mm_prc_bas__wor_mean  mm_cwd_bea_rai_hig_bas_wor_mean  \\\n",
       "cluster                                                          \n",
       "NAMIBIA                303.05                            37.15   \n",
       "\n",
       "         mm_cwd_rcp_rai_int_bas_wor_mean  mm_cwd_ban_irr_int_bas_wor_mean  \\\n",
       "cluster                                                                     \n",
       "NAMIBIA                              0.0                           939.22   \n",
       "\n",
       "         mm_evt_ban_rai_hig_bas_wor_mean  \n",
       "cluster                                   \n",
       "NAMIBIA                              0.0  \n",
       "\n",
       "[1 rows x 241 columns]"
      ]
     },
     "execution_count": 60,
     "metadata": {},
     "output_type": "execute_result"
    }
   ],
   "source": [
    "display(Markdown('#### Cluster summary statistics for other variables in {}'.format(country_name)))\n",
    "clusters_other"
   ]
  },
  {
   "cell_type": "code",
   "execution_count": 61,
   "metadata": {},
   "outputs": [],
   "source": [
    "#Export national stats to csv\n",
    "clusters_other.to_csv(os.path.join(summary_stats_path,\"{}_Parameter_byCluster_summary.csv\".format(country_name)))"
   ]
  },
  {
   "cell_type": "markdown",
   "metadata": {},
   "source": [
    "### Generate interactive graphs"
   ]
  },
  {
   "cell_type": "code",
   "execution_count": 62,
   "metadata": {
    "code_folding": []
   },
   "outputs": [],
   "source": [
    "def make_interactive_graph_sum(clust_dict, parameter, name):\n",
    "    for key, value in clust_dict.items():\n",
    "        clust_dict[key] = round(clusters.get_group(key)[parameter].sum(),2)\n",
    "    fig_Cluster = px.bar(pd.DataFrame.from_dict(clust_dict, orient='index', columns=[\"sum\"]), title=\"Dictribution of {} over clusters in {}\".format(parameter, country_name))\n",
    "    #fig_Cluster.show()\n",
    "    # Export figure as html\n",
    "    fig_Cluster.write_html((os.path.join(summary_stats_path,\"{}_{}_{}_perCluster.html\".format(name, parameter, \"sum\"))))"
   ]
  },
  {
   "cell_type": "code",
   "execution_count": 63,
   "metadata": {
    "code_folding": []
   },
   "outputs": [],
   "source": [
    "def make_interactive_graph_mean(clust_dict, parameter, name):\n",
    "    for key, value in clust_dict.items():\n",
    "        clust_dict[key] = round(clusters.get_group(key)[parameter].mean(),2)\n",
    "    fig_Cluster = px.bar(pd.DataFrame.from_dict(clust_dict, orient='index', columns=[\"mean\"]), title=\"Dictribution of {} over clusters in {}\".format(parameter, country_name))\n",
    "    #fig_Cluster.show()\n",
    "    # Export figure as html\n",
    "    fig_Cluster.write_html((os.path.join(summary_stats_path,\"{}_{}_{}_perCluster.html\".format(name, parameter, \"mean\"))))"
   ]
  },
  {
   "cell_type": "code",
   "execution_count": 64,
   "metadata": {},
   "outputs": [],
   "source": [
    "# Get cluster names\n",
    "clust_names = list(data_gdf_LCsqkm.cluster.unique())\n",
    "\n",
    "# Create a dictionary that includes the name of the clusters and a selected parameter\n",
    "clust_dict = dict.fromkeys(clust_names, 1)"
   ]
  },
  {
   "cell_type": "code",
   "execution_count": 65,
   "metadata": {
    "code_folding": []
   },
   "outputs": [],
   "source": [
    "landCover_cols.append(\"sqkm\")\n",
    "\n",
    "for item in landCover_cols:\n",
    "    make_interactive_graph_sum(clust_dict, item, country_name) \n",
    "    \n",
    "for col in sum_cols:\n",
    "    make_interactive_graph_mean(clust_dict, col, country_name) "
   ]
  },
  {
   "cell_type": "code",
   "execution_count": 66,
   "metadata": {},
   "outputs": [
    {
     "name": "stdout",
     "output_type": "stream",
     "text": [
      "Part 3 - and with that the analysis - completed! 👊\n",
      "Elapsed time: 03:13:01\n"
     ]
    }
   ],
   "source": [
    "print (\"Part 3 - and with that the analysis - completed!\", \"\\U0001F44A\")\n",
    "print (\"Elapsed time: {}\".format(time.strftime(\"%H:%M:%S\", time.gmtime(time.time() - start_time))))"
   ]
  }
 ],
 "metadata": {
  "kernelspec": {
   "display_name": "Python 3",
   "language": "python",
   "name": "python3"
  },
  "language_info": {
   "codemirror_mode": {
    "name": "ipython",
    "version": 3
   },
   "file_extension": ".py",
   "mimetype": "text/x-python",
   "name": "python",
   "nbconvert_exporter": "python",
   "pygments_lexer": "ipython3",
   "version": "3.8.5"
  }
 },
 "nbformat": 4,
 "nbformat_minor": 4
}
