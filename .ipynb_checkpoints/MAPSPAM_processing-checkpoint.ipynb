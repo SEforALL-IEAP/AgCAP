{
 "cells": [
  {
   "cell_type": "code",
   "execution_count": 46,
   "metadata": {},
   "outputs": [],
   "source": [
    "import os\n",
    "import rasterio\n",
    "import numpy as np\n",
    "import geopandas as gpd\n",
    "from rasterio.mask import mask\n",
    "from rasterio.enums import Resampling"
   ]
  },
  {
   "cell_type": "code",
   "execution_count": 47,
   "metadata": {},
   "outputs": [],
   "source": [
    "ROOT_DIR = os.path.abspath(os.getcwd())\n",
    "in_path = ROOT_DIR + \"\\\\\" + 'GIS_data'"
   ]
  },
  {
   "cell_type": "code",
   "execution_count": 48,
   "metadata": {
    "code_folding": [
     0
    ]
   },
   "outputs": [],
   "source": [
    "def upscale_raster(input_raster_path, output_raster_path, scale_factor):\n",
    "    # Open the original raster\n",
    "    with rasterio.open(input_raster_path) as src:\n",
    "        # Read the data and metadata\n",
    "        data = src.read(1)  # Read the first band (assuming single-band raster)\n",
    "        original_transform = src.transform\n",
    "        \n",
    "        # Calculate the new shape based on the scale factor\n",
    "        new_height = int(src.height * scale_factor)\n",
    "        new_width = int(src.width * scale_factor)\n",
    "        \n",
    "        # Resample the data using nearest neighbor (for simple replication of values)\n",
    "        new_data = np.repeat(np.repeat(data, scale_factor, axis=0), scale_factor, axis=1)\n",
    "        \n",
    "        # Divide each original pixel's value equally among the new pixels\n",
    "        new_data = new_data / (scale_factor * scale_factor)\n",
    "        \n",
    "        # Calculate the new transform\n",
    "        new_transform = original_transform * original_transform.scale(1 / scale_factor, 1 / scale_factor)\n",
    "        \n",
    "        # Update metadata with the new resolution\n",
    "        new_meta = src.meta.copy()\n",
    "        new_meta.update({\n",
    "            \"height\": new_height,\n",
    "            \"width\": new_width,\n",
    "            \"transform\": new_transform\n",
    "        })\n",
    "\n",
    "        # Write the resampled raster to a new file\n",
    "        with rasterio.open(output_raster_path, \"w\", **new_meta) as dst:\n",
    "            dst.write(new_data, 1)  # Write to the first band"
   ]
  },
  {
   "cell_type": "markdown",
   "metadata": {},
   "source": [
    "### Provide link to directory containing the crop data (physical area | production)"
   ]
  },
  {
   "cell_type": "code",
   "execution_count": 49,
   "metadata": {},
   "outputs": [],
   "source": [
    "## Physical Area\n",
    "in_path_raster = r\"C:\\Users\\alexl\\Dropbox\\Self-employment\\SEforALL\\Work\\Mozambique\\Cooling_Module\\GIS_data\\Harvested_area\\spam2020V1r0_global_physical_area.geotiff\\spam2020V1r0_global_physical_area\"\n",
    "file = \"Physical_Area\"\n",
    "\n",
    "## Crop Production\n",
    "#in_path_raster = r\"C:\\Users\\alexl\\Dropbox\\Self-employment\\SEforALL\\Work\\Mozambique\\Cooling_Module\\GIS_data\\Harvested_area\\spam2020V1r0_global_production.geotiff\\spam2020V1r0_global_production\"\n",
    "#file = \"Crop_Production\""
   ]
  },
  {
   "cell_type": "markdown",
   "metadata": {},
   "source": [
    "###  Provide crops you want to extract\n",
    "\n",
    "Note: Typically there are 3 layers per crop indicating I: Irrigated, R: Rainfed, A: All (I presume). Make sure you include the prefix too e.g., RICE_A."
   ]
  },
  {
   "cell_type": "code",
   "execution_count": 50,
   "metadata": {},
   "outputs": [],
   "source": [
    "crop_name = [\"RICE_A\", \"MAIZ_A\", \"CASS_A\", \"SORG_A\"]"
   ]
  },
  {
   "cell_type": "code",
   "execution_count": 51,
   "metadata": {
    "code_folding": [
     0
    ]
   },
   "outputs": [
    {
     "name": "stderr",
     "output_type": "stream",
     "text": [
      "<ipython-input-51-da725478ae36>:9: RuntimeWarning: invalid value encountered in greater\n",
      "  data = src.read()\n",
      "<ipython-input-51-da725478ae36>:9: RuntimeWarning: invalid value encountered in less\n",
      "  data = src.read()\n"
     ]
    },
    {
     "name": "stdout",
     "output_type": "stream",
     "text": [
      "We have identified 4 continuous raster(s): \n",
      "\n",
      "* spam2020_v1r0_global_A_MAIZ_A.tif\n",
      "* spam2020_v1r0_global_A_CASS_A.tif\n",
      "* spam2020_v1r0_global_A_SORG_A.tif\n",
      "* spam2020_v1r0_global_A_RICE_A.tif\n",
      "\n",
      " We have identified 0 discrete raster(s): \n",
      "\n"
     ]
    }
   ],
   "source": [
    "# Read files with tif extension and assign their name into two list for discrete and continuous datasets\n",
    "raster_files_dis = []\n",
    "raster_files_con =[]\n",
    "\n",
    "for i in os.listdir(in_path_raster):\n",
    "    for crop in crop_name:\n",
    "        if (crop in i) and i.endswith('.tif'):\n",
    "            with rasterio.open(in_path_raster + '\\\\' + i) as src:\n",
    "                data = src.read() \n",
    "                unique_val = len(np.unique(data))\n",
    "                if unique_val < 20:                                   # This value is arbitrary\n",
    "                    raster_files_dis.append(i)\n",
    "                else:\n",
    "                    raster_files_con.append(i)\n",
    "                \n",
    "for j in os.listdir(in_path_raster):\n",
    "    if (\"ncb\" in j) and j.endswith('.tif'):\n",
    "        with rasterio.open(in_path_raster + '\\\\' + j) as src:\n",
    "            data = src.read() \n",
    "            unique_val = len(np.unique(data))\n",
    "            if unique_val < 20:                                   # This value is arbitrary\n",
    "                raster_files_dis.append(j)\n",
    "            else:\n",
    "                raster_files_con.append(j)\n",
    "                \n",
    "# keep only unique values -- Not needed but just in case there are dublicates\n",
    "raster_files_con = list(set(raster_files_con))\n",
    "raster_files_dis = list(set(raster_files_dis))\n",
    "                \n",
    "print (\"We have identified {} continuous raster(s):\".format(len(raster_files_con)),\"\\n\",)\n",
    "for raster in raster_files_con:\n",
    "    print ( \"*\", raster)\n",
    "    \n",
    "print (\"\\n\", \"We have identified {} discrete raster(s):\".format(len(raster_files_dis)),\"\\n\",)\n",
    "for raster in raster_files_dis:\n",
    "    print ( \"*\", raster)"
   ]
  },
  {
   "cell_type": "markdown",
   "metadata": {},
   "source": [
    "### Load the shapefile of the AoI you want to clip the raster layers on"
   ]
  },
  {
   "cell_type": "code",
   "execution_count": 52,
   "metadata": {
    "code_folding": []
   },
   "outputs": [],
   "source": [
    "# Define path and name of the file\n",
    "admin_path = in_path + \"\\\\\" + \"Admin\"\n",
    "admin_name = \"Mopeia_admin.gpkg\"\n",
    "\n",
    "aoi = gpd.read_file(admin_path + \"//\" + admin_name)\n",
    "\n",
    "aoi['geometry'] = aoi.apply(lambda x:\n",
    "                            x.geometry.buffer(0.08, cap_style=3), axis=1)  ### 0.008 deg = ~1km"
   ]
  },
  {
   "cell_type": "markdown",
   "metadata": {},
   "source": [
    "### Clip selected raster files and save in GIS directory"
   ]
  },
  {
   "cell_type": "code",
   "execution_count": 53,
   "metadata": {
    "code_folding": []
   },
   "outputs": [
    {
     "name": "stdout",
     "output_type": "stream",
     "text": [
      "Clipping for spam2020_v1r0_global_A_MAIZ_A_Mopeia completed\n",
      "Clipping for spam2020_v1r0_global_A_MAIZ_A_Mopeia_Resampled completed\n",
      "Clipping for spam2020_v1r0_global_A_CASS_A_Mopeia completed\n",
      "Clipping for spam2020_v1r0_global_A_CASS_A_Mopeia_Resampled completed\n",
      "Clipping for spam2020_v1r0_global_A_SORG_A_Mopeia completed\n",
      "Clipping for spam2020_v1r0_global_A_SORG_A_Mopeia_Resampled completed\n",
      "Clipping for spam2020_v1r0_global_A_RICE_A_Mopeia completed\n",
      "Clipping for spam2020_v1r0_global_A_RICE_A_Mopeia_Resampled completed\n"
     ]
    },
    {
     "name": "stderr",
     "output_type": "stream",
     "text": [
      "<ipython-input-48-276ad24ed2fd>:5: RuntimeWarning: invalid value encountered in greater\n",
      "  data = src.read(1)  # Read the first band (assuming single-band raster)\n",
      "<ipython-input-48-276ad24ed2fd>:5: RuntimeWarning: invalid value encountered in less\n",
      "  data = src.read(1)  # Read the first band (assuming single-band raster)\n"
     ]
    }
   ],
   "source": [
    "for raster in raster_files_con:\n",
    "    prefix = raster.rstrip(\".tif\")\n",
    "    prefix = prefix + \"_\" + aoi.ADM2_NAME[0]                     ## this might change based on what you use\n",
    "    prefixres = prefix + \"_Resampled\"    ## this might change based on what you use\n",
    "    \n",
    "    #path = r'C:\\Users\\alexl\\Dropbox\\Self-employment\\SEforALL\\Work\\Mozambique\\Cooling_Module\\GIS_data\\Harvested_area\\spam2020V1r0_global_physical_area.geotiff\\spam2020V1r0_global_physical_area'\n",
    "    raster_path = in_path_raster + \"//\" + raster\n",
    "    #print (raster_path)\n",
    "    \n",
    "    with rasterio.open(raster_path) as src:\n",
    "        # Transform the aoi geometry into the same coordinate reference system (CRS) as the raster\n",
    "        aoi = aoi.to_crs(src.crs)\n",
    "    \n",
    "        # Extract the geometry of the aoi\n",
    "        geometry = [aoi.geometry[0]]  # Assumes the shapefile has one polygon. Adjust if there are multiple geometries.\n",
    "    \n",
    "        # Clip the raster using the geometry\n",
    "        out_image, out_transform = mask(src, geometry, crop=True)\n",
    "        out_meta = src.meta.copy()\n",
    "    \n",
    "        # Update metadata with the new dimensions, transform, and CRS\n",
    "        out_meta.update({\n",
    "            \"driver\": \"GTiff\",\n",
    "            \"height\": out_image.shape[1],\n",
    "            \"width\": out_image.shape[2],\n",
    "            \"transform\": out_transform\n",
    "        })\n",
    "\n",
    "        # Save the clipped raster\n",
    "        out_path = in_path + \"\\\\\" + file  ## Make sure the directory exists\n",
    "        clipped_raster_path = out_path + \"//\" + prefix\n",
    "        with rasterio.open(clipped_raster_path, \"w\", **out_meta) as dest:\n",
    "            dest.write(out_image)\n",
    "            \n",
    "        print(\"Clipping for {} completed\".format(prefix))\n",
    "        \n",
    "        # Define the scale factor (10 km to 0.5 km requires a scale factor of 20)\n",
    "        scale_factor = 20\n",
    "\n",
    "        # Run the upscale function\n",
    "        output_raster = out_path + \"//\" + \"_\" + prefixres\n",
    "        upscale_raster(clipped_raster_path, output_raster, scale_factor)\n",
    "        \n",
    "        print(\"Clipping for {} completed\".format(prefixres))"
   ]
  }
 ],
 "metadata": {
  "kernelspec": {
   "display_name": "Python 3",
   "language": "python",
   "name": "python3"
  },
  "language_info": {
   "codemirror_mode": {
    "name": "ipython",
    "version": 3
   },
   "file_extension": ".py",
   "mimetype": "text/x-python",
   "name": "python",
   "nbconvert_exporter": "python",
   "pygments_lexer": "ipython3",
   "version": "3.8.5"
  }
 },
 "nbformat": 4,
 "nbformat_minor": 4
}
