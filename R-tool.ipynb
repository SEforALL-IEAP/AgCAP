{
 "cells": [
  {
   "cell_type": "markdown",
   "id": "4cc39cf9",
   "metadata": {},
   "source": [
    "# Accessibility Mapping in R"
   ]
  },
  {
   "cell_type": "markdown",
   "id": "f56f426f",
   "metadata": {},
   "source": [
    "Related papers:\n",
    "\n",
    "- https://www.nature.com/articles/nature25181#Sec2\n",
    "- https://www.nature.com/articles/s41597-019-0265-5#Tab1\n",
    "- https://www.nature.com/articles/s41591-020-1059-1#Sec2\n",
    "\n",
    "Based on code from:\n",
    "\n",
    "- https://malariaatlas.org/wp-content/uploads/accessibility-2020/R_generic_accessibilty_mapping_script_2020.r\n",
    "- https://gist.github.com/giacfalk/fe2033d1c3a5c841d669d7ccdfe9e3d7\n",
    "\n",
    "Global friction surface available here:\n",
    "- https://malariaatlas.org/project-resources/accessibility-to-healthcare/"
   ]
  },
  {
   "cell_type": "markdown",
   "id": "c0542914",
   "metadata": {},
   "source": [
    "**How to run**\n",
    "\n",
    "1. Prepare friction map for area of interest (motorized or foot)\n",
    "2. Prepare point locations of interest (.csv must have the uid, X_COORDS, Y_COORDS as columns)\n",
    "2. Open anaconda\n",
    "2. Activate R_tools environment\n",
    "3. Start jupyter notebook"
   ]
  },
  {
   "cell_type": "code",
   "execution_count": 17,
   "id": "3159cce5",
   "metadata": {},
   "outputs": [
    {
     "name": "stderr",
     "output_type": "stream",
     "text": [
      "Linking to GEOS 3.9.0, GDAL 3.2.1, PROJ 7.2.1\n",
      "Loading required package: sp\n",
      "Loading required package: igraph\n",
      "\n",
      "Attaching package: 'igraph'\n",
      "\n",
      "The following object is masked from 'package:raster':\n",
      "\n",
      "    union\n",
      "\n",
      "The following objects are masked from 'package:stats':\n",
      "\n",
      "    decompose, spectrum\n",
      "\n",
      "The following object is masked from 'package:base':\n",
      "\n",
      "    union\n",
      "\n",
      "Loading required package: Matrix\n",
      "\n",
      "Attaching package: 'gdistance'\n",
      "\n",
      "The following object is masked from 'package:igraph':\n",
      "\n",
      "    normalize\n",
      "\n"
     ]
    }
   ],
   "source": [
    "## For the first part (accessibility map)\n",
    "library(sf)\n",
    "library(raster)\n",
    "library(gdistance)"
   ]
  },
  {
   "cell_type": "markdown",
   "id": "97504931",
   "metadata": {},
   "source": [
    "## Accessibility map generation "
   ]
  },
  {
   "cell_type": "code",
   "execution_count": 18,
   "id": "ad772ee7",
   "metadata": {},
   "outputs": [],
   "source": [
    "# User Defined Variables - used if clipping from the global layer, if no clipping is needed, see lines 66-67 (currently commented out).\n",
    "# This could also be accomplished by importing a shapefile (for example) \n",
    "# Geographic Coordinates (WGS84)\n",
    "#left   <- -2.0\n",
    "#right  <- 0.0\n",
    "#bottom <- 50.0\n",
    "#top    <- 52.0\n",
    "transition.matrix.exists.flag <- 0 # if the geo-corrected graph has already been made, this can save time.  Uses the same T.GC.filename as specified using the T.GC.filename variable."
   ]
  },
  {
   "cell_type": "code",
   "execution_count": 19,
   "id": "6192caca",
   "metadata": {},
   "outputs": [],
   "source": [
    "# Input Files\n",
    "# Note: the alternate, 'walking_only' friction surface is named friction_surface_2019_v51_walking_only.tif\n",
    "friction.surface.filename <- 'GIS_data/motorized_friction_surface_Moz.tif'\n",
    "point.filename1 <- 'GIS_data/Key_locations_for_Distance/airports/airports.csv' # Just 2 columns.  Structured as [X_COORD, Y_COORD] aka [LONG, LAT].  Use a header.\n",
    "point.filename2 <- 'GIS_data/Key_locations_for_Distance/ports/ports.csv' # Just 2 columns.  Structured as [X_COORD, Y_COORD] aka [LONG, LAT].  Use a header.\n",
    "point.filename3 <- 'GIS_data/Key_locations_for_Distance/railways/railways.csv' # Just 2 columns.  Structured as [X_COORD, Y_COORD] aka [LONG, LAT].  Use a header.\n",
    "point.filename4 <- 'GIS_data/Key_locations_for_Distance/Cities_Towns/cities.csv' # Just 2 columns.  Structured as [X_COORD, Y_COORD] aka [LONG, LAT].  Use a header.\n",
    "point.filename5 <- 'GIS_data/Key_locations_for_Distance/Cities_Towns/capital.csv' # Just 2 columns.  Structured as [X_COORD, Y_COORD] aka [LONG, LAT].  Use a header."
   ]
  },
  {
   "cell_type": "code",
   "execution_count": 20,
   "id": "49f3f29c",
   "metadata": {},
   "outputs": [],
   "source": [
    "# Output Files\n",
    "T.filename <- 'GIS_data/Moz_suitability/study.area.T.rds'\n",
    "T.GC.filename <- 'GIS_data/Moz_suitability/study.area.T.GC.rds'\n",
    "output.filename1 <- 'GIS_data/Moz_suitability/study.area.accessibility_airports.tif'\n",
    "output.filename2 <- 'GIS_data/Moz_suitability/study.area.accessibility_ports.tif'\n",
    "output.filename3 <- 'GIS_data/Moz_suitability/study.area.accessibility_railways.tif'\n",
    "output.filename4 <- 'GIS_data/Moz_suitability/study.area.accessibility_cities.tif'\n",
    "output.filename5 <- 'GIS_data/Moz_suitability/study.area.accessibility_capital.tif'"
   ]
  },
  {
   "cell_type": "code",
   "execution_count": 21,
   "id": "778ec0dd",
   "metadata": {},
   "outputs": [
    {
     "data": {
      "text/html": [
       "<table>\n",
       "<thead><tr><th scope=col>X_COORD</th><th scope=col>Y_COORD</th></tr></thead>\n",
       "<tbody>\n",
       "\t<tr><td>35.42163 </td><td>-24.22472</td></tr>\n",
       "\t<tr><td>34.56107 </td><td>-21.16255</td></tr>\n",
       "\t<tr><td>33.50113 </td><td>-25.19959</td></tr>\n",
       "\t<tr><td>33.23860 </td><td>-25.26599</td></tr>\n",
       "</tbody>\n",
       "</table>\n"
      ],
      "text/latex": [
       "\\begin{tabular}{r|ll}\n",
       " X\\_COORD & Y\\_COORD\\\\\n",
       "\\hline\n",
       "\t 35.42163  & -24.22472\\\\\n",
       "\t 34.56107  & -21.16255\\\\\n",
       "\t 33.50113  & -25.19959\\\\\n",
       "\t 33.23860  & -25.26599\\\\\n",
       "\\end{tabular}\n"
      ],
      "text/markdown": [
       "\n",
       "| X_COORD | Y_COORD |\n",
       "|---|---|\n",
       "| 35.42163  | -24.22472 |\n",
       "| 34.56107  | -21.16255 |\n",
       "| 33.50113  | -25.19959 |\n",
       "| 33.23860  | -25.26599 |\n",
       "\n"
      ],
      "text/plain": [
       "  X_COORD  Y_COORD  \n",
       "1 35.42163 -24.22472\n",
       "2 34.56107 -21.16255\n",
       "3 33.50113 -25.19959\n",
       "4 33.23860 -25.26599"
      ]
     },
     "metadata": {},
     "output_type": "display_data"
    }
   ],
   "source": [
    "# Read in the points table\n",
    "points1 <- read.csv(file = point.filename1)\n",
    "points2 <- read.csv(file = point.filename2)\n",
    "points3 <- read.csv(file = point.filename3)\n",
    "points4 <- read.csv(file = point.filename4)\n",
    "points5 <- read.csv(file = point.filename5)\n",
    "\n",
    "# Fetch the number of points\n",
    "temp1 <- dim(points1)\n",
    "n.points1 <- temp1[1]\n",
    "# Fetch the number of points\n",
    "temp2 <- dim(points2)\n",
    "n.points2 <- temp2[1]\n",
    "# Fetch the number of points\n",
    "temp3 <- dim(points3)\n",
    "n.points3 <- temp3[1]\n",
    "# Fetch the number of points\n",
    "temp4 <- dim(points4)\n",
    "n.points4 <- temp4[1]\n",
    "# Fetch the number of points\n",
    "temp5 <- dim(points5)\n",
    "n.points5 <- temp5[1]\n",
    "\n",
    "head(points1, 4) ## show 4 first centres"
   ]
  },
  {
   "cell_type": "code",
   "execution_count": 22,
   "id": "07c4bbb6",
   "metadata": {},
   "outputs": [],
   "source": [
    "#  Define the spatial template\n",
    "#friction <- raster(friction.surface.filename)\n",
    "#fs1 <- crop(friction, extent(left, right, bottom, top))\n",
    "# Use the following line instead of the preceding 2 if clipping is not needed (i.e., to run globally), but be warned that trying this will far exceed the computational capacity available to most users.\n",
    "fs1 <- raster(friction.surface.filename) "
   ]
  },
  {
   "cell_type": "code",
   "execution_count": 23,
   "id": "09a910da",
   "metadata": {},
   "outputs": [],
   "source": [
    "# Make the graph and the geocorrected version of the graph (or read in the latter).\n",
    "if (transition.matrix.exists.flag == 1) {\n",
    "    # Read in the transition matrix object if it has been pre-computed\n",
    "    T.GC <- readRDS(T.GC.filename)\n",
    "} else {\n",
    "    # Make and geocorrect the transition matrix (i.e., the graph)\n",
    "    T <- transition(fs1, function(x) 1/mean(x), 8) # RAM intensive, can be very slow for large areas\n",
    "                    saveRDS(T, T.filename)\n",
    "                    T.GC <- geoCorrection(T)                    \n",
    "                    saveRDS(T.GC, T.GC.filename)\n",
    "                    }"
   ]
  },
  {
   "cell_type": "code",
   "execution_count": 24,
   "id": "ffdebae7",
   "metadata": {},
   "outputs": [],
   "source": [
    "# Convert the points into a matrix\n",
    "xy.data.frame1 <- data.frame()\n",
    "xy.data.frame1[1:n.points1,1] <- points1[,1]\n",
    "xy.data.frame1[1:n.points1,2] <- points1[,2]\n",
    "xy.matrix1 <- as.matrix(xy.data.frame1)\n",
    "\n",
    "# Convert the points into a matrix\n",
    "xy.data.frame2 <- data.frame()\n",
    "xy.data.frame2[1:n.points2,1] <- points2[,1]\n",
    "xy.data.frame2[1:n.points2,2] <- points2[,2]\n",
    "xy.matrix2 <- as.matrix(xy.data.frame2)\n",
    "\n",
    "# Convert the points into a matrix\n",
    "xy.data.frame3 <- data.frame()\n",
    "xy.data.frame3[1:n.points3,1] <- points3[,1]\n",
    "xy.data.frame3[1:n.points3,2] <- points3[,2]\n",
    "xy.matrix3 <- as.matrix(xy.data.frame3)\n",
    "\n",
    "# Convert the points into a matrix\n",
    "xy.data.frame4 <- data.frame()\n",
    "xy.data.frame4[1:n.points4,1] <- points4[,1]\n",
    "xy.data.frame4[1:n.points4,2] <- points4[,2]\n",
    "xy.matrix4 <- as.matrix(xy.data.frame4)\n",
    "\n",
    "# Convert the points into a matrix\n",
    "xy.data.frame5 <- data.frame()\n",
    "xy.data.frame5[1:n.points5,1] <- points5[,1]\n",
    "xy.data.frame5[1:n.points5,2] <- points5[,2]\n",
    "xy.matrix5 <- as.matrix(xy.data.frame5)"
   ]
  },
  {
   "cell_type": "code",
   "execution_count": 25,
   "id": "aa2cb7c3",
   "metadata": {},
   "outputs": [],
   "source": [
    "# Run the accumulated cost algorithm to make the final output map. This can be quite slow (potentially hours).\n",
    "temp.raster1 <- accCost(T.GC, xy.matrix1)\n",
    "temp.raster2 <- accCost(T.GC, xy.matrix2)\n",
    "temp.raster3 <- accCost(T.GC, xy.matrix3)\n",
    "temp.raster4 <- accCost(T.GC, xy.matrix4)\n",
    "temp.raster5 <- accCost(T.GC, xy.matrix5)"
   ]
  },
  {
   "cell_type": "code",
   "execution_count": 26,
   "id": "19e0dab2",
   "metadata": {},
   "outputs": [],
   "source": [
    "# Write the resulting raster\n",
    "writeRaster(temp.raster1, output.filename1)\n",
    "writeRaster(temp.raster2, output.filename2)\n",
    "writeRaster(temp.raster3, output.filename3)\n",
    "writeRaster(temp.raster4, output.filename4)\n",
    "writeRaster(temp.raster5, output.filename5)"
   ]
  },
  {
   "cell_type": "markdown",
   "id": "c1fb67bb",
   "metadata": {},
   "source": [
    "## Catchment area & population summary extraction"
   ]
  },
  {
   "cell_type": "code",
   "execution_count": 1,
   "id": "5daea75f",
   "metadata": {},
   "outputs": [],
   "source": [
    "## For the second part (catchment), which does not work at the moment\n",
    "#library(tidyverse)\n",
    "#library(data.table)\n",
    "#library(exactextractr)\n",
    "#library(s2)\n",
    "#library(stars)"
   ]
  },
  {
   "cell_type": "code",
   "execution_count": 2,
   "id": "7b7d8964",
   "metadata": {},
   "outputs": [],
   "source": [
    "#minutes_cluster <- 15 # minutes of travel time around the facility, customizable\n",
    "#pop <- raster(\"GIS_data/hrsl_moz_pop.tif\") # gridded population raster of reference"
   ]
  },
  {
   "cell_type": "code",
   "execution_count": 3,
   "id": "36df178f",
   "metadata": {},
   "outputs": [],
   "source": [
    "##points <- read_sf(\"GIS_data/data_points.shp\") # sf shapefile of healthcare facilities (points)"
   ]
  },
  {
   "cell_type": "code",
   "execution_count": 4,
   "id": "9b0104f4",
   "metadata": {},
   "outputs": [],
   "source": [
    "##points$id <- 1:nrow(points)"
   ]
  },
  {
   "cell_type": "code",
   "execution_count": 5,
   "id": "e5df7374",
   "metadata": {},
   "outputs": [],
   "source": [
    "#coordinates(points)=~X_COORD+Y_COORD\n",
    "#points_df <- st_as_sf(points)"
   ]
  },
  {
   "cell_type": "code",
   "execution_count": 6,
   "id": "f169bca8",
   "metadata": {},
   "outputs": [],
   "source": [
    "#points_df"
   ]
  },
  {
   "cell_type": "code",
   "execution_count": 7,
   "id": "41c79148",
   "metadata": {},
   "outputs": [],
   "source": [
    "##class(points$fid)\n",
    "##class(points$Population)\n",
    "##class(points$ElecPop)\n",
    "##class(points$NightLight)\n",
    "##class(points$Area)\n",
    "##class(points$id)\n",
    "##class(points$Country)\n",
    "##class(points_df$X_COORD)\n",
    "##class(points_df$Y_COORD)\n",
    "#class(points_df$uid_Q001) \n",
    "#class(points_df$geometry) "
   ]
  },
  {
   "cell_type": "code",
   "execution_count": 8,
   "id": "cb89fb5a",
   "metadata": {},
   "outputs": [],
   "source": [
    "##class(points_df$X_COORD) <- 'numeric'\n",
    "##class(points_df$Y_COORD) <- 'numeric'\n",
    "##class(points_df$id) \n",
    "##class(points_df$geometry) <- 'sfc'"
   ]
  },
  {
   "cell_type": "code",
   "execution_count": 9,
   "id": "bc34be65",
   "metadata": {},
   "outputs": [],
   "source": [
    "##points$fid <- as.integer(points$fid)"
   ]
  },
  {
   "cell_type": "code",
   "execution_count": 10,
   "id": "d8b641a2",
   "metadata": {},
   "outputs": [],
   "source": [
    "##names(points)"
   ]
  },
  {
   "cell_type": "code",
   "execution_count": 11,
   "id": "92e189b8",
   "metadata": {},
   "outputs": [],
   "source": [
    "###WGScoor <- points\n",
    "###coordinates(WGScoor)=~X_COORD+Y_COORD\n",
    "###proj4string(WGScoor)<- CRS(\"+proj=longlat +datum=WGS84\")\n",
    "###points_shp <- spTransform(WGScoor,CRS(\"+proj=longlat\"))"
   ]
  },
  {
   "cell_type": "code",
   "execution_count": 12,
   "id": "1343e230",
   "metadata": {},
   "outputs": [],
   "source": [
    "## create catchment areas\n",
    "#\n",
    "#functpop <-lapply(1:nrow(points_df),function(i){\n",
    "#    id_exp = points_df[i, ]$uid_Q001\n",
    "#    xy.matrix <-st_coordinates(points_df[i, ])\n",
    "#    servedpop <- accCost(T.GC, xy.matrix)\n",
    "#    servedpop[servedpop>minutes_cluster] <- NA\n",
    "#    servedpop <- trim(servedpop)\n",
    "#    servedpop <- stars::st_as_stars(servedpop)\n",
    "#    servedpop <- st_as_sf(servedpop)\n",
    "#    p = servedpop %>% summarise()\n",
    "#    p = st_sf(p)\n",
    "#    p$uid_Q001 = id_exp\n",
    "#    p <- st_cast(p, \"MULTIPOLYGON\")\n",
    "#    p\n",
    "#  })"
   ]
  },
  {
   "cell_type": "code",
   "execution_count": 13,
   "id": "9f872bd2",
   "metadata": {},
   "outputs": [],
   "source": [
    "#pol <- sf::st_as_sf(data.table::rbindlist(functpop))"
   ]
  },
  {
   "cell_type": "code",
   "execution_count": 14,
   "id": "f3c708e8",
   "metadata": {},
   "outputs": [],
   "source": [
    "## extract population and redistributed among overlapping catchment areas\n",
    "#\n",
    "#pp = lapply(1:nrow(pol),function(i){\n",
    "#  b<-st_intersects(pol[i,], pol[-i,])\n",
    "#  a<-sf::st_touches(pol[i,], pol[-i,])\n",
    "#  ifelse(length(setdiff(b[1][[1]], a[1][[1]]))==0, exact_extract(pop, pol[i,], 'sum'), exact_extract(pop, pol[i,], 'sum')*ifelse(length(as.numeric(st_area(st_difference(pol[i,], st_union(pol[setdiff(b[1][[1]], a[1][[1]]),])))))!=0, as.numeric(st_area(st_difference(pol[i,], st_union(pol[setdiff(b[1][[1]], a[1][[1]]),]))))/as.numeric(st_area(pol[i,])), 0) + exact_extract(pop, pol[i,], 'sum')*ifelse(length(as.numeric(st_area(st_intersection(pol[i,], st_union(pol[setdiff(b[1][[1]], a[1][[1]]),]))))!=0), as.numeric(st_area(st_intersection(pol[i,], st_union(pol[setdiff(b[1][[1]], a[1][[1]]),]))))/as.numeric(st_area(pol[i,]))/length(setdiff(b[1][[1]], a[1][[1]])),0))\n",
    "#})\n",
    "#\n",
    "#\n",
    "#pp = do.call(rbind, pp)"
   ]
  },
  {
   "cell_type": "code",
   "execution_count": 15,
   "id": "fd098b24",
   "metadata": {},
   "outputs": [],
   "source": [
    "## final output: catchment area with population\n",
    "#pol$population = pp\n",
    "#\n",
    "#write_sf(pol, \"HF_catchment_areas_with_pop_Moz_15min.gpkg\")"
   ]
  },
  {
   "cell_type": "code",
   "execution_count": null,
   "id": "26ce8caf",
   "metadata": {},
   "outputs": [],
   "source": []
  },
  {
   "cell_type": "code",
   "execution_count": 16,
   "id": "4a238956",
   "metadata": {},
   "outputs": [],
   "source": [
    "##library(ncdf4)\n",
    "##fn <- \"C:\\\\Users\\\\alexl\\\\Dropbox\\\\KTH-dESA\\\\Projects\\\\World Bank - Vivid Agricultural Demand SSA\\\\Water table\\\\AFRICA_WTD_annualmean.nc\"\n",
    "##nc <- nc_open(fn)\n",
    "##print (nc)"
   ]
  }
 ],
 "metadata": {
  "kernelspec": {
   "display_name": "R",
   "language": "R",
   "name": "ir"
  },
  "language_info": {
   "codemirror_mode": "r",
   "file_extension": ".r",
   "mimetype": "text/x-r-source",
   "name": "R",
   "pygments_lexer": "r",
   "version": "3.6.3"
  }
 },
 "nbformat": 4,
 "nbformat_minor": 5
}
