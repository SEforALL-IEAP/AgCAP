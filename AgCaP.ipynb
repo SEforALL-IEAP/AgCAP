{
 "cells": [
  {
   "cell_type": "markdown",
   "metadata": {},
   "source": [
    "# AgCaP\n",
    "<br>\n",
    "\n",
    "**Conceptualization, Methodology:** [Davide Mazzoni](https://github.com/orgs/SEforALL-IEAP/people/davidemazzoni2) <br> **Code:** [Alexandros Korkovelos](https://github.com/akorkovelos)<br> **Supervision, Review and Advisory support:** xx<br> **Funding:** SeforALL"
   ]
  },
  {
   "cell_type": "markdown",
   "metadata": {},
   "source": [
    "--------------------------\n",
    "This is the AgCap notebook.The main purpose of this notebook is to .... Using this notebook the user will be able to change however many datasets needed.\n",
    "\n",
    "In order to run the analysis the following datasets are needed:\n",
    "* [Population clusters (settlements)](https://data.grid3.org/datasets/GRID3::grid3-moz-settlement-extents-v2-0/explore) \n",
    "* [Population](https://data.humdata.org/dataset/gridded-population-estimates-for-mozambique-2017-census-v1-1?)  \n",
    "* [Cropland extent](https://glad.umd.edu/dataset/croplands) \n",
    "* [Livelihood zones](https://fews.net/mozambique-livelihood-zones-2014) \n",
    "* [Food insecurity](https://fews.net/data/acute-food-insecurity?field_data_node_dates_end_value=&date=&region%5B%5D=547) \n",
    "* [Satellite nightlights](https://eogdata.mines.edu/products/vnl/) \n",
    "* [Coastline](https://www.soest.hawaii.edu/pwessel/gshhg/) \n",
    "* [Railway stations](OSM extraction) \n",
    "* [Airports](OSM extraction)\n",
    "* [Ports](OSM extraction)\n",
    "* [Security risk (conflicts)](https://acleddata.com/data-export-tool/)\n",
    "* Drought risk\n",
    "* Flood risk\n",
    "* Heat waves risk\n",
    "* Road network\n",
    "* [Water frequency](https://developers.google.com/earth-engine/datasets/catalog/JRC_GSW1_4_GlobalSurfaceWater)\n",
    "* [Livestock](https://dataverse.harvard.edu/dataverse/glw_4)\n",
    "* [Admin boundaries](https://gadm.org/)\n",
    "* [Air temperature at 2m (dry bulb)](https://solargis.com/maps-and-gis-data/download)\n",
    "\n",
    "Below instructions for each cell follows.\n"
   ]
  },
  {
   "cell_type": "markdown",
   "metadata": {},
   "source": [
    "## Importing necessary packages (Mandatory)\n",
    "\n",
    "Packages to be used are imported from the funcs.ipynb."
   ]
  },
  {
   "cell_type": "code",
   "execution_count": 1,
   "metadata": {},
   "outputs": [
    {
     "name": "stderr",
     "output_type": "stream",
     "text": [
      "C:\\Users\\alexl\\Dropbox\\GitHub\\AgCAP\\funcs.ipynb:733: SyntaxWarning: \"is\" with a literal. Did you mean \"==\"?\n",
      "  },\n",
      "C:\\Users\\alexl\\Dropbox\\GitHub\\AgCAP\\funcs.ipynb:735: SyntaxWarning: \"is\" with a literal. Did you mean \"==\"?\n",
      "  \"cell_type\": \"code\",\n"
     ]
    }
   ],
   "source": [
    "from ipynb.fs.full.funcs import *"
   ]
  },
  {
   "cell_type": "code",
   "execution_count": 62,
   "metadata": {
    "code_folding": [
     0
    ]
   },
   "outputs": [],
   "source": [
    "## Import python modules\n",
    "#import geopandas as gpd\n",
    "#import pandas as pd\n",
    "#import pyproj\n",
    "#import numpy as np\n",
    "#\n",
    "#from functools import reduce\n",
    "#import shapely\n",
    "#from shapely.geometry import Point, Polygon, MultiPoint\n",
    "#from shapely.ops import nearest_points\n",
    "#\n",
    "#from sklearn.neighbors import BallTree\n",
    "#\n",
    "##import datapane as dp\n",
    "##!datapane login --token=9bde41bfbc4ad14119e32086f9f06d2e5db1d5b8\n",
    "#\n",
    "#import folium\n",
    "#from folium.features import GeoJsonTooltip\n",
    "#folium.__version__ = '0.12.0'                 ## Had to manually set the version as not available when package installed\n",
    "#import branca.colormap as cm\n",
    "#import os\n",
    "#from IPython.display import display, Markdown, HTML, FileLink, FileLinks\n",
    "\n",
    "import matplotlib.pyplot as plt\n",
    "#from matplotlib.ticker import MaxNLocator\n",
    "\n",
    "from sklearn.preprocessing import MinMaxScaler\n",
    "\n",
    "#import datetime\n",
    "\n",
    "#%matplotlib inline"
   ]
  },
  {
   "cell_type": "markdown",
   "metadata": {},
   "source": [
    "## Setting the target coordinate system (Mandatory)\n",
    "\n",
    "When calculating distances it is important to choose a coordinate system that represents distances correctly in your area of interst. The coordinate system that is given below is the World Mercator, these coordinate system works well for Sub Saharan Africa but the distortions get larger as you move away from the equator.\n",
    "\n",
    "In order to select your own coordinate system go to [epsg.io](http://epsg.io/) and type in your area of interest, this will give you a list of coordinate systems to choose from. Once you have selected your coordinate system replace the numbers below with the numbers from your coordinate system **(keep the \"EPSG\" part)**.\n",
    "\n",
    "**NOTE** When selecting your coordinate system make sure that you select a system with the unit of meters, this is indicated for all systems on [epsg.io](http://epsg.io/)"
   ]
  },
  {
   "cell_type": "code",
   "execution_count": 3,
   "metadata": {},
   "outputs": [],
   "source": [
    "## Coordinate and projection systems\n",
    "crs_WGS84 = pyproj.CRS(\"EPSG:4326\")    # Originan WGS84 coordinate system\n",
    "crs_proj = pyproj.CRS(\"EPSG:32637\")    # Projection system for the selected country -- see http://epsg.io/ for more info"
   ]
  },
  {
   "cell_type": "markdown",
   "metadata": {},
   "source": [
    "## Define workspace and main directories\n",
    "\n",
    "Define the workspace. The output layers will populate this folder. It is highly recommended to select an empty folder as your workspace."
   ]
  },
  {
   "cell_type": "code",
   "execution_count": 4,
   "metadata": {},
   "outputs": [],
   "source": [
    "ROOT_DIR = os.path.abspath(os.getcwd())\n",
    "in_path = ROOT_DIR + \"\\\\\" + 'GIS_data'\n",
    "workspace = ROOT_DIR + \"\\\\\" + \"Output\""
   ]
  },
  {
   "cell_type": "code",
   "execution_count": 5,
   "metadata": {},
   "outputs": [],
   "source": [
    "#messagebox.showinfo('Cooling module', 'Output folder')\n",
    "#workspace = filedialog.askdirectory()"
   ]
  },
  {
   "cell_type": "markdown",
   "metadata": {},
   "source": [
    "## Importing admin boundary as geodataframe\n",
    "For the administrative boundaries you will have to select an **Polygon** layer represeting your area of interest."
   ]
  },
  {
   "cell_type": "code",
   "execution_count": 6,
   "metadata": {},
   "outputs": [],
   "source": [
    "# Define path and name of the file\n",
    "admin_path = in_path + \"\\\\\" + \"Admin\"\n",
    "admin_name = \"moz_admin1.gpkg\""
   ]
  },
  {
   "cell_type": "code",
   "execution_count": 7,
   "metadata": {},
   "outputs": [],
   "source": [
    "# Create a new geo-dataframe\n",
    "admin_gdf = gpd.read_file(admin_path + \"\\\\\" + admin_name)\n",
    "test_admin_gdf = gpd.read_file(admin_path + \"\\\\\" + admin_name) ### This is just for the test case study (MV and TRX extraction)\n",
    "##Activate this if you want to clip part of the AoI e.g., for testing\n",
    "admin_gdf = admin_gdf[admin_gdf.ADM2_NAME == \"Mopeia\"]\n",
    "\n",
    "\n",
    "## Add buffer for clipping\n",
    "## cap_style refers to the type of geometry generated; 3=rectangular (see shapely documectation for more info -- https://shapely.readthedocs.io/en/stable/manual.html)\n",
    "admin_gdf_buf = admin_gdf.copy()\n",
    "admin_gdf_buf['geometry'] = admin_gdf_buf.apply(lambda x:\n",
    "                                        x.geometry.buffer(0.008, cap_style=3), axis=1)  ### 0.008 deg = ~1km"
   ]
  },
  {
   "cell_type": "code",
   "execution_count": 8,
   "metadata": {},
   "outputs": [
    {
     "data": {
      "image/png": "[encoded data removed]",
      "text/plain": [
       "<Figure size 720x720 with 1 Axes>"
      ]
     },
     "metadata": {
      "needs_background": "light"
     },
     "output_type": "display_data"
    }
   ],
   "source": [
    "# Create the axis first\n",
    "fig, ax = plt.subplots(figsize=(10, 10))\n",
    "admin_gdf.plot(ax=ax, edgecolor='black', alpha=0.2)\n",
    "admin_gdf_buf.plot(ax=ax, legend=True, markersize=3, figsize=(15, 15), alpha=0.5)\n",
    "ax.set_aspect('equal', 'box')\n",
    "txt = ax.set_title(\"{}'s Administrative Boundary\".format(admin_gdf.ADM2_NAME.unique()[0]))"
   ]
  },
  {
   "cell_type": "markdown",
   "metadata": {},
   "source": [
    "## Define the target locations (settlements/clusters)\n",
    "\n",
    "Select the settlements to be used in the analysis"
   ]
  },
  {
   "cell_type": "code",
   "execution_count": 9,
   "metadata": {},
   "outputs": [],
   "source": [
    "# Define path and name of the file\n",
    "settles_path = in_path + \"\\\\\" + \"Settlements\"\n",
    "#settles_name = \"Mozambique_Settlement_Extents_Version_02.geojson\"\n",
    "settles_name = \"Mopeia_clusters.shp\""
   ]
  },
  {
   "cell_type": "code",
   "execution_count": 10,
   "metadata": {},
   "outputs": [],
   "source": [
    "## Read settlements as gdf\n",
    "settles_gdf = gpd.read_file(settles_path + \"\\\\\" + settles_name)"
   ]
  },
  {
   "cell_type": "code",
   "execution_count": 11,
   "metadata": {},
   "outputs": [],
   "source": [
    "##Activate this if you want to clip part of the AoI e.g., for testing\n",
    "settles_gdf  = gpd.clip(settles_gdf, admin_gdf_buf)"
   ]
  },
  {
   "cell_type": "markdown",
   "metadata": {},
   "source": [
    "### Filter clusters based on Building Count\n",
    "Keeping clusters with more than 100 buildings"
   ]
  },
  {
   "cell_type": "code",
   "execution_count": 12,
   "metadata": {},
   "outputs": [
    {
     "data": {
      "text/plain": [
       "array(['251-1000', '101-250', '1001 and up'], dtype=object)"
      ]
     },
     "execution_count": 12,
     "metadata": {},
     "output_type": "execute_result"
    }
   ],
   "source": [
    "#settles_gdf.dtypes\n",
    "settles_gdf[\"bld_count\"].unique()"
   ]
  },
  {
   "cell_type": "code",
   "execution_count": 13,
   "metadata": {},
   "outputs": [],
   "source": [
    "## If building count is an object you can use his to filter\n",
    "settles_gdf = settles_gdf[(settles_gdf[\"bld_count\"] == '101-250') | \n",
    "                          (settles_gdf[\"bld_count\"] == '251-1000') | \n",
    "                          (settles_gdf[\"bld_count\"] == '1001 and up')]\n",
    "\n",
    "#If building count is numeric you can use his to filter\n",
    "#settles_gdf = settles_gdf[settles_gdf[\"bld_count\"] >= 100]"
   ]
  },
  {
   "cell_type": "code",
   "execution_count": 14,
   "metadata": {},
   "outputs": [
    {
     "data": {
      "image/png": "[encoded data removed]",
      "text/plain": [
       "<Figure size 720x720 with 1 Axes>"
      ]
     },
     "metadata": {
      "needs_background": "light"
     },
     "output_type": "display_data"
    }
   ],
   "source": [
    "# Create the axis first\n",
    "fig, ax = plt.subplots(figsize=(10, 10))\n",
    "admin_gdf.plot(ax=ax, edgecolor='black', alpha=0.2)\n",
    "settles_gdf.plot(ax=ax, legend=True, markersize=3, figsize=(15, 15), alpha=0.5)\n",
    "ax.set_aspect('equal', 'box')\n",
    "txt = ax.set_title(\"{}'s Administrative Boundary\".format(admin_gdf.ADM2_NAME.unique()[0]))"
   ]
  },
  {
   "cell_type": "markdown",
   "metadata": {},
   "source": [
    "### Raster population to clusters"
   ]
  },
  {
   "cell_type": "code",
   "execution_count": 15,
   "metadata": {},
   "outputs": [
    {
     "name": "stdout",
     "output_type": "stream",
     "text": [
      "2024-08-15 15:36:38.428436\n",
      "2024-08-15 15:36:38.998217\n"
     ]
    }
   ],
   "source": [
    "settles_gdf = processing_raster(\"population\", \"sum\", settles_gdf)\n",
    "settles_gdf = finalizing_rasters(workspace, settles_gdf, crs_WGS84)"
   ]
  },
  {
   "cell_type": "markdown",
   "metadata": {},
   "source": [
    "### Extracting RWI to clusters\n",
    "\n",
    "Note that you can rasterize the csv file (as from HDX source) using the relevant .ipynb in the repo"
   ]
  },
  {
   "cell_type": "code",
   "execution_count": 16,
   "metadata": {},
   "outputs": [
    {
     "name": "stdout",
     "output_type": "stream",
     "text": [
      "2024-08-15 15:36:50.270270\n",
      "2024-08-15 15:36:50.856131\n"
     ]
    }
   ],
   "source": [
    "settles_gdf = processing_raster(\"RWI\", \"mean\", settles_gdf)\n",
    "settles_gdf = finalizing_rasters(workspace, settles_gdf, crs_WGS84)"
   ]
  },
  {
   "cell_type": "markdown",
   "metadata": {},
   "source": [
    "### Extracting animal headcount to clusters"
   ]
  },
  {
   "cell_type": "code",
   "execution_count": 17,
   "metadata": {},
   "outputs": [],
   "source": [
    "animal_type = [\"cattle\", \"chickens\", \"ducks\", \"goats\", \"pigs\", \"sheep\", \"horses\", \"buffaloes\"]"
   ]
  },
  {
   "cell_type": "code",
   "execution_count": 18,
   "metadata": {},
   "outputs": [
    {
     "name": "stdout",
     "output_type": "stream",
     "text": [
      "2024-08-15 15:37:48.019069\n",
      "2024-08-15 15:37:52.272384\n",
      "2024-08-15 15:37:56.551055\n",
      "2024-08-15 15:38:00.687032\n",
      "2024-08-15 15:38:06.307964\n",
      "2024-08-15 15:38:11.510563\n",
      "2024-08-15 15:38:15.668578\n",
      "2024-08-15 15:38:19.489053\n",
      "2024-08-15 15:38:20.064108\n"
     ]
    }
   ],
   "source": [
    "for animal in animal_type:\n",
    "    settles_gdf = processing_raster(animal, \"sum\", settles_gdf)\n",
    "    \n",
    "settles_gdf = finalizing_rasters(workspace, settles_gdf, crs_WGS84)"
   ]
  },
  {
   "cell_type": "markdown",
   "metadata": {},
   "source": [
    "### Extracting HREA lightscore values to clusters"
   ]
  },
  {
   "cell_type": "code",
   "execution_count": 19,
   "metadata": {},
   "outputs": [
    {
     "name": "stdout",
     "output_type": "stream",
     "text": [
      "2024-08-15 15:38:50.604926\n",
      "2024-08-15 15:39:03.066189\n",
      "2024-08-15 15:39:03.644874\n"
     ]
    }
   ],
   "source": [
    "## Getting the average annual composite from VIIRS\n",
    "settles_gdf = processing_raster(\"VIIRS\", \"mean\" , settles_gdf)\n",
    "\n",
    "## Extracting the max probability (lisghtscore) from the HREA layer\n",
    "settles_gdf = processing_raster(\"HREA_lightscore\", \"max\" , settles_gdf)\n",
    "\n",
    "settles_gdf = finalizing_rasters(workspace, settles_gdf, crs_WGS84)"
   ]
  },
  {
   "cell_type": "markdown",
   "metadata": {},
   "source": [
    "### Get accessibility\n",
    "\n",
    "------------------------------------\n",
    "\n",
    "**THIS IS WORK IN PROGRESS** --> For now we assume that the accessibility maps are already available via other methods\n",
    "\n",
    "------------------------------------\n",
    "\n",
    "**Note!** Accessibility maps can be retrieved using the other notebookes in this repository. More specifically:\n",
    "* \"Travel_time_maps.ipynb\" will prepare the vector data as needed for\n",
    "* \"R-tool.ipynb\", which prepares uses the [motorized friction surface layer](https://malariaatlas.org/project-resources/accessibility-to-healthcare/) and generates travel time maps for the locations of airports, ports, railways, major cities and the capital located in the \"key_locations_for_Distance directory\".\n",
    "\n",
    "The above notebooks are preparatory and should be run before running this current .ipynb."
   ]
  },
  {
   "cell_type": "code",
   "execution_count": 20,
   "metadata": {},
   "outputs": [
    {
     "name": "stdout",
     "output_type": "stream",
     "text": [
      "2024-08-15 15:40:05.143587\n",
      "2024-08-15 15:40:11.019115\n",
      "2024-08-15 15:40:15.683365\n",
      "2024-08-15 15:40:20.629396\n",
      "2024-08-15 15:40:24.530386\n",
      "2024-08-15 15:40:25.126065\n"
     ]
    }
   ],
   "source": [
    "settles_gdf = processing_raster(\"access_airports\", \"mean\", settles_gdf)\n",
    "settles_gdf = processing_raster(\"access_ports\", \"mean\", settles_gdf)\n",
    "settles_gdf = processing_raster(\"access_railways\", \"mean\", settles_gdf)\n",
    "settles_gdf = processing_raster(\"access_cities\", \"mean\", settles_gdf)\n",
    "settles_gdf = processing_raster(\"access_capital\", \"mean\", settles_gdf)\n",
    "settles_gdf = finalizing_rasters(workspace, settles_gdf, crs_WGS84)"
   ]
  },
  {
   "cell_type": "code",
   "execution_count": 21,
   "metadata": {},
   "outputs": [],
   "source": [
    "## Converting min to hours\n",
    "settles_gdf['access_airportsmean'] = settles_gdf['access_airportsmean']/60\n",
    "settles_gdf['access_portsmean'] = settles_gdf['access_portsmean']/60\n",
    "settles_gdf['access_railwaysmean'] = settles_gdf['access_railwaysmean']/60\n",
    "settles_gdf['access_citiesmean'] = settles_gdf['access_citiesmean']/60\n",
    "settles_gdf['access_capitalmean'] = settles_gdf['access_capitalmean']/60"
   ]
  },
  {
   "cell_type": "markdown",
   "metadata": {},
   "source": [
    "### Estimating Cooling requirements"
   ]
  },
  {
   "cell_type": "code",
   "execution_count": 22,
   "metadata": {},
   "outputs": [
    {
     "name": "stdout",
     "output_type": "stream",
     "text": [
      "2024-08-15 15:40:47.412573\n",
      "2024-08-15 15:40:47.985547\n"
     ]
    }
   ],
   "source": [
    "settles_gdf = processing_raster(\"avg_temp\", \"mean\", settles_gdf)\n",
    "settles_gdf = finalizing_rasters(workspace, settles_gdf, crs_WGS84)\n",
    "settles_gdf[\"CDD\"] = (settles_gdf[\"avg_tempmean\"] - 4)*365"
   ]
  },
  {
   "cell_type": "markdown",
   "metadata": {},
   "source": [
    " "
   ]
  },
  {
   "cell_type": "markdown",
   "metadata": {},
   "source": [
    "### Fishing activity"
   ]
  },
  {
   "cell_type": "code",
   "execution_count": 23,
   "metadata": {},
   "outputs": [],
   "source": [
    "## Adding a 10km buffer to the settlements layer\n",
    "settles_gdf_buf = settles_gdf.copy()\n",
    "settles_gdf_buf_prj = settles_gdf_buf.to_crs(crs_proj)\n",
    "settles_gdf_buf_prj['geometry'] = settles_gdf_buf_prj.apply(lambda x:\n",
    "                                                            x.geometry.buffer(10000, cap_style=3), axis=1)  ### ~10000m#\n",
    "settles_gdf_buf = settles_gdf_buf_prj.to_crs(crs_WGS84)"
   ]
  },
  {
   "cell_type": "code",
   "execution_count": 24,
   "metadata": {
    "code_folding": [
     0
    ]
   },
   "outputs": [
    {
     "data": {
      "image/png": "[encoded data removed]",
      "text/plain": [
       "<Figure size 720x720 with 1 Axes>"
      ]
     },
     "metadata": {
      "needs_background": "light"
     },
     "output_type": "display_data"
    }
   ],
   "source": [
    "# Create the axis first\n",
    "fig, ax = plt.subplots(figsize=(10, 10))\n",
    "admin_gdf.plot(ax=ax, edgecolor='black', alpha=0.2)\n",
    "settles_gdf.plot(ax=ax, legend=True, markersize=3, figsize=(15, 15), alpha=0.5)\n",
    "settles_gdf_buf.plot(ax=ax, legend=True, markersize=3, figsize=(15, 15), alpha=0.1)\n",
    "ax.set_aspect('equal', 'box')\n",
    "txt = ax.set_title(\"{}'s Administrative Boundary\".format(admin_gdf.ADM2_NAME.unique()[0]))"
   ]
  },
  {
   "cell_type": "markdown",
   "metadata": {},
   "source": [
    "#### Reclassifying raster "
   ]
  },
  {
   "cell_type": "code",
   "execution_count": 25,
   "metadata": {},
   "outputs": [],
   "source": [
    "WOraster = in_path + \"\\\\\" + \"Water_Occurance\" + \"\\\\\" + \"Surface_Water_Occurance_2021_Mopeia.tif\"\n",
    "WOrasterreclass = in_path + \"\\\\\" + \"Water_Occurance\" + \"\\\\\" + \"Surface_Water_Occurance_2021_Mopeia_reclass.tif\""
   ]
  },
  {
   "cell_type": "code",
   "execution_count": 26,
   "metadata": {
    "code_folding": []
   },
   "outputs": [],
   "source": [
    "## Reading the water occurance layer and reclasifying it keeping only values higher than 85 units\n",
    "with rasterio.open(WOraster) as src:    \n",
    "    # Read as numpy array\n",
    "    array = src.read()\n",
    "    profile = src.profile\n",
    "\n",
    "    # Reclassify\n",
    "    array[np.where(array <= 85)] = 0 \n",
    "    #array[np.where(array == 2)] = 1\n",
    "    # and so on ...  \n",
    "\n",
    "with rasterio.open(WOrasterreclass, 'w', **profile) as dst:\n",
    "    # Write to disk\n",
    "    dst.write(array)"
   ]
  },
  {
   "cell_type": "markdown",
   "metadata": {
    "code_folding": []
   },
   "source": [
    "#### Extracting values to raster | merging with original settlements layer"
   ]
  },
  {
   "cell_type": "code",
   "execution_count": 27,
   "metadata": {},
   "outputs": [
    {
     "name": "stdout",
     "output_type": "stream",
     "text": [
      "2024-08-15 15:41:39.058253\n",
      "2024-08-15 15:41:39.162127\n"
     ]
    }
   ],
   "source": [
    "settles_gdf_buf = processing_raster(\"water_occur\", \"sum\", settles_gdf_buf)\n",
    "settles_gdf_buf = finalizing_rasters(workspace, settles_gdf_buf, crs_WGS84)\n",
    "settles_gdf = settles_gdf.merge(settles_gdf_buf[[\"id\", 'water_occursum']], how=\"left\", on='id')\n",
    "settles_gdf['water_occursum'].fillna(0, inplace=True)"
   ]
  },
  {
   "cell_type": "markdown",
   "metadata": {},
   "source": [
    "#### Classification of water occurrence values"
   ]
  },
  {
   "cell_type": "code",
   "execution_count": 28,
   "metadata": {
    "code_folding": []
   },
   "outputs": [],
   "source": [
    "## Binary classification of occurence values\n",
    "settles_gdf['Water_Occur_Bin'] = settles_gdf['water_occursum'].apply(lambda x: 'Yes' if x > 0 else 'No')\n",
    "\n",
    "# Qualitative classification based on quantiles\n",
    "num_classes = 4\n",
    "quantiles = np.linspace(0, 1, num_classes + 1)\n",
    "quantile_values = settles_gdf['water_occursum'].quantile(quantiles)\n",
    "\n",
    "def classify_occurrence(value, quantile_values):\n",
    "    if value == 0:\n",
    "        return 'No Occurrence'\n",
    "    elif value <= quantile_values[0.25]:\n",
    "        return 'Low Occurrence'\n",
    "    elif value <= quantile_values[0.75]:\n",
    "        return 'Medium Occurrence'\n",
    "    else:\n",
    "        return 'High Occurrence'\n",
    "\n",
    "settles_gdf['Water_Occur_Clas'] = settles_gdf['water_occursum'].apply(classify_occurrence, args=(quantile_values,))"
   ]
  },
  {
   "cell_type": "markdown",
   "metadata": {},
   "source": [
    "### Shorelines"
   ]
  },
  {
   "cell_type": "code",
   "execution_count": 29,
   "metadata": {},
   "outputs": [],
   "source": [
    "# Define path and name of the file -- Using Resolution \"f\" and Level 1 as in documentation (here: https://www.ngdc.noaa.gov/mgg/shorelines/data/gshhg/latest/)--\n",
    "shores_path = in_path + \"\\\\\" + \"Shoreline\"\n",
    "shores_name = \"Moz_Shoreline.gpkg\""
   ]
  },
  {
   "cell_type": "code",
   "execution_count": 30,
   "metadata": {
    "code_folding": []
   },
   "outputs": [],
   "source": [
    "## Read shores as gdf\n",
    "shores_gdf = gpd.read_file(shores_path + \"\\\\\" + shores_name)"
   ]
  },
  {
   "cell_type": "code",
   "execution_count": 31,
   "metadata": {
    "code_folding": [
     0
    ]
   },
   "outputs": [
    {
     "data": {
      "image/png": "[encoded data removed]",
      "text/plain": [
       "<Figure size 720x720 with 1 Axes>"
      ]
     },
     "metadata": {
      "needs_background": "light"
     },
     "output_type": "display_data"
    }
   ],
   "source": [
    "##Vizualize the shoreline in respect to the AoI\n",
    "# Create the axis first\n",
    "fig, ax = plt.subplots(figsize=(10, 10))\n",
    "# Get the bounding box\n",
    "xmin, ymin, xmax, ymax = admin_gdf.total_bounds\n",
    "# Add a 50km buffer\n",
    "buffer_size = 25  # in kilometers\n",
    "# Convert buffer size from kilometers to degrees (assuming a spherical Earth)\n",
    "buffer_degrees = buffer_size / 111.32  # Approximately 111.32 kilometers per degree at the equator\n",
    "# Adjust the bounding box coordinates\n",
    "xmin -= buffer_degrees\n",
    "ymin -= buffer_degrees\n",
    "xmax += buffer_degrees\n",
    "ymax += buffer_degrees\n",
    "\n",
    "admin_gdf.plot(ax=ax, edgecolor='black', alpha=0.2)\n",
    "settles_gdf.plot(ax=ax, legend=True, markersize=3, figsize=(15, 15), alpha=0.5)\n",
    "shores_gdf.plot(ax=ax, legend=True, markersize=3, figsize=(15, 15), alpha=0.5, edgecolor='blue', facecolor='none')\n",
    "\n",
    "# Set the limits to zoom in on the specified bounding box\n",
    "ax.set_xlim(xmin, xmax)\n",
    "ax.set_ylim(ymin, ymax)\n",
    "\n",
    "ax.set_aspect('equal', 'box')\n",
    "txt = ax.set_title(\"{}'s Administrative Boundary\".format(admin_gdf.ADM2_NAME.unique()[0]))"
   ]
  },
  {
   "cell_type": "code",
   "execution_count": 32,
   "metadata": {},
   "outputs": [
    {
     "name": "stdout",
     "output_type": "stream",
     "text": [
      "2024-08-15 15:42:01.128903\n"
     ]
    }
   ],
   "source": [
    "settles_gdf = preparing_for_vectors_updated(workspace, settles_gdf, crs_proj)"
   ]
  },
  {
   "cell_type": "code",
   "execution_count": 33,
   "metadata": {},
   "outputs": [
    {
     "name": "stdout",
     "output_type": "stream",
     "text": [
      "2024-08-15 15:42:31.844951\n"
     ]
    }
   ],
   "source": [
    "settles_gdf = processing_shorelines(\"Shoreline\", shores_gdf, crs_proj, workspace, settles_gdf)"
   ]
  },
  {
   "cell_type": "code",
   "execution_count": 34,
   "metadata": {
    "code_folding": []
   },
   "outputs": [],
   "source": [
    "## Binary classification of occurence values\n",
    "settles_gdf['ShoreWithin10km'] = settles_gdf['ShorelineDist'].apply(lambda x: 'Yes' if x < 10 else 'No')"
   ]
  },
  {
   "cell_type": "markdown",
   "metadata": {},
   "source": [
    "### Getting distance to nearest MV line"
   ]
  },
  {
   "cell_type": "code",
   "execution_count": 35,
   "metadata": {},
   "outputs": [
    {
     "name": "stdout",
     "output_type": "stream",
     "text": [
      "2024-08-15 15:43:02.079303\n"
     ]
    }
   ],
   "source": [
    "settles_gdf = processing_lines(\"MV_lines\", admin_gdf, crs_proj, workspace, settles_gdf)"
   ]
  },
  {
   "cell_type": "markdown",
   "metadata": {},
   "source": [
    "### Getting distance to nearest Service Transformer (TRX)"
   ]
  },
  {
   "cell_type": "code",
   "execution_count": 36,
   "metadata": {},
   "outputs": [
    {
     "name": "stdout",
     "output_type": "stream",
     "text": [
      "2024-08-15 15:43:21.917522\n"
     ]
    }
   ],
   "source": [
    "settles_gdf = processing_points(\"TRX\", test_admin_gdf, crs_proj, workspace, settles_gdf, False)"
   ]
  },
  {
   "cell_type": "markdown",
   "metadata": {},
   "source": [
    "### Electrification status classification "
   ]
  },
  {
   "cell_type": "code",
   "execution_count": 37,
   "metadata": {
    "code_folding": []
   },
   "outputs": [],
   "source": [
    "TRX_dist_thres1 = 0.5\n",
    "TRX_dist_thres2 = 1\n",
    "MV_dist_thres1 = 0.5\n",
    "MV_dist_thres2 = 1\n",
    "mean_light_thres1 = 0.6\n",
    "mean_light_thres2 = 0.4\n",
    "mean_lightprob_thres1 = 0.8\n",
    "mean_lightprob_thres2 = 0.5\n",
    "\n",
    "\n",
    "def assign_elec_status(row):\n",
    "    if (row[\"TRXDist\"] < TRX_dist_thres1) and (row[\"MV_linesDist\"] < MV_dist_thres1) and (row[\"VIRRSmean\"] > mean_light_thres1) and (row[\"HREA_lightscoremax\"] > mean_lightprob_thres1):\n",
    "        return \"electrified\"\n",
    "    elif (row[\"TRXDist\"] < TRX_dist_thres2) and (row[\"MV_linesDist\"] < MV_dist_thres2) and (row[\"VIRRSmean\"] > mean_light_thres2) and (row[\"HREA_lightscoremax\"] > mean_lightprob_thres2):\n",
    "        return \"likely electrified\"\n",
    "    else:\n",
    "        return \"un-electrified\"\n",
    "    \n",
    "# Apply the function row-wise\n",
    "settles_gdf[\"elec_status\"] = settles_gdf.apply(assign_elec_status, axis=1)"
   ]
  },
  {
   "cell_type": "markdown",
   "metadata": {},
   "source": [
    "### Food security"
   ]
  },
  {
   "cell_type": "code",
   "execution_count": 38,
   "metadata": {},
   "outputs": [],
   "source": [
    "food_path = in_path + \"\\\\\" + \"Food_Security\"\n",
    "food_name = \"food_insecurity_IPC_May23_Mar24.gpkg\"\n",
    "food_gdf = gpd.read_file(food_path + \"\\\\\" + food_name)"
   ]
  },
  {
   "cell_type": "code",
   "execution_count": 39,
   "metadata": {},
   "outputs": [],
   "source": [
    "food_gdf = cleaning_string_attributes(food_gdf, \"area\")"
   ]
  },
  {
   "cell_type": "code",
   "execution_count": 40,
   "metadata": {},
   "outputs": [],
   "source": [
    "# Convert the DataFrame to a dictionary\n",
    "food_sec_dict = {key: value for key, value in zip(food_gdf['area'], food_gdf['phase3_C_percentage'])}"
   ]
  },
  {
   "cell_type": "code",
   "execution_count": 41,
   "metadata": {},
   "outputs": [
    {
     "name": "stdout",
     "output_type": "stream",
     "text": [
      "2024-08-15 15:43:41.357783\n"
     ]
    }
   ],
   "source": [
    "settles_gdf = get_admin_name(settles_gdf, test_admin_gdf, \"ADM2_NAME\")"
   ]
  },
  {
   "cell_type": "code",
   "execution_count": 42,
   "metadata": {},
   "outputs": [],
   "source": [
    "settles_gdf['Food_Sec'] = settles_gdf['ADM2_NAME'].map(food_sec_dict)"
   ]
  },
  {
   "cell_type": "markdown",
   "metadata": {},
   "source": [
    "## Create Voronoi Polygons around settlements"
   ]
  },
  {
   "cell_type": "code",
   "execution_count": 43,
   "metadata": {},
   "outputs": [
    {
     "name": "stdout",
     "output_type": "stream",
     "text": [
      "Boundary area defined..\n",
      "Perimeter vertices generated..\n",
      "Voronoi polygons generated..\n",
      "Dissolved Voronoi polygons completed..\n"
     ]
    }
   ],
   "source": [
    "vor_poly = createVoronoi(admin_gdf_buf, settles_gdf, crs_proj, crs_WGS84)"
   ]
  },
  {
   "cell_type": "code",
   "execution_count": 44,
   "metadata": {},
   "outputs": [
    {
     "data": {
      "text/plain": [
       "<matplotlib.axes._subplots.AxesSubplot at 0x14f5f830220>"
      ]
     },
     "execution_count": 44,
     "metadata": {},
     "output_type": "execute_result"
    },
    {
     "data": {
      "image/png": "[encoded data removed]",
      "text/plain": [
       "<Figure size 432x288 with 1 Axes>"
      ]
     },
     "metadata": {
      "needs_background": "light"
     },
     "output_type": "display_data"
    }
   ],
   "source": [
    "vor_poly.plot()"
   ]
  },
  {
   "cell_type": "markdown",
   "metadata": {},
   "source": [
    "### Extracting Cropland extent"
   ]
  },
  {
   "cell_type": "code",
   "execution_count": 45,
   "metadata": {},
   "outputs": [],
   "source": [
    "# Define path and name of the file\n",
    "in_path_raster = in_path + \"\\\\\" + \"Cropland\"\n",
    "cropland_name = \"Global_cropland_SE_2019_Mopeia.tif\""
   ]
  },
  {
   "cell_type": "code",
   "execution_count": 46,
   "metadata": {
    "code_folding": []
   },
   "outputs": [
    {
     "name": "stdout",
     "output_type": "stream",
     "text": [
      "cropland processing completed at 2024-08-15 15:55:26.888949\n",
      "2024-08-15 15:55:27.009570\n"
     ]
    }
   ],
   "source": [
    "# Calling the extraction function for discrete layers\n",
    "vor_poly = processing_raster_cat(in_path_raster, cropland_name, \"cropland\", vor_poly)\n",
    "vor_poly = finalizing_rasters(workspace, vor_poly, crs_proj)"
   ]
  },
  {
   "cell_type": "code",
   "execution_count": 47,
   "metadata": {
    "code_folding": []
   },
   "outputs": [],
   "source": [
    "# Identify land cover related columns\n",
    "final_list_of_cols = list(vor_poly.columns)\n",
    "crop_cols = []\n",
    "for col in final_list_of_cols:\n",
    "    if \"cropland\" in col:\n",
    "        crop_cols.append(col)\n",
    "if not crop_cols:\n",
    "    print (\"There is not any Land Cover associated column in the dataframe; please revise\")\n",
    "else:\n",
    "    pass"
   ]
  },
  {
   "cell_type": "code",
   "execution_count": 48,
   "metadata": {},
   "outputs": [],
   "source": [
    "vor_poly = calc_Crop_sqkm(vor_poly, crop_cols)\n",
    "vor_poly.rename({'cropland0':'No_crop_ha', 'cropland1':'Cropland_ha'}, axis=1, inplace=True)\n",
    "vor_poly[\"Crop%\"] = vor_poly['Cropland_ha']/vor_poly['Vor_area_ha']*100"
   ]
  },
  {
   "cell_type": "code",
   "execution_count": 49,
   "metadata": {},
   "outputs": [
    {
     "data": {
      "text/html": [
       "<div>\n",
       "<style scoped>\n",
       "    .dataframe tbody tr th:only-of-type {\n",
       "        vertical-align: middle;\n",
       "    }\n",
       "\n",
       "    .dataframe tbody tr th {\n",
       "        vertical-align: top;\n",
       "    }\n",
       "\n",
       "    .dataframe thead th {\n",
       "        text-align: right;\n",
       "    }\n",
       "</style>\n",
       "<table border=\"1\" class=\"dataframe\">\n",
       "  <thead>\n",
       "    <tr style=\"text-align: right;\">\n",
       "      <th></th>\n",
       "      <th>id</th>\n",
       "      <th>Vor_area_ha</th>\n",
       "      <th>Vor_area_sq.km</th>\n",
       "      <th>uniqueID</th>\n",
       "      <th>No_crop_ha</th>\n",
       "      <th>Cropland_ha</th>\n",
       "      <th>geometry</th>\n",
       "      <th>Crop%</th>\n",
       "    </tr>\n",
       "  </thead>\n",
       "  <tbody>\n",
       "    <tr>\n",
       "      <th>0</th>\n",
       "      <td>420329</td>\n",
       "      <td>3370.888402</td>\n",
       "      <td>33.708884</td>\n",
       "      <td>69</td>\n",
       "      <td>3149.567446</td>\n",
       "      <td>221.320956</td>\n",
       "      <td>POLYGON ((35.47006 -17.88445, 35.45013 -17.904...</td>\n",
       "      <td>6.565657</td>\n",
       "    </tr>\n",
       "    <tr>\n",
       "      <th>1</th>\n",
       "      <td>420504</td>\n",
       "      <td>1447.923169</td>\n",
       "      <td>14.479232</td>\n",
       "      <td>68</td>\n",
       "      <td>1326.621765</td>\n",
       "      <td>121.301405</td>\n",
       "      <td>POLYGON ((35.46500 -17.82864, 35.46246 -17.831...</td>\n",
       "      <td>8.377613</td>\n",
       "    </tr>\n",
       "    <tr>\n",
       "      <th>2</th>\n",
       "      <td>421423</td>\n",
       "      <td>8175.687214</td>\n",
       "      <td>81.756872</td>\n",
       "      <td>384</td>\n",
       "      <td>8041.939738</td>\n",
       "      <td>133.747476</td>\n",
       "      <td>POLYGON ((35.45013 -17.90497, 35.47006 -17.884...</td>\n",
       "      <td>1.635917</td>\n",
       "    </tr>\n",
       "    <tr>\n",
       "      <th>3</th>\n",
       "      <td>422404</td>\n",
       "      <td>3824.256977</td>\n",
       "      <td>38.242570</td>\n",
       "      <td>3232</td>\n",
       "      <td>3692.181527</td>\n",
       "      <td>132.075451</td>\n",
       "      <td>POLYGON ((35.32956 -17.69939, 35.32710 -17.700...</td>\n",
       "      <td>3.453624</td>\n",
       "    </tr>\n",
       "    <tr>\n",
       "      <th>4</th>\n",
       "      <td>423418</td>\n",
       "      <td>2283.509379</td>\n",
       "      <td>22.835094</td>\n",
       "      <td>3198</td>\n",
       "      <td>2207.040572</td>\n",
       "      <td>76.468808</td>\n",
       "      <td>MULTIPOLYGON (((35.36786 -17.70109, 35.36698 -...</td>\n",
       "      <td>3.348741</td>\n",
       "    </tr>\n",
       "    <tr>\n",
       "      <th>...</th>\n",
       "      <td>...</td>\n",
       "      <td>...</td>\n",
       "      <td>...</td>\n",
       "      <td>...</td>\n",
       "      <td>...</td>\n",
       "      <td>...</td>\n",
       "      <td>...</td>\n",
       "      <td>...</td>\n",
       "    </tr>\n",
       "    <tr>\n",
       "      <th>61</th>\n",
       "      <td>512919</td>\n",
       "      <td>4615.067886</td>\n",
       "      <td>46.150679</td>\n",
       "      <td>296</td>\n",
       "      <td>4611.947194</td>\n",
       "      <td>3.120692</td>\n",
       "      <td>POLYGON ((36.48181 -17.60520, 36.46257 -17.613...</td>\n",
       "      <td>0.067620</td>\n",
       "    </tr>\n",
       "    <tr>\n",
       "      <th>62</th>\n",
       "      <td>512991</td>\n",
       "      <td>2737.154059</td>\n",
       "      <td>27.371541</td>\n",
       "      <td>8524</td>\n",
       "      <td>2736.071038</td>\n",
       "      <td>1.083021</td>\n",
       "      <td>POLYGON ((36.32987 -17.62220, 36.33050 -17.631...</td>\n",
       "      <td>0.039567</td>\n",
       "    </tr>\n",
       "    <tr>\n",
       "      <th>63</th>\n",
       "      <td>513337</td>\n",
       "      <td>10140.299100</td>\n",
       "      <td>101.402991</td>\n",
       "      <td>1031</td>\n",
       "      <td>8798.285341</td>\n",
       "      <td>1342.013759</td>\n",
       "      <td>POLYGON ((35.70632 -18.02192, 35.68469 -18.045...</td>\n",
       "      <td>13.234459</td>\n",
       "    </tr>\n",
       "    <tr>\n",
       "      <th>64</th>\n",
       "      <td>602105</td>\n",
       "      <td>14952.905333</td>\n",
       "      <td>149.529053</td>\n",
       "      <td>1182</td>\n",
       "      <td>14840.376645</td>\n",
       "      <td>112.528688</td>\n",
       "      <td>POLYGON ((36.66423 -17.89400, 36.66097 -17.894...</td>\n",
       "      <td>0.752554</td>\n",
       "    </tr>\n",
       "    <tr>\n",
       "      <th>65</th>\n",
       "      <td>612786</td>\n",
       "      <td>38602.006494</td>\n",
       "      <td>386.020065</td>\n",
       "      <td>1</td>\n",
       "      <td>38558.391539</td>\n",
       "      <td>43.614955</td>\n",
       "      <td>POLYGON ((36.67886 -18.15921, 36.67921 -18.159...</td>\n",
       "      <td>0.112986</td>\n",
       "    </tr>\n",
       "  </tbody>\n",
       "</table>\n",
       "<p>66 rows × 8 columns</p>\n",
       "</div>"
      ],
      "text/plain": [
       "        id   Vor_area_ha  Vor_area_sq.km  uniqueID    No_crop_ha  Cropland_ha  \\\n",
       "0   420329   3370.888402       33.708884        69   3149.567446   221.320956   \n",
       "1   420504   1447.923169       14.479232        68   1326.621765   121.301405   \n",
       "2   421423   8175.687214       81.756872       384   8041.939738   133.747476   \n",
       "3   422404   3824.256977       38.242570      3232   3692.181527   132.075451   \n",
       "4   423418   2283.509379       22.835094      3198   2207.040572    76.468808   \n",
       "..     ...           ...             ...       ...           ...          ...   \n",
       "61  512919   4615.067886       46.150679       296   4611.947194     3.120692   \n",
       "62  512991   2737.154059       27.371541      8524   2736.071038     1.083021   \n",
       "63  513337  10140.299100      101.402991      1031   8798.285341  1342.013759   \n",
       "64  602105  14952.905333      149.529053      1182  14840.376645   112.528688   \n",
       "65  612786  38602.006494      386.020065         1  38558.391539    43.614955   \n",
       "\n",
       "                                             geometry      Crop%  \n",
       "0   POLYGON ((35.47006 -17.88445, 35.45013 -17.904...   6.565657  \n",
       "1   POLYGON ((35.46500 -17.82864, 35.46246 -17.831...   8.377613  \n",
       "2   POLYGON ((35.45013 -17.90497, 35.47006 -17.884...   1.635917  \n",
       "3   POLYGON ((35.32956 -17.69939, 35.32710 -17.700...   3.453624  \n",
       "4   MULTIPOLYGON (((35.36786 -17.70109, 35.36698 -...   3.348741  \n",
       "..                                                ...        ...  \n",
       "61  POLYGON ((36.48181 -17.60520, 36.46257 -17.613...   0.067620  \n",
       "62  POLYGON ((36.32987 -17.62220, 36.33050 -17.631...   0.039567  \n",
       "63  POLYGON ((35.70632 -18.02192, 35.68469 -18.045...  13.234459  \n",
       "64  POLYGON ((36.66423 -17.89400, 36.66097 -17.894...   0.752554  \n",
       "65  POLYGON ((36.67886 -18.15921, 36.67921 -18.159...   0.112986  \n",
       "\n",
       "[66 rows x 8 columns]"
      ]
     },
     "execution_count": 49,
     "metadata": {},
     "output_type": "execute_result"
    }
   ],
   "source": [
    "vor_poly"
   ]
  },
  {
   "cell_type": "markdown",
   "metadata": {
    "code_folding": [
     0
    ]
   },
   "source": [
    "### Extracting harvested area\n",
    "\n",
    "Here we are using a few sample crops, which of course can be expanded based on case study/need.."
   ]
  },
  {
   "cell_type": "code",
   "execution_count": 50,
   "metadata": {},
   "outputs": [],
   "source": [
    "crop_types = [\"rice\", \"maize\", \"cassava\", \"sorghum\"]"
   ]
  },
  {
   "cell_type": "code",
   "execution_count": 51,
   "metadata": {},
   "outputs": [
    {
     "name": "stdout",
     "output_type": "stream",
     "text": [
      "2024-08-15 16:04:09.114361\n",
      "2024-08-15 16:04:15.238612\n",
      "2024-08-15 16:04:21.481692\n",
      "2024-08-15 16:04:26.892828\n",
      "2024-08-15 16:04:27.045728\n"
     ]
    }
   ],
   "source": [
    "for crop in crop_types:\n",
    "    vor_poly = processing_raster(crop, \"sum\", vor_poly)\n",
    "    \n",
    "vor_poly = finalizing_rasters(workspace, vor_poly, crs_WGS84)"
   ]
  },
  {
   "cell_type": "markdown",
   "metadata": {},
   "source": [
    "## Merging Voronoi to clusters"
   ]
  },
  {
   "cell_type": "code",
   "execution_count": 52,
   "metadata": {},
   "outputs": [],
   "source": [
    "settles_gdf = settles_gdf.merge(vor_poly[['id',\n",
    "                                          'Crop%', \n",
    "                                          'Cropland_ha', \n",
    "                                          'No_crop_ha', \n",
    "                                          'Vor_area_ha', \n",
    "                                          'Vor_area_sq.km',\n",
    "                                          'ricesum', \n",
    "                                          'maizesum', \n",
    "                                          'cassavasum', \n",
    "                                          'sorghumsum']], how=\"left\", on='id')"
   ]
  },
  {
   "cell_type": "code",
   "execution_count": 53,
   "metadata": {},
   "outputs": [
    {
     "data": {
      "text/html": [
       "<div>\n",
       "<style scoped>\n",
       "    .dataframe tbody tr th:only-of-type {\n",
       "        vertical-align: middle;\n",
       "    }\n",
       "\n",
       "    .dataframe tbody tr th {\n",
       "        vertical-align: top;\n",
       "    }\n",
       "\n",
       "    .dataframe thead th {\n",
       "        text-align: right;\n",
       "    }\n",
       "</style>\n",
       "<table border=\"1\" class=\"dataframe\">\n",
       "  <thead>\n",
       "    <tr style=\"text-align: right;\">\n",
       "      <th></th>\n",
       "      <th>FID</th>\n",
       "      <th>HREA_lightscoremax</th>\n",
       "      <th>RWImean</th>\n",
       "      <th>SHAPE_Area</th>\n",
       "      <th>SHAPE_Leng</th>\n",
       "      <th>Shape_Le_1</th>\n",
       "      <th>VIIRSmean</th>\n",
       "      <th>access_airportsmean</th>\n",
       "      <th>access_capitalmean</th>\n",
       "      <th>access_citiesmean</th>\n",
       "      <th>...</th>\n",
       "      <th>Food_Sec</th>\n",
       "      <th>Crop%</th>\n",
       "      <th>Cropland_ha</th>\n",
       "      <th>No_crop_ha</th>\n",
       "      <th>Vor_area_ha</th>\n",
       "      <th>Vor_area_sq.km</th>\n",
       "      <th>ricesum</th>\n",
       "      <th>maizesum</th>\n",
       "      <th>cassavasum</th>\n",
       "      <th>sorghumsum</th>\n",
       "    </tr>\n",
       "  </thead>\n",
       "  <tbody>\n",
       "    <tr>\n",
       "      <th>0</th>\n",
       "      <td>420330</td>\n",
       "      <td>0.279634</td>\n",
       "      <td>-0.287667</td>\n",
       "      <td>0.000044</td>\n",
       "      <td>0.051805</td>\n",
       "      <td>0.051805</td>\n",
       "      <td>0.110662</td>\n",
       "      <td>3.116482</td>\n",
       "      <td>18.526462</td>\n",
       "      <td>4.758549</td>\n",
       "      <td>...</td>\n",
       "      <td>NaN</td>\n",
       "      <td>6.565657</td>\n",
       "      <td>221.320956</td>\n",
       "      <td>3149.567446</td>\n",
       "      <td>3370.888402</td>\n",
       "      <td>33.708884</td>\n",
       "      <td>156.300003</td>\n",
       "      <td>389.400024</td>\n",
       "      <td>497.600006</td>\n",
       "      <td>56.299999</td>\n",
       "    </tr>\n",
       "    <tr>\n",
       "      <th>1</th>\n",
       "      <td>420505</td>\n",
       "      <td>0.261274</td>\n",
       "      <td>-0.352000</td>\n",
       "      <td>0.000023</td>\n",
       "      <td>0.030768</td>\n",
       "      <td>0.030768</td>\n",
       "      <td>0.219194</td>\n",
       "      <td>3.029637</td>\n",
       "      <td>18.438713</td>\n",
       "      <td>4.670798</td>\n",
       "      <td>...</td>\n",
       "      <td>NaN</td>\n",
       "      <td>8.377613</td>\n",
       "      <td>121.301405</td>\n",
       "      <td>1326.621765</td>\n",
       "      <td>1447.923169</td>\n",
       "      <td>14.479232</td>\n",
       "      <td>156.300003</td>\n",
       "      <td>389.400024</td>\n",
       "      <td>497.600006</td>\n",
       "      <td>56.299999</td>\n",
       "    </tr>\n",
       "    <tr>\n",
       "      <th>2</th>\n",
       "      <td>421424</td>\n",
       "      <td>0.408573</td>\n",
       "      <td>-0.425250</td>\n",
       "      <td>0.000075</td>\n",
       "      <td>0.168479</td>\n",
       "      <td>0.168479</td>\n",
       "      <td>0.093632</td>\n",
       "      <td>3.187710</td>\n",
       "      <td>18.597871</td>\n",
       "      <td>4.829957</td>\n",
       "      <td>...</td>\n",
       "      <td>NaN</td>\n",
       "      <td>1.635917</td>\n",
       "      <td>133.747476</td>\n",
       "      <td>8041.939738</td>\n",
       "      <td>8175.687214</td>\n",
       "      <td>81.756872</td>\n",
       "      <td>423.600006</td>\n",
       "      <td>1374.000000</td>\n",
       "      <td>1307.500000</td>\n",
       "      <td>221.299988</td>\n",
       "    </tr>\n",
       "    <tr>\n",
       "      <th>3</th>\n",
       "      <td>422405</td>\n",
       "      <td>0.231879</td>\n",
       "      <td>-0.614000</td>\n",
       "      <td>0.000024</td>\n",
       "      <td>0.043882</td>\n",
       "      <td>0.043882</td>\n",
       "      <td>0.184518</td>\n",
       "      <td>3.132306</td>\n",
       "      <td>18.592285</td>\n",
       "      <td>4.824371</td>\n",
       "      <td>...</td>\n",
       "      <td>NaN</td>\n",
       "      <td>3.453624</td>\n",
       "      <td>132.075451</td>\n",
       "      <td>3692.181527</td>\n",
       "      <td>3824.256977</td>\n",
       "      <td>38.242570</td>\n",
       "      <td>347.200012</td>\n",
       "      <td>1593.000000</td>\n",
       "      <td>915.099976</td>\n",
       "      <td>258.100006</td>\n",
       "    </tr>\n",
       "    <tr>\n",
       "      <th>4</th>\n",
       "      <td>423419</td>\n",
       "      <td>0.227336</td>\n",
       "      <td>-0.424000</td>\n",
       "      <td>0.000056</td>\n",
       "      <td>0.077457</td>\n",
       "      <td>0.077457</td>\n",
       "      <td>0.137862</td>\n",
       "      <td>3.110546</td>\n",
       "      <td>18.570525</td>\n",
       "      <td>4.802611</td>\n",
       "      <td>...</td>\n",
       "      <td>NaN</td>\n",
       "      <td>3.348741</td>\n",
       "      <td>76.468808</td>\n",
       "      <td>2207.040572</td>\n",
       "      <td>2283.509379</td>\n",
       "      <td>22.835094</td>\n",
       "      <td>401.800018</td>\n",
       "      <td>1804.500000</td>\n",
       "      <td>1136.199951</td>\n",
       "      <td>302.800018</td>\n",
       "    </tr>\n",
       "    <tr>\n",
       "      <th>...</th>\n",
       "      <td>...</td>\n",
       "      <td>...</td>\n",
       "      <td>...</td>\n",
       "      <td>...</td>\n",
       "      <td>...</td>\n",
       "      <td>...</td>\n",
       "      <td>...</td>\n",
       "      <td>...</td>\n",
       "      <td>...</td>\n",
       "      <td>...</td>\n",
       "      <td>...</td>\n",
       "      <td>...</td>\n",
       "      <td>...</td>\n",
       "      <td>...</td>\n",
       "      <td>...</td>\n",
       "      <td>...</td>\n",
       "      <td>...</td>\n",
       "      <td>...</td>\n",
       "      <td>...</td>\n",
       "      <td>...</td>\n",
       "      <td>...</td>\n",
       "    </tr>\n",
       "    <tr>\n",
       "      <th>61</th>\n",
       "      <td>512920</td>\n",
       "      <td>0.228160</td>\n",
       "      <td>-0.405000</td>\n",
       "      <td>0.000099</td>\n",
       "      <td>0.180973</td>\n",
       "      <td>0.180973</td>\n",
       "      <td>0.103340</td>\n",
       "      <td>1.217007</td>\n",
       "      <td>19.874721</td>\n",
       "      <td>6.106807</td>\n",
       "      <td>...</td>\n",
       "      <td>0.2</td>\n",
       "      <td>0.067620</td>\n",
       "      <td>3.120692</td>\n",
       "      <td>4611.947194</td>\n",
       "      <td>4615.067886</td>\n",
       "      <td>46.150679</td>\n",
       "      <td>218.500000</td>\n",
       "      <td>90.500000</td>\n",
       "      <td>211.500000</td>\n",
       "      <td>13.300000</td>\n",
       "    </tr>\n",
       "    <tr>\n",
       "      <th>62</th>\n",
       "      <td>512992</td>\n",
       "      <td>0.241156</td>\n",
       "      <td>-0.416333</td>\n",
       "      <td>0.000086</td>\n",
       "      <td>0.165222</td>\n",
       "      <td>0.165222</td>\n",
       "      <td>0.085923</td>\n",
       "      <td>1.346204</td>\n",
       "      <td>19.735314</td>\n",
       "      <td>5.967399</td>\n",
       "      <td>...</td>\n",
       "      <td>NaN</td>\n",
       "      <td>0.039567</td>\n",
       "      <td>1.083021</td>\n",
       "      <td>2736.071038</td>\n",
       "      <td>2737.154059</td>\n",
       "      <td>27.371541</td>\n",
       "      <td>71.400002</td>\n",
       "      <td>148.300003</td>\n",
       "      <td>239.300003</td>\n",
       "      <td>7.600000</td>\n",
       "    </tr>\n",
       "    <tr>\n",
       "      <th>63</th>\n",
       "      <td>513338</td>\n",
       "      <td>3.208913</td>\n",
       "      <td>0.029500</td>\n",
       "      <td>0.000611</td>\n",
       "      <td>0.261357</td>\n",
       "      <td>0.261357</td>\n",
       "      <td>0.895509</td>\n",
       "      <td>3.253568</td>\n",
       "      <td>19.249476</td>\n",
       "      <td>5.481564</td>\n",
       "      <td>...</td>\n",
       "      <td>NaN</td>\n",
       "      <td>13.234459</td>\n",
       "      <td>1342.013759</td>\n",
       "      <td>8798.285341</td>\n",
       "      <td>10140.299100</td>\n",
       "      <td>101.402991</td>\n",
       "      <td>544.099976</td>\n",
       "      <td>1159.200073</td>\n",
       "      <td>971.299927</td>\n",
       "      <td>131.400009</td>\n",
       "    </tr>\n",
       "    <tr>\n",
       "      <th>64</th>\n",
       "      <td>602106</td>\n",
       "      <td>0.278368</td>\n",
       "      <td>-0.477500</td>\n",
       "      <td>0.000070</td>\n",
       "      <td>0.133468</td>\n",
       "      <td>0.133468</td>\n",
       "      <td>0.112845</td>\n",
       "      <td>3.029404</td>\n",
       "      <td>21.248421</td>\n",
       "      <td>7.480508</td>\n",
       "      <td>...</td>\n",
       "      <td>NaN</td>\n",
       "      <td>0.752554</td>\n",
       "      <td>112.528688</td>\n",
       "      <td>14840.376645</td>\n",
       "      <td>14952.905333</td>\n",
       "      <td>149.529053</td>\n",
       "      <td>89.599998</td>\n",
       "      <td>11.200000</td>\n",
       "      <td>38.600002</td>\n",
       "      <td>9.300000</td>\n",
       "    </tr>\n",
       "    <tr>\n",
       "      <th>65</th>\n",
       "      <td>612787</td>\n",
       "      <td>0.226570</td>\n",
       "      <td>-0.221500</td>\n",
       "      <td>0.000145</td>\n",
       "      <td>0.314089</td>\n",
       "      <td>0.314089</td>\n",
       "      <td>0.026264</td>\n",
       "      <td>0.887495</td>\n",
       "      <td>21.923051</td>\n",
       "      <td>8.006151</td>\n",
       "      <td>...</td>\n",
       "      <td>NaN</td>\n",
       "      <td>0.112986</td>\n",
       "      <td>43.614955</td>\n",
       "      <td>38558.391539</td>\n",
       "      <td>38602.006494</td>\n",
       "      <td>386.020065</td>\n",
       "      <td>20.000000</td>\n",
       "      <td>NaN</td>\n",
       "      <td>0.100000</td>\n",
       "      <td>2.400000</td>\n",
       "    </tr>\n",
       "  </tbody>\n",
       "</table>\n",
       "<p>66 rows × 57 columns</p>\n",
       "</div>"
      ],
      "text/plain": [
       "       FID  HREA_lightscoremax   RWImean  SHAPE_Area  SHAPE_Leng  Shape_Le_1  \\\n",
       "0   420330            0.279634 -0.287667    0.000044    0.051805    0.051805   \n",
       "1   420505            0.261274 -0.352000    0.000023    0.030768    0.030768   \n",
       "2   421424            0.408573 -0.425250    0.000075    0.168479    0.168479   \n",
       "3   422405            0.231879 -0.614000    0.000024    0.043882    0.043882   \n",
       "4   423419            0.227336 -0.424000    0.000056    0.077457    0.077457   \n",
       "..     ...                 ...       ...         ...         ...         ...   \n",
       "61  512920            0.228160 -0.405000    0.000099    0.180973    0.180973   \n",
       "62  512992            0.241156 -0.416333    0.000086    0.165222    0.165222   \n",
       "63  513338            3.208913  0.029500    0.000611    0.261357    0.261357   \n",
       "64  602106            0.278368 -0.477500    0.000070    0.133468    0.133468   \n",
       "65  612787            0.226570 -0.221500    0.000145    0.314089    0.314089   \n",
       "\n",
       "    VIIRSmean  access_airportsmean  access_capitalmean  access_citiesmean  \\\n",
       "0    0.110662             3.116482           18.526462           4.758549   \n",
       "1    0.219194             3.029637           18.438713           4.670798   \n",
       "2    0.093632             3.187710           18.597871           4.829957   \n",
       "3    0.184518             3.132306           18.592285           4.824371   \n",
       "4    0.137862             3.110546           18.570525           4.802611   \n",
       "..        ...                  ...                 ...                ...   \n",
       "61   0.103340             1.217007           19.874721           6.106807   \n",
       "62   0.085923             1.346204           19.735314           5.967399   \n",
       "63   0.895509             3.253568           19.249476           5.481564   \n",
       "64   0.112845             3.029404           21.248421           7.480508   \n",
       "65   0.026264             0.887495           21.923051           8.006151   \n",
       "\n",
       "    ...  Food_Sec      Crop%  Cropland_ha    No_crop_ha   Vor_area_ha  \\\n",
       "0   ...       NaN   6.565657   221.320956   3149.567446   3370.888402   \n",
       "1   ...       NaN   8.377613   121.301405   1326.621765   1447.923169   \n",
       "2   ...       NaN   1.635917   133.747476   8041.939738   8175.687214   \n",
       "3   ...       NaN   3.453624   132.075451   3692.181527   3824.256977   \n",
       "4   ...       NaN   3.348741    76.468808   2207.040572   2283.509379   \n",
       "..  ...       ...        ...          ...           ...           ...   \n",
       "61  ...       0.2   0.067620     3.120692   4611.947194   4615.067886   \n",
       "62  ...       NaN   0.039567     1.083021   2736.071038   2737.154059   \n",
       "63  ...       NaN  13.234459  1342.013759   8798.285341  10140.299100   \n",
       "64  ...       NaN   0.752554   112.528688  14840.376645  14952.905333   \n",
       "65  ...       NaN   0.112986    43.614955  38558.391539  38602.006494   \n",
       "\n",
       "    Vor_area_sq.km     ricesum     maizesum   cassavasum  sorghumsum  \n",
       "0        33.708884  156.300003   389.400024   497.600006   56.299999  \n",
       "1        14.479232  156.300003   389.400024   497.600006   56.299999  \n",
       "2        81.756872  423.600006  1374.000000  1307.500000  221.299988  \n",
       "3        38.242570  347.200012  1593.000000   915.099976  258.100006  \n",
       "4        22.835094  401.800018  1804.500000  1136.199951  302.800018  \n",
       "..             ...         ...          ...          ...         ...  \n",
       "61       46.150679  218.500000    90.500000   211.500000   13.300000  \n",
       "62       27.371541   71.400002   148.300003   239.300003    7.600000  \n",
       "63      101.402991  544.099976  1159.200073   971.299927  131.400009  \n",
       "64      149.529053   89.599998    11.200000    38.600002    9.300000  \n",
       "65      386.020065   20.000000          NaN     0.100000    2.400000  \n",
       "\n",
       "[66 rows x 57 columns]"
      ]
     },
     "execution_count": 53,
     "metadata": {},
     "output_type": "execute_result"
    }
   ],
   "source": [
    "settles_gdf"
   ]
  },
  {
   "cell_type": "code",
   "execution_count": 54,
   "metadata": {},
   "outputs": [
    {
     "data": {
      "text/plain": [
       "<matplotlib.axes._subplots.AxesSubplot at 0x14f391c2c70>"
      ]
     },
     "execution_count": 54,
     "metadata": {},
     "output_type": "execute_result"
    },
    {
     "data": {
      "image/png": "[encoded data removed]",
      "text/plain": [
       "<Figure size 432x288 with 1 Axes>"
      ]
     },
     "metadata": {
      "needs_background": "light"
     },
     "output_type": "display_data"
    }
   ],
   "source": [
    "vor_poly.plot()"
   ]
  },
  {
   "cell_type": "code",
   "execution_count": 56,
   "metadata": {},
   "outputs": [],
   "source": [
    "#vor_poly.to_file(workspace + r\"\\vor_poly.shp\", driver='ESRI Shapefile')"
   ]
  },
  {
   "cell_type": "markdown",
   "metadata": {},
   "source": []
  },
  {
   "cell_type": "markdown",
   "metadata": {},
   "source": [
    "## Compute indices"
   ]
  },
  {
   "cell_type": "markdown",
   "metadata": {},
   "source": [
    "### Farming activity index\n",
    "1. **Compute the farming activity, which is a proxy for farming activity based on:**\n",
    "    - Farming volume: Cropland area within each settlement's influence area (Voronoi polygon)\n",
    "    - Farming density: Percentage of each settlement's influence area (Voronoi polygon) occupied by crops\n",
    "\n",
    "\n",
    "2. **Normalize the index using min-max scaling**\n",
    "\n",
    "3. **Reduce Skeweness**"
   ]
  },
  {
   "cell_type": "code",
   "execution_count": 66,
   "metadata": {
    "code_folding": [
     0
    ]
   },
   "outputs": [
    {
     "data": {
      "text/plain": [
       "count    66.000000\n",
       "mean      0.516775\n",
       "std       0.210637\n",
       "min       0.000000\n",
       "25%       0.361478\n",
       "50%       0.508231\n",
       "75%       0.671484\n",
       "max       1.000000\n",
       "Name: farming_activity_n, dtype: float64"
      ]
     },
     "execution_count": 66,
     "metadata": {},
     "output_type": "execute_result"
    },
    {
     "data": {
      "image/png": "[encoded data removed]",
      "text/plain": [
       "<Figure size 432x288 with 1 Axes>"
      ]
     },
     "metadata": {
      "needs_background": "light"
     },
     "output_type": "display_data"
    }
   ],
   "source": [
    "#Calculating farming activity index based on surrounding cropland area and cropland area percentage\n",
    "w_croplnd_area_ha=0.5\n",
    "w_croplnd_area_perc=0.5\n",
    "settles_gdf['farming_activity']= (\n",
    "    (settles_gdf['Cropland_ha'] - settles_gdf['Cropland_ha'].min())/(settles_gdf['Cropland_ha'].max() - settles_gdf['Cropland_ha'].min())*w_croplnd_area_ha\n",
    "    + (settles_gdf['Crop%'] - settles_gdf['Crop%'].min())/(settles_gdf['Crop%'].max() - settles_gdf['Crop%'].min())*w_croplnd_area_perc\n",
    ")\n",
    "7\n",
    "## Normalize\n",
    "scaler = MinMaxScaler()\n",
    "settles_gdf['farming_activity_n']= scaler.fit_transform(settles_gdf[['farming_activity']])\n",
    "\n",
    "## Reduce skeweness\n",
    "settles_gdf['farming_activity_n']=np.power((settles_gdf['farming_activity_n']),1/4)\n",
    "\n",
    "## Visualize plot and desctiptive analytics\n",
    "\n",
    "settles_gdf['farming_activity_n'].plot.hist(bins=100, title='Farming Activity Index')\n",
    "settles_gdf['farming_activity_n'].describe()"
   ]
  },
  {
   "cell_type": "markdown",
   "metadata": {},
   "source": [
    "## Market accessibility index\n",
    "\n",
    "**Compute the market accessibility, which is a proxy for the possibility to trade or export agricultural products based on a weighted average of:**\n",
    "    - travel time to the capital city (potential for export and national distribution)\n",
    "    - travel time to major cities (potential for sales in fresh markets and national distribution)\n",
    "    - travel time to ports (potential for export)\n",
    "    - travel time to railway stations (potential for export and national distribution)\n",
    "    - travel time to airports (potential for export and national distribution)\n",
    "    - population sum within 20 km radius (potential for sales in fresh markets)\n",
    "    - farming density: Percentage of each settlement's influence area (Voronoi polygon) occupied by crops\n",
    "\n"
   ]
  },
  {
   "cell_type": "markdown",
   "metadata": {},
   "source": [
    "1. Normalize the accessibility parameters using min-max scaling"
   ]
  },
  {
   "cell_type": "code",
   "execution_count": 69,
   "metadata": {
    "code_folding": [
     0
    ]
   },
   "outputs": [],
   "source": [
    "#Normalization of accessibility parameters\n",
    "\"\"\" scaler = MinMaxScaler()\n",
    "settles_gdf['travel_to_capital_n'] = scaler.fit_transform(settles_gdf[['access_capitalmean']])\n",
    "settles_gdf['travel_maj_city_200k_n'] = scaler.fit_transform(settles_gdf[['access_citiesmean']])\n",
    "settles_gdf['travel_to_railw_n'] = scaler.fit_transform(settles_gdf[['access_railwaysmean']])\n",
    "settles_gdf['travel_to_airports_n'] = scaler.fit_transform(settles_gdf[['access_airportsmean']])\n",
    "settles_gdf['travel_to_ports_n'] = scaler.fit_transform(settles_gdf[['access_portsmean']])\n",
    "settles_gdf['pop_20km_buffer_n'] = scaler.fit_transform(settles_gdf[['populationsum']])\n",
    "settles_gdf \"\"\"\n",
    "\n",
    "\n",
    "settles_gdf['travel_to_capital_n'] = (settles_gdf['access_capitalmean'].max()-settles_gdf['access_capitalmean'])/(settles_gdf['access_capitalmean'].max()-settles_gdf['access_capitalmean'].min())\n",
    "settles_gdf['travel_to_railw_n'] = (settles_gdf['access_railwaysmean'].max()-settles_gdf['access_railwaysmean'])/(settles_gdf['access_railwaysmean'].max()-settles_gdf['access_railwaysmean'].min())\n",
    "settles_gdf['travel_to_ports_n'] = (settles_gdf['access_portsmean'].max()-settles_gdf['access_portsmean'])/(settles_gdf['access_portsmean'].max()-settles_gdf['access_portsmean'].min())\n",
    "settles_gdf['travel_to_airports_n'] = (settles_gdf['access_airportsmean'].max()-settles_gdf['access_airportsmean'])/(settles_gdf['access_airportsmean'].max()-settles_gdf['access_airportsmean'].min())\n",
    "settles_gdf['travel_maj_city_200k_n'] = (settles_gdf['access_citiesmean'].max()-settles_gdf['access_citiesmean'])/(settles_gdf['access_citiesmean'].max()-settles_gdf['access_citiesmean'].min())\n",
    "settles_gdf['pop_20km_buffer_n'] = (settles_gdf['populationsum']-settles_gdf['populationsum'].min())/(settles_gdf['populationsum'].max()-settles_gdf['populationsum'].min())\n",
    "pd.set_option('display.max_columns', None)\n",
    "#settles_gdf"
   ]
  },
  {
   "cell_type": "markdown",
   "metadata": {},
   "source": [
    "2. Assign weights, normalize weights, calculate weighted average, normalize the index"
   ]
  },
  {
   "cell_type": "code",
   "execution_count": 73,
   "metadata": {
    "code_folding": [
     0
    ]
   },
   "outputs": [
    {
     "data": {
      "text/plain": [
       "count    66.000000\n",
       "mean      0.544144\n",
       "std       0.207734\n",
       "min       0.000000\n",
       "25%       0.454849\n",
       "50%       0.581829\n",
       "75%       0.694668\n",
       "max       1.000000\n",
       "Name: access_farm_index_n, dtype: float64"
      ]
     },
     "execution_count": 73,
     "metadata": {},
     "output_type": "execute_result"
    },
    {
     "data": {
      "image/png": "[encoded data removed]",
      "text/plain": [
       "<Figure size 432x288 with 1 Axes>"
      ]
     },
     "metadata": {
      "needs_background": "light"
     },
     "output_type": "display_data"
    }
   ],
   "source": [
    "## Setting weights from 0 to 100\n",
    "w_travel_to_capital=5\n",
    "w_travel_to_railw=20\n",
    "w_travel_to_air=50\n",
    "w_travel_to_port=70\n",
    "w_travel_to_maj_city=100\n",
    "w_pop20km=100\n",
    "\n",
    "## Normalizing weights\n",
    "weights=np.array([w_travel_to_capital, w_travel_to_railw, w_travel_to_air, w_travel_to_port, w_travel_to_maj_city, w_pop20km])\n",
    "total_weights = np.sum(weights)\n",
    "w_travel_to_capital=w_travel_to_capital/total_weights\n",
    "w_travel_to_railw=w_travel_to_railw/total_weights\n",
    "w_travel_to_air=w_travel_to_air/total_weights\n",
    "w_travel_to_port=w_travel_to_port/total_weights\n",
    "w_travel_to_maj_city=w_travel_to_maj_city/total_weights\n",
    "w_pop20km=w_pop20km/total_weights\n",
    "\n",
    "## Calculating accessibility indicator for farming activity, i.e. proxy for the ability to sell agricultural outputs\n",
    "access_farm_index=(\n",
    "    w_travel_to_capital*settles_gdf['travel_to_capital_n']+\n",
    "    w_travel_to_railw*settles_gdf['travel_to_railw_n']+\n",
    "    w_travel_to_air*settles_gdf['travel_to_airports_n']+\n",
    "    w_travel_to_port*settles_gdf['travel_to_ports_n']+\n",
    "    w_travel_to_maj_city*settles_gdf['travel_maj_city_200k_n']+\n",
    "    w_pop20km*settles_gdf['pop_20km_buffer_n']\n",
    ")\n",
    "settles_gdf['access_farm_index']=access_farm_index\n",
    "\n",
    "## Normalize access_farm_index\n",
    "access_farm_index_n= (settles_gdf['access_farm_index'] - settles_gdf['access_farm_index'].min()) / (settles_gdf['access_farm_index'].max() - settles_gdf['access_farm_index'].min())\n",
    "\n",
    "\"\"\" scaler = MinMaxScaler()\n",
    "access_farm_index_n = scaler.fit_transform(settles_gdf['access_farm_index'].values.reshape(-1, 1)).flatten()\n",
    " \"\"\"\n",
    "settles_gdf['access_farm_index_n'] = access_farm_index_n\n",
    "settles_gdf['access_farm_index_n'].plot.hist(bins=100, title='Market Accessibility Index')\n",
    "settles_gdf['access_farm_index_n'].describe()\n",
    "\n",
    "#reduce skewness (no need here)\n",
    "#settles_gdf['access_farm_index_n']=np.power((settles_gdf['access_farm_index_n']),1)\n",
    "\n",
    "#settles_gdf.head(100)"
   ]
  },
  {
   "cell_type": "markdown",
   "metadata": {},
   "source": [
    "## Market potential index\n",
    "**Compute the market potential, which is a proxy for the settlement's ability to both produce and trade agricultural products, based on a weighted average of:**\n",
    "    - farming activity\n",
    "    - market accessibility"
   ]
  },
  {
   "cell_type": "code",
   "execution_count": 76,
   "metadata": {
    "code_folding": [
     0
    ]
   },
   "outputs": [
    {
     "data": {
      "text/plain": [
       "count    66.000000\n",
       "mean      0.484402\n",
       "std       0.188358\n",
       "min       0.000000\n",
       "25%       0.380491\n",
       "50%       0.522326\n",
       "75%       0.612522\n",
       "max       1.000000\n",
       "Name: mrkt_potential_n, dtype: float64"
      ]
     },
     "execution_count": 76,
     "metadata": {},
     "output_type": "execute_result"
    },
    {
     "data": {
      "image/png": "[encoded data removed]",
      "text/plain": [
       "<Figure size 432x288 with 1 Axes>"
      ]
     },
     "metadata": {
      "needs_background": "light"
     },
     "output_type": "display_data"
    }
   ],
   "source": [
    "## Assign weights to the importance of farming activity Vs market accessibility\n",
    "farm_activity_weight = 0.4\n",
    "market_access_weight = 0.6\n",
    "\n",
    "settles_gdf['mrkt_potential'] = settles_gdf['access_farm_index_n']*market_access_weight + settles_gdf['farming_activity_n']*farm_activity_weight\n",
    "\n",
    "## Normalize\n",
    "settles_gdf['mrkt_potential_n'] = scaler.fit_transform(settles_gdf['mrkt_potential'].values.reshape(-1, 1)).flatten()\n",
    "settles_gdf['mrkt_potential_n'].plot.hist(bins=100, title='Market Potential Index (farming activity + market accessibility)')\n",
    "#settles_gdf.plot.scatter(y='mrkt_potential_n', x='farming_activity_n')\n",
    "#settles_gdf.plot.scatter(y='mrkt_potential_n', x='access_farm_index_n')\n",
    "\n",
    "settles_gdf['mrkt_potential_n'].describe()"
   ]
  },
  {
   "cell_type": "markdown",
   "metadata": {},
   "source": [
    "## Inland fish market accessibility index\n",
    "\n",
    "**Compute the inland fish market accessibility, which is a proxy for the possibility to trade or export products based on a weighted average of:**\n",
    "    - Inland water occurrence \n",
    "    - travel time to ports (potential for export)\n",
    "    - travel time to railway stations (potential for export and national distribution)\n",
    "    - travel time to airports (potential for export and national distribution)\n",
    "    - population sum within 20 km radius (potential for sales in fresh markets)"
   ]
  },
  {
   "cell_type": "markdown",
   "metadata": {},
   "source": [
    "1. Normalize the inland water occurrence parameter using min-max scaling"
   ]
  },
  {
   "cell_type": "code",
   "execution_count": 82,
   "metadata": {},
   "outputs": [],
   "source": [
    "settles_gdf['water_occursum_n'] = (settles_gdf['water_occursum'].max()-settles_gdf['water_occursum'])/(settles_gdf['water_occursum'].max()-settles_gdf['water_occursum'].min())"
   ]
  },
  {
   "cell_type": "markdown",
   "metadata": {},
   "source": [
    "2. Assign weights, normalize weights, calculate weighted average, normalize the index"
   ]
  },
  {
   "cell_type": "code",
   "execution_count": 84,
   "metadata": {
    "code_folding": [
     0
    ]
   },
   "outputs": [
    {
     "data": {
      "text/plain": [
       "count    66.000000\n",
       "mean      0.539964\n",
       "std       0.273783\n",
       "min       0.000000\n",
       "25%       0.375510\n",
       "50%       0.601712\n",
       "75%       0.742591\n",
       "max       1.000000\n",
       "Name: inland_water_index_n, dtype: float64"
      ]
     },
     "execution_count": 84,
     "metadata": {},
     "output_type": "execute_result"
    },
    {
     "data": {
      "image/png": "[encoded data removed]",
      "text/plain": [
       "<Figure size 432x288 with 1 Axes>"
      ]
     },
     "metadata": {
      "needs_background": "light"
     },
     "output_type": "display_data"
    }
   ],
   "source": [
    "## Setting weights from 0 to 100\n",
    "w_ineater_occur=90\n",
    "w_travel_to_railw=5\n",
    "w_travel_to_air=25\n",
    "w_travel_to_port=50\n",
    "w_pop20km=100\n",
    "\n",
    "## Normalizing weights\n",
    "weights=np.array([w_ineater_occur, w_travel_to_railw, w_travel_to_air, w_travel_to_port, w_pop20km])\n",
    "total_weights = np.sum(weights)\n",
    "\n",
    "w_ineater_occur=w_ineater_occur/total_weights\n",
    "w_travel_to_railw=w_travel_to_railw/total_weights\n",
    "w_travel_to_air=w_travel_to_air/total_weights\n",
    "w_travel_to_port=w_travel_to_port/total_weights\n",
    "w_pop20km=w_pop20km/total_weights\n",
    "\n",
    "## Calculating accessibility indicator for farming activity, i.e. proxy for the ability to sell agricultural outputs\n",
    "inland_water_index=(\n",
    "    w_ineater_occur*settles_gdf['water_occursum_n']+\n",
    "    w_travel_to_railw*settles_gdf['travel_to_railw_n']+\n",
    "    w_travel_to_air*settles_gdf['travel_to_airports_n']+\n",
    "    w_travel_to_port*settles_gdf['travel_to_ports_n']+\n",
    "    w_pop20km*settles_gdf['pop_20km_buffer_n']\n",
    ")\n",
    "\n",
    "settles_gdf['inland_water_index']=inland_water_index\n",
    "\n",
    "## Normalize access_farm_index\n",
    "inland_water_index_n= (settles_gdf['inland_water_index'] - settles_gdf['inland_water_index'].min()) / (settles_gdf['inland_water_index'].max() - settles_gdf['inland_water_index'].min())\n",
    "\n",
    "\"\"\" scaler = MinMaxScaler()\n",
    "inland_water_index_n = scaler.fit_transform(settles_gdf['inland_water_index'].values.reshape(-1, 1)).flatten()\n",
    " \"\"\"\n",
    "settles_gdf['inland_water_index_n'] = inland_water_index_n\n",
    "settles_gdf['inland_water_index_n'].plot.hist(bins=100, title='Inland Water Fish Market Index') \n",
    "settles_gdf['inland_water_index_n'].describe()\n",
    "\n",
    "#reduce skewness (no need here)\n",
    "#settles_gdf['inland_water_index_n']=np.power((settles_gdf['inland_water_index_n']),1)\n",
    "\n",
    "#settles_gdf.head(100)"
   ]
  },
  {
   "cell_type": "markdown",
   "metadata": {},
   "source": [
    "## Marine fish market accessibility index\n",
    "\n",
    "**Compute the marine fish market accessibility, which is a proxy for the possibility to trade or export products based on a weighted average of:**\n",
    "    - Distance to shoreline \n",
    "    - travel time to ports (potential for export)\n",
    "    - travel time to railway stations (potential for export and national distribution)\n",
    "    - travel time to airports (potential for export and national distribution)\n",
    "    - population sum within 20 km radius (potential for sales in fresh markets) "
   ]
  },
  {
   "cell_type": "markdown",
   "metadata": {},
   "source": [
    "1. Normalize the distance to shoreline parameter using min-max scaling"
   ]
  },
  {
   "cell_type": "code",
   "execution_count": 85,
   "metadata": {},
   "outputs": [],
   "source": [
    "settles_gdf['ShorelineDist_n'] = (settles_gdf['ShorelineDist'].max()-settles_gdf['ShorelineDist'])/(settles_gdf['ShorelineDist'].max()-settles_gdf['ShorelineDist'].min())"
   ]
  },
  {
   "cell_type": "markdown",
   "metadata": {},
   "source": [
    "2. Assign weights, normalize weights, calculate weighted average, normalize the index"
   ]
  },
  {
   "cell_type": "code",
   "execution_count": 87,
   "metadata": {
    "code_folding": [
     0
    ]
   },
   "outputs": [
    {
     "data": {
      "text/plain": [
       "count    66.000000\n",
       "mean      0.387132\n",
       "std       0.227436\n",
       "min       0.000000\n",
       "25%       0.176354\n",
       "50%       0.385062\n",
       "75%       0.561382\n",
       "max       1.000000\n",
       "Name: marine_water_index_n, dtype: float64"
      ]
     },
     "execution_count": 87,
     "metadata": {},
     "output_type": "execute_result"
    },
    {
     "data": {
      "image/png": "[encoded data removed]",
      "text/plain": [
       "<Figure size 432x288 with 1 Axes>"
      ]
     },
     "metadata": {
      "needs_background": "light"
     },
     "output_type": "display_data"
    }
   ],
   "source": [
    "## Setting weights from 0 to 100\n",
    "w_shore_dist=90\n",
    "w_travel_to_railw=5\n",
    "w_travel_to_air=25\n",
    "w_travel_to_port=50\n",
    "w_pop20km=70\n",
    "\n",
    "## Normalizing weights\n",
    "weights=np.array([w_shore_dist, w_travel_to_railw, w_travel_to_air, w_travel_to_port, w_pop20km])\n",
    "total_weights = np.sum(weights)\n",
    "\n",
    "w_shore_dist=w_shore_dist/total_weights\n",
    "w_travel_to_railw=w_travel_to_railw/total_weights\n",
    "w_travel_to_air=w_travel_to_air/total_weights\n",
    "w_travel_to_port=w_travel_to_port/total_weights\n",
    "w_pop20km=w_pop20km/total_weights\n",
    "\n",
    "## Calculating accessibility indicator for farming activity, i.e. proxy for the ability to sell agricultural outputs\n",
    "marine_water_index=(\n",
    "    w_shore_dist*settles_gdf['ShorelineDist_n']+\n",
    "    w_travel_to_railw*settles_gdf['travel_to_railw_n']+\n",
    "    w_travel_to_air*settles_gdf['travel_to_airports_n']+\n",
    "    w_travel_to_port*settles_gdf['travel_to_ports_n']+\n",
    "    w_pop20km*settles_gdf['pop_20km_buffer_n']\n",
    ")\n",
    "\n",
    "settles_gdf['marine_water_index']=marine_water_index\n",
    "\n",
    "## Normalize access_farm_index\n",
    "marine_water_index_n= (settles_gdf['marine_water_index'] - settles_gdf['marine_water_index'].min()) / (settles_gdf['marine_water_index'].max() - settles_gdf['marine_water_index'].min())\n",
    "\n",
    "\"\"\" scaler = MinMaxScaler()\n",
    "marine_water_index_n = scaler.fit_transform(settles_gdf['marine_water_index'].values.reshape(-1, 1)).flatten()\n",
    " \"\"\"\n",
    "settles_gdf['marine_water_index_n'] = marine_water_index_n\n",
    "settles_gdf['marine_water_index_n'].plot.hist(bins=100, title='Marine Fish Market Index') \n",
    "settles_gdf['marine_water_index_n'].describe()\n",
    "\n",
    "#reduce skewness (no need here)\n",
    "#settles_gdf['marine_water_index_n']=np.power((settles_gdf['marine_water_index_n']),1)\n",
    "\n",
    "#settles_gdf.head(100)"
   ]
  },
  {
   "cell_type": "markdown",
   "metadata": {},
   "source": [
    "## Fish market potential index\n",
    "**Compute the fish market potential, which is a proxy for the settlement's ability to both produce and trade fishing products, based on a weighted average of:**\n",
    "    - Inland water fishing activity\n",
    "    - Marine fishing activity"
   ]
  },
  {
   "cell_type": "code",
   "execution_count": 89,
   "metadata": {},
   "outputs": [
    {
     "data": {
      "text/plain": [
       "count    66.000000\n",
       "mean      0.476798\n",
       "std       0.268607\n",
       "min       0.000000\n",
       "25%       0.289901\n",
       "50%       0.475674\n",
       "75%       0.671294\n",
       "max       1.000000\n",
       "Name: fish_mrkt_potential_n, dtype: float64"
      ]
     },
     "execution_count": 89,
     "metadata": {},
     "output_type": "execute_result"
    },
    {
     "data": {
      "image/png": "[encoded data removed]",
      "text/plain": [
       "<Figure size 432x288 with 1 Axes>"
      ]
     },
     "metadata": {
      "needs_background": "light"
     },
     "output_type": "display_data"
    }
   ],
   "source": [
    "## Assign weights to the importance of inland water Vs marine fishing activity\n",
    "inland_fish_weight = 0.5\n",
    "marine_fish_weight = 0.5\n",
    "\n",
    "settles_gdf['fish_mrkt_potential'] = settles_gdf['inland_water_index_n']*inland_fish_weight + settles_gdf['marine_water_index_n']*marine_fish_weight\n",
    "\n",
    "## Normalize\n",
    "settles_gdf['fish_mrkt_potential_n'] = scaler.fit_transform(settles_gdf['fish_mrkt_potential'].values.reshape(-1, 1)).flatten()\n",
    "settles_gdf['fish_mrkt_potential_n'].plot.hist(bins=100, title='Fish Market Potential Index (inland fishing + marine fishing)')\n",
    "\n",
    "settles_gdf['fish_mrkt_potential_n'].describe()"
   ]
  },
  {
   "cell_type": "code",
   "execution_count": null,
   "metadata": {},
   "outputs": [],
   "source": []
  },
  {
   "cell_type": "code",
   "execution_count": null,
   "metadata": {},
   "outputs": [],
   "source": []
  },
  {
   "cell_type": "code",
   "execution_count": null,
   "metadata": {},
   "outputs": [],
   "source": []
  },
  {
   "cell_type": "code",
   "execution_count": null,
   "metadata": {},
   "outputs": [],
   "source": []
  },
  {
   "cell_type": "code",
   "execution_count": null,
   "metadata": {},
   "outputs": [],
   "source": []
  },
  {
   "cell_type": "code",
   "execution_count": 58,
   "metadata": {},
   "outputs": [
    {
     "name": "stdout",
     "output_type": "stream",
     "text": [
      "FID\n",
      "HREA_lightscoremax\n",
      "RWImean\n",
      "SHAPE_Area\n",
      "SHAPE_Leng\n",
      "Shape_Le_1\n",
      "VIIRSmean\n",
      "access_airportsmean\n",
      "access_capitalmean\n",
      "access_citiesmean\n",
      "access_portsmean\n",
      "access_railwaysmean\n",
      "area_m2\n",
      "bld_count\n",
      "buffaloessum\n",
      "cattlesum\n",
      "chickenssum\n",
      "country\n",
      "date\n",
      "dou_level1\n",
      "dou_level2\n",
      "duckssum\n",
      "goatssum\n",
      "horsessum\n",
      "id\n",
      "is_fp\n",
      "iso\n",
      "mgrs\n",
      "pcode\n",
      "pigssum\n",
      "population\n",
      "populationsum\n",
      "prob_fp\n",
      "sheepsum\n",
      "status\n",
      "avg_tempmean\n",
      "geometry\n",
      "CDD\n",
      "water_occursum\n",
      "Water_Occur_Bin\n",
      "Water_Occur_Clas\n",
      "ShorelineDist\n",
      "ShoreWithin10km\n",
      "MV_linesDist\n",
      "TRXDist\n",
      "elec_status\n",
      "ADM2_NAME\n",
      "Food_Sec\n",
      "Crop%\n",
      "Cropland_ha\n",
      "No_crop_ha\n",
      "Vor_area_ha\n",
      "Vor_area_sq.km\n",
      "ricesum\n",
      "maizesum\n",
      "cassavasum\n",
      "sorghumsum\n"
     ]
    }
   ],
   "source": [
    "for i in settles_gdf.columns:\n",
    "    print(i)"
   ]
  },
  {
   "cell_type": "code",
   "execution_count": 80,
   "metadata": {},
   "outputs": [
    {
     "data": {
      "text/plain": [
       "count        66.000000\n",
       "mean     208663.469697\n",
       "std      331346.989069\n",
       "min           0.000000\n",
       "25%           0.000000\n",
       "50%           0.000000\n",
       "75%      392585.250000\n",
       "max      984381.000000\n",
       "Name: water_occursum, dtype: float64"
      ]
     },
     "execution_count": 80,
     "metadata": {},
     "output_type": "execute_result"
    }
   ],
   "source": [
    "settles_gdf.water_occursum.describe()"
   ]
  },
  {
   "cell_type": "code",
   "execution_count": null,
   "metadata": {},
   "outputs": [],
   "source": []
  },
  {
   "cell_type": "code",
   "execution_count": null,
   "metadata": {},
   "outputs": [],
   "source": []
  },
  {
   "cell_type": "code",
   "execution_count": null,
   "metadata": {},
   "outputs": [],
   "source": []
  },
  {
   "cell_type": "code",
   "execution_count": null,
   "metadata": {},
   "outputs": [],
   "source": []
  },
  {
   "cell_type": "markdown",
   "metadata": {},
   "source": [
    "# TBD.."
   ]
  }
 ],
 "metadata": {
  "kernelspec": {
   "display_name": "Python 3",
   "language": "python",
   "name": "python3"
  },
  "language_info": {
   "codemirror_mode": {
    "name": "ipython",
    "version": 3
   },
   "file_extension": ".py",
   "mimetype": "text/x-python",
   "name": "python",
   "nbconvert_exporter": "python",
   "pygments_lexer": "ipython3",
   "version": "3.8.5"
  }
 },
 "nbformat": 4,
 "nbformat_minor": 4
}
