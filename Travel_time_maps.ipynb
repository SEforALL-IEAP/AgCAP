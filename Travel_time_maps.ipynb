{
 "cells": [
  {
   "cell_type": "markdown",
   "metadata": {},
   "source": [
    "# Suitability (travel) maps -- Under Development\n",
    "<br>\n",
    "\n",
    "**Conceptualization, Methodology:** [Davide Mazzoni](https://github.com/orgs/SEforALL-IEAP/people/davidemazzoni2), [Alexandros Korkovelos](https://github.com/akorkovelos) <br> **Code:** [Alexandros Korkovelos](https://github.com/akorkovelos)<br> **Supervision, Review and Advisory support:** xx<br> **Funding:** SeforALL"
   ]
  },
  {
   "cell_type": "code",
   "execution_count": 1,
   "metadata": {},
   "outputs": [],
   "source": [
    "# Import python libraries/modules required \n",
    "import geopandas as gpd\n",
    "import pandas as pd\n",
    "import os"
   ]
  },
  {
   "cell_type": "markdown",
   "metadata": {},
   "source": [
    "### Define main directory"
   ]
  },
  {
   "cell_type": "code",
   "execution_count": 2,
   "metadata": {},
   "outputs": [],
   "source": [
    "ROOT_DIR = os.path.abspath(os.getcwd())\n",
    "in_path = ROOT_DIR + \"\\\\\" + 'GIS_data'\n",
    "out_path = ROOT_DIR + \"\\\\\" + \"Output\""
   ]
  },
  {
   "cell_type": "markdown",
   "metadata": {},
   "source": [
    "## Getting nearest distance"
   ]
  },
  {
   "cell_type": "markdown",
   "metadata": {},
   "source": [
    "#### Preparing airports file"
   ]
  },
  {
   "cell_type": "code",
   "execution_count": 3,
   "metadata": {
    "code_folding": [
     0
    ]
   },
   "outputs": [],
   "source": [
    "# Define path and name of the file\n",
    "airp_path = in_path + \"\\\\\" + 'Key_locations_for_Distance' + \"\\\\\" + 'airports'\n",
    "airp_name = \"hotosm_moz_airports.shp\"\n",
    "## Read settlements as gdf\n",
    "airp_gdf = gpd.read_file(airp_path + \"\\\\\" + airp_name)\n",
    "\n",
    "airp_gdf[\"X_COORD\"] = airp_gdf[\"geometry\"].x \n",
    "airp_gdf[\"Y_COORD\"] = airp_gdf[\"geometry\"].y\n",
    "airp_gdf_in = airp_gdf[[\"X_COORD\", \"Y_COORD\"]]\n",
    "airp_gdf_in.to_csv(os.path.join(airp_path,\"{c}\".format(c='airports.csv')), index=False)"
   ]
  },
  {
   "cell_type": "markdown",
   "metadata": {},
   "source": [
    "#### Preparing ports file"
   ]
  },
  {
   "cell_type": "code",
   "execution_count": 4,
   "metadata": {
    "code_folding": [
     0
    ]
   },
   "outputs": [],
   "source": [
    "# Define path and name of the file\n",
    "seaport_path = in_path + \"\\\\\" + 'Key_locations_for_Distance' + \"\\\\\" + 'ports'\n",
    "seaport_name = \"hotosm_moz_sea_ports.shp\"\n",
    "## Read settlements as gdf\n",
    "seaport_gdf = gpd.read_file(seaport_path + \"\\\\\" + seaport_name)\n",
    "\n",
    "seaport_gdf[\"X_COORD\"] = seaport_gdf[\"geometry\"].x \n",
    "seaport_gdf[\"Y_COORD\"] = seaport_gdf[\"geometry\"].y\n",
    "seaport_gdf_in = seaport_gdf[[\"X_COORD\", \"Y_COORD\"]]\n",
    "seaport_gdf_in.to_csv(os.path.join(seaport_path,\"{c}\".format(c='ports.csv')), index=False)"
   ]
  },
  {
   "cell_type": "markdown",
   "metadata": {},
   "source": [
    "#### Preparing railway stations file"
   ]
  },
  {
   "cell_type": "code",
   "execution_count": 5,
   "metadata": {
    "code_folding": [
     0
    ]
   },
   "outputs": [],
   "source": [
    "# Define path and name of the file\n",
    "railway_path = in_path + \"\\\\\" + 'Key_locations_for_Distance' + \"\\\\\" + 'railways'\n",
    "railway_name = \"Moz_railway_stations.shp\"\n",
    "## Read settlements as gdf\n",
    "railway_gdf = gpd.read_file(railway_path + \"\\\\\" + railway_name)\n",
    "\n",
    "railway_gdf[\"X_COORD\"] = railway_gdf[\"geometry\"].x \n",
    "railway_gdf[\"Y_COORD\"] = railway_gdf[\"geometry\"].y\n",
    "railway_gdf_in = railway_gdf[[\"X_COORD\", \"Y_COORD\"]]\n",
    "railway_gdf_in.to_csv(os.path.join(railway_path,\"{c}\".format(c='railways.csv')), index=False)"
   ]
  },
  {
   "cell_type": "markdown",
   "metadata": {},
   "source": [
    "#### Preparing cities stations file & Capital"
   ]
  },
  {
   "cell_type": "code",
   "execution_count": 6,
   "metadata": {
    "code_folding": [
     0
    ]
   },
   "outputs": [],
   "source": [
    "# Define path and name of the file\n",
    "cities_path = in_path + \"\\\\\" + 'Key_locations_for_Distance' + \"\\\\\" + 'Cities_Towns'\n",
    "cities_name = \"Moz_Cities_Towns.shp\"\n",
    "## Read settlements as gdf\n",
    "cities_gdf = gpd.read_file(cities_path + \"\\\\\" + cities_name)\n",
    "\n",
    "cities_gdf[\"X_COORD\"] = cities_gdf[\"geometry\"].x \n",
    "cities_gdf[\"Y_COORD\"] = cities_gdf[\"geometry\"].y\n",
    "\n",
    "## Keep only cities >200k population\n",
    "cities_gdf_in = cities_gdf[cities_gdf[\"Pop\"] > 200000 ]\n",
    "\n",
    "## Get the capital; here Maputo\n",
    "cities_gdf_in_cap = cities_gdf[cities_gdf[\"name\"] == 'Maputo']\n",
    "\n",
    "## Export in format needed for the suitability map\n",
    "cities_gdf_in = cities_gdf_in[[\"X_COORD\", \"Y_COORD\"]]\n",
    "cities_gdf_in.to_csv(os.path.join(cities_path,\"{c}\".format(c='cities.csv')), index=False)\n",
    "\n",
    "## Export in format needed for the suitability map\n",
    "cities_gdf_in_cap = cities_gdf_in_cap[[\"X_COORD\", \"Y_COORD\"]]\n",
    "cities_gdf_in_cap.to_csv(os.path.join(cities_path,\"{c}\".format(c='capital.csv')), index=False)"
   ]
  }
 ],
 "metadata": {
  "kernelspec": {
   "display_name": "Python 3",
   "language": "python",
   "name": "python3"
  },
  "language_info": {
   "codemirror_mode": {
    "name": "ipython",
    "version": 3
   },
   "file_extension": ".py",
   "mimetype": "text/x-python",
   "name": "python",
   "nbconvert_exporter": "python",
   "pygments_lexer": "ipython3",
   "version": "3.8.5"
  }
 },
 "nbformat": 4,
 "nbformat_minor": 4
}
