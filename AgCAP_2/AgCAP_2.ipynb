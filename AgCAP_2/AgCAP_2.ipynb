{
 "cells": [
  {
   "cell_type": "markdown",
   "metadata": {},
   "source": [
    "# AgCaP code #2\n",
    "<br>\n",
    "\n",
    "**Conceptualization, Methodology, Code:** [Davide Mazzoni](https://github.com/orgs/SEforALL-IEAP/people/davidemazzoni2) <br>  **Supervision, Review and Advisory support:** xx<br> **Funding:** SEforALL"
   ]
  },
  {
   "cell_type": "markdown",
   "metadata": {},
   "source": [
    "--------------------------\n",
    "## Discription of the code\n",
    "This code:\n",
    "- takes as input the enhanced settlement layer with all the relevant data extracted into it\n",
    "- performs the required transformations\n",
    "- calculates the main composite indices required for the analysis\n",
    "- visualizes the results\n",
    "- allows to perform a multi-criteria analysis for customized site selection and ranking processes\n",
    "\n",
    "Note: This version takes enhanced Mozambique settlement layer with extracted attributes prepared manually in QGIS. A future verison will take the output of the main AgCAP code developed by Alexandros Korkovelos, which is meant to replace the manual QGIS data manipulation and extraction."
   ]
  },
  {
   "cell_type": "markdown",
   "metadata": {},
   "source": [
    "## Importing necessary packages"
   ]
  },
  {
   "cell_type": "code",
   "execution_count": 7,
   "metadata": {},
   "outputs": [],
   "source": [
    "import geopandas as gpd\n",
    "import pandas as pd\n",
    "#import leafmap.kepler as leafmap\n",
    "#import geemap\n",
    "import numpy as np\n",
    "from sklearn.preprocessing import MinMaxScaler\n",
    "import plotly.express as px\n",
    "from keplergl import KeplerGl\n",
    "import rasterstats\n",
    "import ipywidgets as widgets\n",
    "import folium\n",
    "import rasterio\n",
    "import os\n",
    "#import panel as pn\n",
    "#from bokeh.models.formatters import PrintfTickFormatter"
   ]
  },
  {
   "cell_type": "code",
   "execution_count": 8,
   "metadata": {},
   "outputs": [],
   "source": [
    "ROOT_DIR = os.path.abspath(os.getcwd())\n",
    "in_path = ROOT_DIR + \"\\\\\" + 'GIS_data'\n",
    "workspace = ROOT_DIR + \"\\\\\" + \"Output\""
   ]
  },
  {
   "cell_type": "markdown",
   "metadata": {},
   "source": [
    "## Read and prepare the settlements\n",
    "Read the enhanced settlements geopackage previously prepared, containing all the settlement polygons in the Country and its extracted attributes"
   ]
  },
  {
   "cell_type": "code",
   "execution_count": 11,
   "metadata": {},
   "outputs": [
    {
     "data": {
      "text/plain": [
       "'C:\\\\Users\\\\alexl\\\\Dropbox\\\\GitHub\\\\AgCAP\\\\AgCAP_2'"
      ]
     },
     "execution_count": 11,
     "metadata": {},
     "output_type": "execute_result"
    }
   ],
   "source": [
    "ROOT_DIR"
   ]
  },
  {
   "cell_type": "code",
   "execution_count": 9,
   "metadata": {},
   "outputs": [
    {
     "ename": "DriverError",
     "evalue": "C:\\Users\\alexl\\Dropbox\\GitHub\\AgCAP\\AgCAP_2\\GIS_data\\Settlements\\pop_clusters_enhanced_v2_Mopeia.gpkg: No such file or directory",
     "output_type": "error",
     "traceback": [
      "\u001b[1;31m---------------------------------------------------------------------------\u001b[0m",
      "\u001b[1;31mCPLE_OpenFailedError\u001b[0m                      Traceback (most recent call last)",
      "\u001b[1;32mfiona/_shim.pyx\u001b[0m in \u001b[0;36mfiona._shim.gdal_open_vector\u001b[1;34m()\u001b[0m\n",
      "\u001b[1;32mfiona/_err.pyx\u001b[0m in \u001b[0;36mfiona._err.exc_wrap_pointer\u001b[1;34m()\u001b[0m\n",
      "\u001b[1;31mCPLE_OpenFailedError\u001b[0m: C:\\Users\\alexl\\Dropbox\\GitHub\\AgCAP\\AgCAP_2\\GIS_data\\Settlements\\pop_clusters_enhanced_v2_Mopeia.gpkg: No such file or directory",
      "\nDuring handling of the above exception, another exception occurred:\n",
      "\u001b[1;31mDriverError\u001b[0m                               Traceback (most recent call last)",
      "\u001b[1;32m<ipython-input-9-7d12b49aaa16>\u001b[0m in \u001b[0;36m<module>\u001b[1;34m\u001b[0m\n\u001b[0;32m      6\u001b[0m \u001b[1;33m\u001b[0m\u001b[0m\n\u001b[0;32m      7\u001b[0m \u001b[1;31m## Read settlements as gdf\u001b[0m\u001b[1;33m\u001b[0m\u001b[1;33m\u001b[0m\u001b[1;33m\u001b[0m\u001b[0m\n\u001b[1;32m----> 8\u001b[1;33m \u001b[0msettl\u001b[0m \u001b[1;33m=\u001b[0m \u001b[0mgpd\u001b[0m\u001b[1;33m.\u001b[0m\u001b[0mread_file\u001b[0m\u001b[1;33m(\u001b[0m\u001b[0msettles_path\u001b[0m \u001b[1;33m+\u001b[0m \u001b[1;34m\"\\\\\"\u001b[0m \u001b[1;33m+\u001b[0m \u001b[0msettles_name\u001b[0m\u001b[1;33m)\u001b[0m\u001b[1;33m\u001b[0m\u001b[1;33m\u001b[0m\u001b[0m\n\u001b[0m\u001b[0;32m      9\u001b[0m \u001b[1;33m\u001b[0m\u001b[0m\n\u001b[0;32m     10\u001b[0m \u001b[1;31m#settl_path=r\"c:/Users/david/OneDrive - Sustainable Energy for All/Cooling_module_analysis/Data/population_clusters_enhanced_v2.gpkg\"\u001b[0m\u001b[1;33m\u001b[0m\u001b[1;33m\u001b[0m\u001b[1;33m\u001b[0m\u001b[0m\n",
      "\u001b[1;32m~\\anaconda3\\envs\\geospatial_env_kepler\\lib\\site-packages\\geopandas\\io\\file.py\u001b[0m in \u001b[0;36m_read_file\u001b[1;34m(filename, bbox, mask, rows, **kwargs)\u001b[0m\n\u001b[0;32m     94\u001b[0m \u001b[1;33m\u001b[0m\u001b[0m\n\u001b[0;32m     95\u001b[0m     \u001b[1;32mwith\u001b[0m \u001b[0mfiona_env\u001b[0m\u001b[1;33m(\u001b[0m\u001b[1;33m)\u001b[0m\u001b[1;33m:\u001b[0m\u001b[1;33m\u001b[0m\u001b[1;33m\u001b[0m\u001b[0m\n\u001b[1;32m---> 96\u001b[1;33m         \u001b[1;32mwith\u001b[0m \u001b[0mreader\u001b[0m\u001b[1;33m(\u001b[0m\u001b[0mpath_or_bytes\u001b[0m\u001b[1;33m,\u001b[0m \u001b[1;33m**\u001b[0m\u001b[0mkwargs\u001b[0m\u001b[1;33m)\u001b[0m \u001b[1;32mas\u001b[0m \u001b[0mfeatures\u001b[0m\u001b[1;33m:\u001b[0m\u001b[1;33m\u001b[0m\u001b[1;33m\u001b[0m\u001b[0m\n\u001b[0m\u001b[0;32m     97\u001b[0m \u001b[1;33m\u001b[0m\u001b[0m\n\u001b[0;32m     98\u001b[0m             \u001b[1;31m# In a future Fiona release the crs attribute of features will\u001b[0m\u001b[1;33m\u001b[0m\u001b[1;33m\u001b[0m\u001b[1;33m\u001b[0m\u001b[0m\n",
      "\u001b[1;32m~\\anaconda3\\envs\\geospatial_env_kepler\\lib\\site-packages\\fiona\\env.py\u001b[0m in \u001b[0;36mwrapper\u001b[1;34m(*args, **kwargs)\u001b[0m\n\u001b[0;32m    396\u001b[0m     \u001b[1;32mdef\u001b[0m \u001b[0mwrapper\u001b[0m\u001b[1;33m(\u001b[0m\u001b[1;33m*\u001b[0m\u001b[0margs\u001b[0m\u001b[1;33m,\u001b[0m \u001b[1;33m**\u001b[0m\u001b[0mkwargs\u001b[0m\u001b[1;33m)\u001b[0m\u001b[1;33m:\u001b[0m\u001b[1;33m\u001b[0m\u001b[1;33m\u001b[0m\u001b[0m\n\u001b[0;32m    397\u001b[0m         \u001b[1;32mif\u001b[0m \u001b[0mlocal\u001b[0m\u001b[1;33m.\u001b[0m\u001b[0m_env\u001b[0m\u001b[1;33m:\u001b[0m\u001b[1;33m\u001b[0m\u001b[1;33m\u001b[0m\u001b[0m\n\u001b[1;32m--> 398\u001b[1;33m             \u001b[1;32mreturn\u001b[0m \u001b[0mf\u001b[0m\u001b[1;33m(\u001b[0m\u001b[1;33m*\u001b[0m\u001b[0margs\u001b[0m\u001b[1;33m,\u001b[0m \u001b[1;33m**\u001b[0m\u001b[0mkwargs\u001b[0m\u001b[1;33m)\u001b[0m\u001b[1;33m\u001b[0m\u001b[1;33m\u001b[0m\u001b[0m\n\u001b[0m\u001b[0;32m    399\u001b[0m         \u001b[1;32melse\u001b[0m\u001b[1;33m:\u001b[0m\u001b[1;33m\u001b[0m\u001b[1;33m\u001b[0m\u001b[0m\n\u001b[0;32m    400\u001b[0m             \u001b[1;32mif\u001b[0m \u001b[0misinstance\u001b[0m\u001b[1;33m(\u001b[0m\u001b[0margs\u001b[0m\u001b[1;33m[\u001b[0m\u001b[1;36m0\u001b[0m\u001b[1;33m]\u001b[0m\u001b[1;33m,\u001b[0m \u001b[0mstr\u001b[0m\u001b[1;33m)\u001b[0m\u001b[1;33m:\u001b[0m\u001b[1;33m\u001b[0m\u001b[1;33m\u001b[0m\u001b[0m\n",
      "\u001b[1;32m~\\anaconda3\\envs\\geospatial_env_kepler\\lib\\site-packages\\fiona\\__init__.py\u001b[0m in \u001b[0;36mopen\u001b[1;34m(fp, mode, driver, schema, crs, encoding, layer, vfs, enabled_drivers, crs_wkt, **kwargs)\u001b[0m\n\u001b[0;32m    251\u001b[0m \u001b[1;33m\u001b[0m\u001b[0m\n\u001b[0;32m    252\u001b[0m         \u001b[1;32mif\u001b[0m \u001b[0mmode\u001b[0m \u001b[1;32min\u001b[0m \u001b[1;33m(\u001b[0m\u001b[1;34m'a'\u001b[0m\u001b[1;33m,\u001b[0m \u001b[1;34m'r'\u001b[0m\u001b[1;33m)\u001b[0m\u001b[1;33m:\u001b[0m\u001b[1;33m\u001b[0m\u001b[1;33m\u001b[0m\u001b[0m\n\u001b[1;32m--> 253\u001b[1;33m             c = Collection(path, mode, driver=driver, encoding=encoding,\n\u001b[0m\u001b[0;32m    254\u001b[0m                            layer=layer, enabled_drivers=enabled_drivers, **kwargs)\n\u001b[0;32m    255\u001b[0m         \u001b[1;32melif\u001b[0m \u001b[0mmode\u001b[0m \u001b[1;33m==\u001b[0m \u001b[1;34m'w'\u001b[0m\u001b[1;33m:\u001b[0m\u001b[1;33m\u001b[0m\u001b[1;33m\u001b[0m\u001b[0m\n",
      "\u001b[1;32m~\\anaconda3\\envs\\geospatial_env_kepler\\lib\\site-packages\\fiona\\collection.py\u001b[0m in \u001b[0;36m__init__\u001b[1;34m(self, path, mode, driver, schema, crs, encoding, layer, vsi, archive, enabled_drivers, crs_wkt, ignore_fields, ignore_geometry, **kwargs)\u001b[0m\n\u001b[0;32m    152\u001b[0m             \u001b[1;32mif\u001b[0m \u001b[0mself\u001b[0m\u001b[1;33m.\u001b[0m\u001b[0mmode\u001b[0m \u001b[1;33m==\u001b[0m \u001b[1;34m'r'\u001b[0m\u001b[1;33m:\u001b[0m\u001b[1;33m\u001b[0m\u001b[1;33m\u001b[0m\u001b[0m\n\u001b[0;32m    153\u001b[0m                 \u001b[0mself\u001b[0m\u001b[1;33m.\u001b[0m\u001b[0msession\u001b[0m \u001b[1;33m=\u001b[0m \u001b[0mSession\u001b[0m\u001b[1;33m(\u001b[0m\u001b[1;33m)\u001b[0m\u001b[1;33m\u001b[0m\u001b[1;33m\u001b[0m\u001b[0m\n\u001b[1;32m--> 154\u001b[1;33m                 \u001b[0mself\u001b[0m\u001b[1;33m.\u001b[0m\u001b[0msession\u001b[0m\u001b[1;33m.\u001b[0m\u001b[0mstart\u001b[0m\u001b[1;33m(\u001b[0m\u001b[0mself\u001b[0m\u001b[1;33m,\u001b[0m \u001b[1;33m**\u001b[0m\u001b[0mkwargs\u001b[0m\u001b[1;33m)\u001b[0m\u001b[1;33m\u001b[0m\u001b[1;33m\u001b[0m\u001b[0m\n\u001b[0m\u001b[0;32m    155\u001b[0m             \u001b[1;32melif\u001b[0m \u001b[0mself\u001b[0m\u001b[1;33m.\u001b[0m\u001b[0mmode\u001b[0m \u001b[1;32min\u001b[0m \u001b[1;33m(\u001b[0m\u001b[1;34m'a'\u001b[0m\u001b[1;33m,\u001b[0m \u001b[1;34m'w'\u001b[0m\u001b[1;33m)\u001b[0m\u001b[1;33m:\u001b[0m\u001b[1;33m\u001b[0m\u001b[1;33m\u001b[0m\u001b[0m\n\u001b[0;32m    156\u001b[0m                 \u001b[0mself\u001b[0m\u001b[1;33m.\u001b[0m\u001b[0msession\u001b[0m \u001b[1;33m=\u001b[0m \u001b[0mWritingSession\u001b[0m\u001b[1;33m(\u001b[0m\u001b[1;33m)\u001b[0m\u001b[1;33m\u001b[0m\u001b[1;33m\u001b[0m\u001b[0m\n",
      "\u001b[1;32mfiona/ogrext.pyx\u001b[0m in \u001b[0;36mfiona.ogrext.Session.start\u001b[1;34m()\u001b[0m\n",
      "\u001b[1;32mfiona/_shim.pyx\u001b[0m in \u001b[0;36mfiona._shim.gdal_open_vector\u001b[1;34m()\u001b[0m\n",
      "\u001b[1;31mDriverError\u001b[0m: C:\\Users\\alexl\\Dropbox\\GitHub\\AgCAP\\AgCAP_2\\GIS_data\\Settlements\\pop_clusters_enhanced_v2_Mopeia.gpkg: No such file or directory"
     ]
    }
   ],
   "source": [
    "#Read the layer already prepared by extracting all the relevant data into the clusters\n",
    "# Define path and name of the file\n",
    "settles_path = in_path + \"\\\\\" + \"Settlements\"\n",
    "#settles_name = \"Mozambique_Settlement_Extents_Version_02.geojson\"\n",
    "settles_name = \"pop_clusters_enhanced_v2_Mopeia.gpkg\"\n",
    "\n",
    "## Read settlements as gdf\n",
    "settl = gpd.read_file(settles_path + \"\\\\\" + settles_name)\n",
    "\n",
    "#settl_path=r\"c:/Users/david/OneDrive - Sustainable Energy for All/Cooling_module_analysis/Data/population_clusters_enhanced_v2.gpkg\"\n",
    "#settl=gpd.read_file(settl_path)"
   ]
  },
  {
   "cell_type": "code",
   "execution_count": null,
   "metadata": {},
   "outputs": [],
   "source": [
    "#Transform polygons into centroids to speed up the computational time. The final results can then be joined back to the polygon layer\n",
    "#settl.drop(columns=['_max','_air_2majority','_air_2mean'],inplace=True)\n",
    "settl_point=settl.copy()\n",
    "settl_point[\"geometry\"]=settl_point[\"geometry\"].centroid\n",
    "settl_point"
   ]
  },
  {
   "cell_type": "code",
   "execution_count": null,
   "metadata": {},
   "outputs": [],
   "source": [
    "settl_point.describe()"
   ]
  },
  {
   "cell_type": "code",
   "execution_count": null,
   "metadata": {},
   "outputs": [],
   "source": [
    "settl_point.columns"
   ]
  },
  {
   "cell_type": "code",
   "execution_count": null,
   "metadata": {},
   "outputs": [],
   "source": [
    "#Drop unnecessary columns\n",
    "settl_point.drop(columns=['SHAPE_Le_1', 'SHAPE_Area','croplnd_area_m2','croplnd_area_perc','travel_ports_FAO', 'travel_cities_20k_FAO','_air_2mean', '_air_2majority', '_max'],inplace=True)"
   ]
  },
  {
   "cell_type": "code",
   "execution_count": null,
   "metadata": {},
   "outputs": [],
   "source": [
    "# Define the column names and descriptions\n",
    "data_dict = {\n",
    "    'Column Name': ['country', 'iso', 'bld_count', 'dou_level1', 'dou_level2', 'pcode',\n",
    "                    'area_m2', 'influence_area_m2', 'relative_wealth',\n",
    "                    'livelihood_zone',\n",
    "                    'food_insecur_class', 'nightlights_mean', 'nightlights_min',\n",
    "                    'nightlights_max', 'electrif_status_nightlights', 'pop',\n",
    "                    'fishing_activity_sea', 'inland_water_area_3km_ha',\n",
    "                    'fishing_activity_inland', 'cooling_deg_days_4Cdeg',\n",
    "                    'croplnd_area_GLADM19_ha', 'croplnd_area_GLADM19_perc',\n",
    "                    'croplnd_3km_buff_ha_count', 'croplnd_3km_buff_ha_sum',\n",
    "                    'croplnd_3km_buff_perc', 'households',\n",
    "                    'food_insec_p3_plus_C_population_percentage',\n",
    "                    'food_insec_p3_plus_C_population', 'mrkt_accs_cities_20kmean',\n",
    "                    'mrkt_accs_ports_mean', 'dist_coast_km', 'pop_20km_buffer',\n",
    "                    'travel_maj_city_200k', 'travel_to_airports', 'travel_to_railw',\n",
    "                    'travel_to_capital',\n",
    "                    'geometry'],\n",
    "    'Description': ['Country name', 'ISO code of the country', 'Building count', 'Urbanicity level 1',\n",
    "                    'Urbanicity level 2', 'Postal code', 'Settlement area in square meters',\n",
    "                    'Voronoi polygon influence area in square meters',\n",
    "                    'Relative wealth index', 'Livelihood zone',\n",
    "                    'Food insecurity class', 'Mean nightlights value', 'Minimum nightlights value', 'Maximum nightlights value',\n",
    "                    'Electrification status based on nightlights', 'Population', 'Marine fishing activity', 'Inland water area within 3km buffer, in hectares',\n",
    "                    'Inland fishing activity', 'Cooling degree days at reference temperature of 4°C', 'Cropland area in hectares (GLADM 2019) within the voronoi influence area',\n",
    "                    'Percentage of cropland area (GLADM 2019) within the voronoi influence area', 'Area of the polygon with a 3km buffer around the settlement', 'Sum of cropland within the 3km-buffered polygon',\n",
    "                    'Percentage of cropland area within the 3km-buffered polygon', 'Number of households', 'Percentage of population with food insecurity (P3+ class)',\n",
    "                    'Population with food insecurity (P3+ class)', 'Market access to closest city with population over 20,000 (FAO data)', 'Travel time to closest port (FAO data)',\n",
    "                    'Distance to nearest coastline in kilometers', 'Population within 20km buffer', 'Travel time to closest major city with population over 200,000',\n",
    "                    'Travel time to closest airport', 'Travel time to closest railway station', 'Travel time to capital city', 'Geometric shape of the area']\n",
    "}\n",
    "\n",
    "# Create a DataFrame from the data dictionary\n",
    "data_dict = pd.DataFrame(data_dict)\n",
    "\n",
    "# Print the DataFrame\n",
    "data_dict"
   ]
  },
  {
   "cell_type": "markdown",
   "metadata": {},
   "source": [
    "## Visualize the settlements\n",
    "Inspect the settlement points on an interactive map"
   ]
  },
  {
   "cell_type": "code",
   "execution_count": null,
   "metadata": {},
   "outputs": [],
   "source": [
    "\n",
    "settl_point.explore(\n",
    "    marker_kwds=dict(radius=2, fill=True),\n",
    "    style_kwds=dict(weight=0.5,opacity=0.2,fillOpacity=0.3),\n",
    "    tooltip='pop',\n",
    "    popup=True,  # show all values in popup (on click)\n",
    "    tiles=\"CartoDB Positron\",  # use \"CartoDB positron\" tiles\n",
    "    tooltip_kwds={\n",
    "        'style': 'font-size: 8px;'\n",
    "    },\n",
    "    popup_kwds={\n",
    "        'style': 'font-size: 10px;'\n",
    "    },\n",
    "    height=1000\n",
    ")"
   ]
  },
  {
   "cell_type": "markdown",
   "metadata": {},
   "source": [
    "## Compute the farming activity index\n",
    "1. Compute the farming activity, which is a proxy for farming activity based on:\n",
    "- Farming volume: Cropland area within each settlement's influence area (Voronoi polygon)\n",
    "- Farming density: Percentage of each settlement's influence area (Voronoi polygon) occupied by crops\n",
    "\n",
    "2. Normalize the index using min-max scaling"
   ]
  },
  {
   "cell_type": "code",
   "execution_count": null,
   "metadata": {},
   "outputs": [],
   "source": [
    "#Calculating farming activity index based on surrounding cropland area and cropland area percentage\n",
    "w_croplnd_area_ha=0.5\n",
    "w_croplnd_area_perc=0.5\n",
    "settl_point['farming_activity']= (\n",
    "    (settl_point['croplnd_area_GLADM19_ha'] - settl_point['croplnd_area_GLADM19_ha'].min())/(settl_point['croplnd_area_GLADM19_ha'].max() - settl_point['croplnd_area_GLADM19_ha'].min())*w_croplnd_area_ha\n",
    "    + (settl_point['croplnd_area_GLADM19_perc'] - settl_point['croplnd_area_GLADM19_perc'].min())/(settl_point['croplnd_area_GLADM19_perc'].max() - settl_point['croplnd_area_GLADM19_perc'].min())*w_croplnd_area_perc\n",
    ")\n",
    "#normalize\n",
    "scaler = MinMaxScaler()\n",
    "settl_point['farming_activity_n']= scaler.fit_transform(settl_point[['farming_activity']])\n",
    "settl_point['farming_activity_n'].plot.hist(bins=100, title='Farming Activity Index')"
   ]
  },
  {
   "cell_type": "markdown",
   "metadata": {},
   "source": [
    "3. Reduce skewness to obtain a more uniform distribution"
   ]
  },
  {
   "cell_type": "code",
   "execution_count": null,
   "metadata": {},
   "outputs": [],
   "source": [
    "\n",
    "#reduce skeweness\n",
    "settl_point['farming_activity_n']=np.power((settl_point['farming_activity_n']),1/4)\n",
    "\n",
    "settl_point['farming_activity_n'].plot.hist(bins=100, title='Farming Activity Index')\n",
    "# Create a 3D scatter plot\n",
    "# fig = px.scatter_3d(settl_point, x='croplnd_area_GLADM19_perc', y='croplnd_area_GLADM19_ha', z='farming_activity_n')\n",
    "# fig.show()\n",
    "# settl_point.plot.scatter(y='farming_activity_n', x='croplnd_area_GLADM19_perc')\n",
    "\n",
    "#((settl_point['croplnd_area_GLADM19_ha'] - settl_point['croplnd_area_GLADM19_ha'].min())/(settl_point['croplnd_area_GLADM19_ha'].max() - settl_point['croplnd_area_GLADM19_ha'].min())).plot.hist(bins=100)\n",
    "settl_point['farming_activity_n'].describe()"
   ]
  },
  {
   "cell_type": "markdown",
   "metadata": {},
   "source": [
    "4. Visualize the farming activity index"
   ]
  },
  {
   "cell_type": "code",
   "execution_count": null,
   "metadata": {},
   "outputs": [],
   "source": [
    "#top_farming_act=settl_point.sort_values(by='farming_activity',ascending=False)#.head(100)\n",
    "top_farming_act=settl_point.loc[settl_point['farming_activity_n'] > 0.75]\n",
    "m=top_farming_act.explore(\n",
    "    column=\"farming_activity_n\",\n",
    "    marker_kwds=dict(radius=2, fill=True),  # make marker radius 10px with fill\n",
    "    style_kwds=dict(weight=0.5,opacity=0.2,fillOpacity=0.3),  # make line thickness 1px\n",
    "    tooltip=\"farming_activity_n\",\n",
    "    popup=True,  # show all values in popup (on click)\n",
    "    tiles=\"CartoDB Positron\",  # use \"CartoDB positron\" tiles\n",
    "    cmap=\"viridis\",  # use \"Set1\" matplotlib colormap\n",
    "    labels=[\"Farming activity index\"],\n",
    "    legend_kwds=dict(caption='Farming activity index'),\n",
    "    location=[-15.92071047059695, 35.992526466359394],\n",
    "    zoom_start=7,\n",
    "    #style_kwds=dict(color=\"black\"),  # use black outline\n",
    "        tooltip_kwds={\n",
    "        'style': 'font-size: 8px;'\n",
    "    },\n",
    "    popup_kwds={\n",
    "        'style': 'font-size: 10px;'\n",
    "    },\n",
    "    height=1000\n",
    ")\n",
    "m"
   ]
  },
  {
   "cell_type": "markdown",
   "metadata": {},
   "source": [
    "## Compute the market accessibility index\n",
    "Compute the market accessibility, which is a proxy for the possibility to trade or export agricultural products based on a weighted average of:\n",
    "- travel time to the capital city (potential for export and national distribution)\n",
    "- travel time to railway stations (potential for export and national distribution)\n",
    "- travel time to airports (potential for export and national distribution)\n",
    "- travel time to major cities (potential for sales in fresh markets and national distribution)\n",
    "- population within 20 km radius (potential for sales in fresh markets)\n",
    "- farming density: Percentage of each settlement's influence area (Voronoi polygon) occupied by crops\n",
    "- travel time to ports (not yet implemented)"
   ]
  },
  {
   "cell_type": "markdown",
   "metadata": {},
   "source": [
    "1. Normalize the accessibility parameters using min-max scaling"
   ]
  },
  {
   "cell_type": "code",
   "execution_count": null,
   "metadata": {},
   "outputs": [],
   "source": [
    "#Normalization of accessibility parameters\n",
    "\"\"\" scaler = MinMaxScaler()\n",
    "settl_point['travel_to_capital_n'] = scaler.fit_transform(settl_point[['travel_to_capital']])\n",
    "settl_point['travel_to_railw_n'] = scaler.fit_transform(settl_point[['travel_to_railw']])\n",
    "settl_point['travel_to_airports_n'] = scaler.fit_transform(settl_point[['travel_to_airports']])\n",
    "settl_point['travel_maj_city_200k_n'] = scaler.fit_transform(settl_point[['travel_maj_city_200k']])\n",
    "settl_point['pop_20km_buffer_n'] = scaler.fit_transform(settl_point[['pop_20km_buffer']])\n",
    "settl_point \"\"\"\n",
    "\n",
    "\n",
    "settl_point['travel_to_capital_n'] = (settl_point['travel_to_capital'].max()-settl_point['travel_to_capital'])/(settl_point['travel_to_capital'].max()-settl_point['travel_to_capital'].min())\n",
    "settl_point['travel_to_railw_n'] = (settl_point['travel_to_railw'].max()-settl_point['travel_to_railw'])/(settl_point['travel_to_railw'].max()-settl_point['travel_to_railw'].min())\n",
    "settl_point['travel_to_airports_n'] = (settl_point['travel_to_airports'].max()-settl_point['travel_to_airports'])/(settl_point['travel_to_airports'].max()-settl_point['travel_to_airports'].min())\n",
    "settl_point['travel_maj_city_200k_n'] = (settl_point['travel_maj_city_200k'].max()-settl_point['travel_maj_city_200k'])/(settl_point['travel_maj_city_200k'].max()-settl_point['travel_maj_city_200k'].min())\n",
    "settl_point['pop_20km_buffer_n'] = (settl_point['pop_20km_buffer']-settl_point['pop_20km_buffer'].min())/(settl_point['pop_20km_buffer'].max()-settl_point['pop_20km_buffer'].min())\n",
    "pd.set_option('display.max_columns', None)\n",
    "settl_point"
   ]
  },
  {
   "cell_type": "markdown",
   "metadata": {},
   "source": [
    "2. Assign weights, normalize weights, calculate weighted average, normalize the index"
   ]
  },
  {
   "cell_type": "code",
   "execution_count": null,
   "metadata": {},
   "outputs": [],
   "source": [
    "#Setting weights from 0 to 100\n",
    "w_travel_to_capital=5\n",
    "w_travel_to_railw=20\n",
    "w_travel_to_air=50\n",
    "w_travel_to_maj_city=100\n",
    "w_pop20km=100\n",
    "\n",
    "#Normalizing weights\n",
    "weights=np.array([w_travel_to_capital, w_travel_to_railw, w_travel_to_air, w_travel_to_maj_city, w_pop20km])\n",
    "total_weights = np.sum(weights)\n",
    "w_travel_to_capital=w_travel_to_capital/total_weights\n",
    "w_travel_to_railw=w_travel_to_railw/total_weights\n",
    "w_travel_to_air=w_travel_to_air/total_weights\n",
    "w_travel_to_maj_city=w_travel_to_maj_city/total_weights\n",
    "w_pop20km=w_pop20km/total_weights\n",
    "\n",
    "#Calculating accessibility indicator for farming activity, i.e. proxy for the ability to sell agricultural outputs\n",
    "access_farm_index=(\n",
    "    w_travel_to_capital*settl_point['travel_to_capital_n']+\n",
    "    w_travel_to_railw*settl_point['travel_to_railw_n']+\n",
    "    w_travel_to_air*settl_point['travel_to_airports_n']+\n",
    "    w_travel_to_maj_city*settl_point['travel_maj_city_200k_n']+\n",
    "    w_pop20km*settl_point['pop_20km_buffer_n']\n",
    ")\n",
    "settl_point['access_farm_index']=access_farm_index\n",
    "#normalize access_farm_index\n",
    "access_farm_index_n= (settl_point['access_farm_index'] - settl_point['access_farm_index'].min()) / (settl_point['access_farm_index'].max() - settl_point['access_farm_index'].min())\n",
    "\n",
    "\"\"\" scaler = MinMaxScaler()\n",
    "access_farm_index_n = scaler.fit_transform(settl_point['access_farm_index'].values.reshape(-1, 1)).flatten()\n",
    " \"\"\"\n",
    "settl_point['access_farm_index_n'] = access_farm_index_n\n",
    "settl_point['access_farm_index_n'].plot.hist(bins=100, title='Market Accessibility Index')\n",
    "#reduce skewness\n",
    "#settl_point['access_farm_index_n']=np.power((settl_point['access_farm_index_n']),1)\n",
    "\n",
    "#settl_point.head(100)"
   ]
  },
  {
   "cell_type": "markdown",
   "metadata": {},
   "source": [
    "There is no need to reduce the sckewness or to further modify the distribution"
   ]
  },
  {
   "cell_type": "markdown",
   "metadata": {},
   "source": [
    "Visualize the index"
   ]
  },
  {
   "cell_type": "code",
   "execution_count": null,
   "metadata": {},
   "outputs": [],
   "source": [
    "settl_point['access_farm_index_n'].describe()"
   ]
  },
  {
   "cell_type": "code",
   "execution_count": null,
   "metadata": {},
   "outputs": [],
   "source": [
    "top_access=settl_point.loc[settl_point['access_farm_index_n'] > 0.523573]\n",
    "top_access.explore(\n",
    "    column=\"access_farm_index_n\",\n",
    "    marker_kwds=dict(radius=1, fill=True),  # make marker radius 10px with fill\n",
    "    style_kwds=dict(weight=0.5,opacity=0.2,fillOpacity=0.3),  # make line thickness 1px\n",
    "    tooltip=\"access_farm_index_n\",\n",
    "    popup=True,  # show all values in popup (on click)\n",
    "    tiles=\"CartoDB Positron\",  # use \"CartoDB positron\" tiles\n",
    "    cmap=\"viridis\",  # use \"Set1\" matplotlib colormap\n",
    "    labels=[\"Market Accessibility Index\"],\n",
    "    legend_kwds=dict(caption='Market Accessibility Index'),\n",
    "       location=[-15.92071047059695, 35.992526466359394],\n",
    "    zoom_start=7,\n",
    "    #style_kwds=dict(color=\"black\"),  # use black outline\n",
    "            tooltip_kwds={\n",
    "        'style': 'font-size: 8px;'\n",
    "    },\n",
    "    popup_kwds={\n",
    "        'style': 'font-size: 10px;'\n",
    "    },\n",
    "    height=1000\n",
    "                   )"
   ]
  },
  {
   "cell_type": "markdown",
   "metadata": {},
   "source": [
    "## Compute the market potential index\n",
    "Compute the market potential, which is a proxy for the settlement's ability to both produce and trade agricultural products, based on a weighted average of:\n",
    "- farming activity\n",
    "- market accessibility"
   ]
  },
  {
   "cell_type": "code",
   "execution_count": null,
   "metadata": {},
   "outputs": [],
   "source": [
    "settl_point['mrkt_potential']=settl_point['access_farm_index_n']*0.6+settl_point['farming_activity_n']*0.4\n",
    "#normalize\n",
    "settl_point['mrkt_potential_n'] = scaler.fit_transform(settl_point['mrkt_potential'].values.reshape(-1, 1)).flatten()\n",
    "settl_point['mrkt_potential_n'].plot.hist(bins=100, title='Market Potential Index (farming activity + market accessibility)')\n",
    "settl_point.plot.scatter(y='mrkt_potential_n', x='farming_activity_n')\n",
    "settl_point.plot.scatter(y='mrkt_potential_n', x='access_farm_index_n')"
   ]
  },
  {
   "cell_type": "code",
   "execution_count": null,
   "metadata": {},
   "outputs": [],
   "source": [
    "settl_point['mrkt_potential_n'].describe()"
   ]
  },
  {
   "cell_type": "markdown",
   "metadata": {},
   "source": [
    "Visualize the Market Potential Index"
   ]
  },
  {
   "cell_type": "code",
   "execution_count": null,
   "metadata": {},
   "outputs": [],
   "source": [
    "#top_farming_mrkt_pot=settl_point.sort_values(by='mrkt_potential_n',ascending=False).head(1000)\n",
    "settl_point['mrkt_potential_n'].describe()\n",
    "\n",
    "top_farming_mrkt_pot=settl_point.loc[settl_point['mrkt_potential_n'] > .550311]\n",
    "m=top_farming_mrkt_pot.explore(\n",
    "    column='mrkt_potential_n',\n",
    "    marker_kwds=dict(radius=2, fill=True),  # make marker radius 10px with fill\n",
    "    style_kwds=dict(weight=0.5,opacity=0.2,fillOpacity=0.3),  # make line thickness 1px\n",
    "    tooltip='mrkt_potential_n',\n",
    "    popup=True,  # show all values in popup (on click)\n",
    "    tiles=\"CartoDB Positron\",  # use \"CartoDB positron\" tiles\n",
    "    cmap=\"viridis\",  # use \"Set1\" matplotlib colormap\n",
    "    labels=[\"Farming market potential\"],\n",
    "    legend_kwds=dict(caption='Farming market potential (farming activity + access to markets)'),\n",
    "    location=[-15.92071047059695, 35.992526466359394],\n",
    "    zoom_start=7,\n",
    "    #style_kwds=dict(color=\"black\"),  # use black outline\n",
    "                tooltip_kwds={\n",
    "        'style': 'font-size: 8px;'\n",
    "    },\n",
    "    popup_kwds={\n",
    "        'style': 'font-size: 10px;'\n",
    "    },\n",
    "    height=1000\n",
    ")\n",
    "m\n",
    "#top_farming_mrkt_pot.explore(tooltip=['mrkt_potential_n','access_farm_index_n','farming_activity_n'])"
   ]
  },
  {
   "cell_type": "markdown",
   "metadata": {},
   "source": [
    "## Pending modules\n",
    "- Crop-specific analysis, including insights on high-value crops or specific value chains\n",
    "- Fish market potential\n",
    "- Livestock market potential\n",
    "- Climate risk indicators, for site selection based on climate adaptation needs\n",
    "- More robust socio-economic indicator (currently based on Relative Wealth Index)\n",
    "- More refined electrification status indicator, based on distance from MV lines and night ligthts (currently only based on night lights)"
   ]
  },
  {
   "cell_type": "markdown",
   "metadata": {},
   "source": [
    "## Create multi-criteria selection tool (Beta)"
   ]
  },
  {
   "cell_type": "code",
   "execution_count": null,
   "metadata": {},
   "outputs": [],
   "source": [
    "w=widgets.FloatRangeSlider(\n",
    "    value=[0, 6],\n",
    "    min=0, #settl_point['travel_to_airports'].min(),\n",
    "    max=9, #settl_point['travel_to_airports'].max(),\n",
    "    step=0.1,\n",
    "    description='travel_to_airports',\n",
    "    disabled=False,\n",
    "    continuous_update=False,\n",
    "    orientation='horizontal',\n",
    "    readout=True,\n",
    "    readout_format='.1f',\n",
    ")"
   ]
  },
  {
   "cell_type": "code",
   "execution_count": null,
   "metadata": {},
   "outputs": [],
   "source": [
    "w.value"
   ]
  },
  {
   "cell_type": "code",
   "execution_count": null,
   "metadata": {},
   "outputs": [],
   "source": [
    "pn.extension()\n",
    "slider_pop = pn.widgets.EditableRangeSlider(\n",
    "    name='Population', start=0, end=2000000, value=(5000,80000),\n",
    "    step=50)\n",
    "\n",
    "slider_farm_act = pn.widgets.EditableRangeSlider(\n",
    "    name='Farming activity index', start=0, end=1, value=(0.6,1),\n",
    "    step=50)\n",
    "\n",
    "slider_fish_act_marine = pn.widgets.EditableRangeSlider(\n",
    "    name='Marine fishing activity index', start=0, end=1, value=(0.6,1),\n",
    "    step=0.01)\n",
    "\n",
    "slider_fish_act_inland = pn.widgets.EditableRangeSlider(\n",
    "    name='Inland fishing activity index', start=0, end=1, value=(0.6,1),\n",
    "    step=0.01)\n",
    "\n",
    "checkbox_group_electr_mk = pn.pane.Markdown('Electrification status')\n",
    "checkbox_group_electr = pn.widgets.CheckBoxGroup(\n",
    "    name='Electrification', value=['Not electrified'], options=['Electrified', 'Likely electrified', 'Not electrified'],\n",
    "    inline=True)\n",
    "\n",
    "slider_dist_grid= pn.widgets.EditableRangeSlider(\n",
    "    name='Distance from the grid MV lines (km)', start=0, end=1000, value=(0,1.5),\n",
    "    step=0.1)\n",
    "\n",
    "slider_pop_nearby= pn.widgets.EditableRangeSlider(\n",
    "    name='Local market: population within 20 km radius', start=0, end=2700000, value=(0,2700000),\n",
    "    step=50)\n",
    "\n",
    "slider_tt_airport= pn.widgets.EditableRangeSlider(\n",
    "    name='Travel time to airports (hr)', start=0, end=20, value=(0,5),\n",
    "    step=0.1)\n",
    "\n",
    "slider_tt_maj_city= pn.widgets.EditableRangeSlider(\n",
    "    name='Travel time to major cities (hr)', start=0, end=20, value=(0,2),\n",
    "    step=0.1)\n",
    "\n",
    "slider_tt_railw= pn.widgets.EditableRangeSlider(\n",
    "    name='Travel time to railway stations (hr)', start=0, end=20, value=(0,1),\n",
    "    step=0.1)\n",
    "\n",
    "slider_tt_port= pn.widgets.EditableRangeSlider(\n",
    "    name='Travel time to ports (hr)', start=0, end=20, value=(0,2),\n",
    "    step=0.1)\n",
    "\n",
    "slider_tt_capital= pn.widgets.EditableRangeSlider(\n",
    "    name='Travel time to Maputo (hr)', start=0, end=20, value=(0,6),\n",
    "    step=0.1)\n",
    "\n",
    "slider_poverty= pn.widgets.EditableRangeSlider(\n",
    "    name='Poverty rate', start=0, end=1, value=(0.3,1),\n",
    "    step=0.01)\n",
    "\n",
    "slider_temp= pn.widgets.EditableRangeSlider(\n",
    "    name='Average temperature', start=10, end=40, value=(22,35),\n",
    "    step=0.1)\n",
    "\n",
    "slider_CDD=pn.widgets.EditableRangeSlider(\n",
    "    name='Cooling degree days @ 4C', start=4108, end=8413, value=(7000,8413),\n",
    "    step=0.1)\n",
    "\n",
    "slider_risk= pn.widgets.MultiChoice(\n",
    "    name='Climate risk', value=['Low', 'Medium', 'High'] ,options=['Low', 'Medium', 'High'])\n",
    "\n",
    "slider_solar= pn.widgets.MultiChoice(\n",
    "    name='Solar irradiation (for solar-powered cold rooms)', value=['Low', 'Medium', 'High'] ,options=['Low', 'Medium', 'High'])\n",
    "\n",
    "checkbox_group_produce = pn.widgets.MultiChoice(\n",
    "    name='Producer of:',value=['banana',\n",
    "'cassava',\n",
    "'cowpea',\n",
    "'other roots',\n",
    "'plantain',\n",
    "'potato',\n",
    "'sweet potato',\n",
    "'temperate fruit',\n",
    "'tropical fruit',\n",
    "'vegetables',\n",
    "'yams',\n",
    "'meat',\n",
    "'fish',\n",
    "],\n",
    "    options=['banana',\n",
    "'cassava',\n",
    "'cowpea',\n",
    "'other roots',\n",
    "'plantain',\n",
    "'potato',\n",
    "'sweet potato',\n",
    "'temperate fruit',\n",
    "'tropical fruit',\n",
    "'vegetables',\n",
    "'yams',\n",
    "'meat',\n",
    "'fish',\n",
    "],\n",
    "   )\n",
    "\n",
    "pn.config.sizing_mode='scale_both'\n",
    "\"\"\" pane_inputs=pn.Column(\n",
    "            slider_pop, \n",
    "          slider_farm_act,\n",
    "          slider_fish_act_marine,\n",
    "          slider_fish_act_inland,\n",
    "          checkbox_group_electr_mk,\n",
    "          checkbox_group_electr,\n",
    "          checkbox_group_produce,\n",
    "          slider_pop_nearby,\n",
    "          slider_tt_airport,\n",
    "          slider_tt_maj_city,\n",
    "          slider_tt_railw,\n",
    "          slider_tt_port,\n",
    "          slider_tt_capital,\n",
    "          slider_poverty,\n",
    "          slider_risk,\n",
    "          slider_solar\n",
    "          ) \"\"\"\n",
    "          \n",
    "pane_inputs=pn.Row(\n",
    "    pn.layout.Divider(margin=0),\n",
    "    pn.Column(\n",
    "            '## Demographics ans socio-economic',\n",
    "            slider_pop, \n",
    "            slider_poverty,\n",
    "            \"## Composite indicators\",\n",
    "          slider_farm_act,\n",
    "          slider_fish_act_marine,\n",
    "          slider_fish_act_inland,\n",
    "          \".../n\",\n",
    "          \"## Electrification\",\n",
    "          checkbox_group_electr_mk,\n",
    "          checkbox_group_electr,\n",
    "          slider_dist_grid,\n",
    "          \"## Productivity\",\n",
    "          \"... production (tons) per produce\",\n",
    "          checkbox_group_produce),\n",
    "\n",
    "    pn.layout.Divider(margin=(30,0,0,0)),\n",
    "     pn.Column(\n",
    "          \"## Access to markets\",\n",
    "          slider_pop_nearby,\n",
    "          slider_tt_airport,\n",
    "          slider_tt_maj_city,\n",
    "          slider_tt_railw,\n",
    "          slider_tt_port,\n",
    "          slider_tt_capital,\n",
    "          \"## Risks\",\n",
    "          slider_risk,\n",
    "          \"## Resources\",\n",
    "          slider_solar,\n",
    "          \"## Temperature / cooling needs\",\n",
    "          slider_temp,\n",
    "          slider_CDD\n",
    "          )\n",
    "    )\n",
    "pane_inputs"
   ]
  },
  {
   "cell_type": "markdown",
   "metadata": {},
   "source": [
    "Save pane in HTML (optional)"
   ]
  },
  {
   "cell_type": "code",
   "execution_count": null,
   "metadata": {},
   "outputs": [],
   "source": [
    "#pn.panel(pane_inputs).save('pane_3.html')"
   ]
  },
  {
   "cell_type": "markdown",
   "metadata": {},
   "source": [
    "Export geopackage (optional)"
   ]
  },
  {
   "cell_type": "code",
   "execution_count": null,
   "metadata": {},
   "outputs": [],
   "source": [
    "#settl_point.to_file('settl_point_farm_ind.gpkg', driver='GPKG')"
   ]
  }
 ],
 "metadata": {
  "kernelspec": {
   "display_name": "Python 3",
   "language": "python",
   "name": "python3"
  },
  "language_info": {
   "codemirror_mode": {
    "name": "ipython",
    "version": 3
   },
   "file_extension": ".py",
   "mimetype": "text/x-python",
   "name": "python",
   "nbconvert_exporter": "python",
   "pygments_lexer": "ipython3",
   "version": "3.8.5"
  }
 },
 "nbformat": 4,
 "nbformat_minor": 2
}
